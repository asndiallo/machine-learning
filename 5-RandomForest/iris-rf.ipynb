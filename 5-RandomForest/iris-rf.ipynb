{
 "cells": [
  {
   "cell_type": "code",
   "execution_count": 2,
   "metadata": {
    "collapsed": true
   },
   "outputs": [
    {
     "name": "stdout",
     "output_type": "stream",
     "text": [
      "Collecting mlxtend\n",
      "  Downloading mlxtend-0.19.0-py2.py3-none-any.whl (1.3 MB)\n",
      "Requirement already satisfied: scipy>=1.2.1 in c:\\users\\bejao\\miniconda3\\lib\\site-packages (from mlxtend) (1.7.3)\n",
      "Requirement already satisfied: pandas>=0.24.2 in c:\\users\\bejao\\miniconda3\\lib\\site-packages (from mlxtend) (1.3.5)\n",
      "Requirement already satisfied: scikit-learn>=0.20.3 in c:\\users\\bejao\\miniconda3\\lib\\site-packages (from mlxtend) (1.0.2)\n",
      "Requirement already satisfied: setuptools in c:\\users\\bejao\\miniconda3\\lib\\site-packages (from mlxtend) (58.0.4)\n",
      "Requirement already satisfied: joblib>=0.13.2 in c:\\users\\bejao\\miniconda3\\lib\\site-packages (from mlxtend) (1.1.0)\n",
      "Requirement already satisfied: numpy>=1.16.2 in c:\\users\\bejao\\miniconda3\\lib\\site-packages (from mlxtend) (1.21.5)\n",
      "Requirement already satisfied: matplotlib>=3.0.0 in c:\\users\\bejao\\miniconda3\\lib\\site-packages (from mlxtend) (3.5.1)\n",
      "Requirement already satisfied: pyparsing>=2.2.1 in c:\\users\\bejao\\miniconda3\\lib\\site-packages (from matplotlib>=3.0.0->mlxtend) (3.0.7)\n",
      "Requirement already satisfied: python-dateutil>=2.7 in c:\\users\\bejao\\miniconda3\\lib\\site-packages (from matplotlib>=3.0.0->mlxtend) (2.8.2)\n",
      "Requirement already satisfied: kiwisolver>=1.0.1 in c:\\users\\bejao\\miniconda3\\lib\\site-packages (from matplotlib>=3.0.0->mlxtend) (1.3.2)\n",
      "Requirement already satisfied: pillow>=6.2.0 in c:\\users\\bejao\\miniconda3\\lib\\site-packages (from matplotlib>=3.0.0->mlxtend) (8.4.0)\n",
      "Requirement already satisfied: fonttools>=4.22.0 in c:\\users\\bejao\\miniconda3\\lib\\site-packages (from matplotlib>=3.0.0->mlxtend) (4.30.0)\n",
      "Requirement already satisfied: packaging>=20.0 in c:\\users\\bejao\\miniconda3\\lib\\site-packages (from matplotlib>=3.0.0->mlxtend) (21.3)\n",
      "Requirement already satisfied: cycler>=0.10 in c:\\users\\bejao\\miniconda3\\lib\\site-packages (from matplotlib>=3.0.0->mlxtend) (0.11.0)\n",
      "Requirement already satisfied: pytz>=2017.3 in c:\\users\\bejao\\miniconda3\\lib\\site-packages (from pandas>=0.24.2->mlxtend) (2021.3)\n",
      "Requirement already satisfied: six>=1.5 in c:\\users\\bejao\\miniconda3\\lib\\site-packages (from python-dateutil>=2.7->matplotlib>=3.0.0->mlxtend) (1.16.0)\n",
      "Requirement already satisfied: threadpoolctl>=2.0.0 in c:\\users\\bejao\\miniconda3\\lib\\site-packages (from scikit-learn>=0.20.3->mlxtend) (3.1.0)\n",
      "Installing collected packages: mlxtend\n",
      "Successfully installed mlxtend-0.19.0\n"
     ]
    }
   ],
   "source": [
    "!pip install mlxtend"
   ]
  },
  {
   "cell_type": "code",
   "execution_count": 1,
   "metadata": {},
   "outputs": [],
   "source": [
    "import numpy as np\n",
    "import pandas as pd\n",
    "from sklearn.datasets import load_iris\n",
    "from sklearn.model_selection import train_test_split\n",
    "from sklearn.ensemble import RandomForestClassifier\n",
    "from sklearn import metrics\n",
    "from mlxtend.plotting import plot_confusion_matrix\n",
    "import matplotlib.pyplot as plt"
   ]
  },
  {
   "cell_type": "code",
   "execution_count": 12,
   "metadata": {
    "scrolled": false
   },
   "outputs": [],
   "source": [
    "# iris = load_iris()\n",
    "# iris.feature_names\n",
    "# print(iris['data'])\n",
    "# print(iris['DESCR'])\n",
    "# X, y = iris.data, iris.target\n",
    "# X\n",
    "# iris"
   ]
  },
  {
   "cell_type": "code",
   "execution_count": 13,
   "metadata": {},
   "outputs": [
    {
     "data": {
      "text/html": [
       "<div>\n",
       "<style scoped>\n",
       "    .dataframe tbody tr th:only-of-type {\n",
       "        vertical-align: middle;\n",
       "    }\n",
       "\n",
       "    .dataframe tbody tr th {\n",
       "        vertical-align: top;\n",
       "    }\n",
       "\n",
       "    .dataframe thead th {\n",
       "        text-align: right;\n",
       "    }\n",
       "</style>\n",
       "<table border=\"1\" class=\"dataframe\">\n",
       "  <thead>\n",
       "    <tr style=\"text-align: right;\">\n",
       "      <th></th>\n",
       "      <th>sepal length (cm)</th>\n",
       "      <th>sepal width (cm)</th>\n",
       "      <th>petal length (cm)</th>\n",
       "      <th>petal width (cm)</th>\n",
       "    </tr>\n",
       "  </thead>\n",
       "  <tbody>\n",
       "    <tr>\n",
       "      <th>0</th>\n",
       "      <td>5.1</td>\n",
       "      <td>3.5</td>\n",
       "      <td>1.4</td>\n",
       "      <td>0.2</td>\n",
       "    </tr>\n",
       "    <tr>\n",
       "      <th>1</th>\n",
       "      <td>4.9</td>\n",
       "      <td>3.0</td>\n",
       "      <td>1.4</td>\n",
       "      <td>0.2</td>\n",
       "    </tr>\n",
       "    <tr>\n",
       "      <th>2</th>\n",
       "      <td>4.7</td>\n",
       "      <td>3.2</td>\n",
       "      <td>1.3</td>\n",
       "      <td>0.2</td>\n",
       "    </tr>\n",
       "    <tr>\n",
       "      <th>3</th>\n",
       "      <td>4.6</td>\n",
       "      <td>3.1</td>\n",
       "      <td>1.5</td>\n",
       "      <td>0.2</td>\n",
       "    </tr>\n",
       "    <tr>\n",
       "      <th>4</th>\n",
       "      <td>5.0</td>\n",
       "      <td>3.6</td>\n",
       "      <td>1.4</td>\n",
       "      <td>0.2</td>\n",
       "    </tr>\n",
       "    <tr>\n",
       "      <th>...</th>\n",
       "      <td>...</td>\n",
       "      <td>...</td>\n",
       "      <td>...</td>\n",
       "      <td>...</td>\n",
       "    </tr>\n",
       "    <tr>\n",
       "      <th>145</th>\n",
       "      <td>6.7</td>\n",
       "      <td>3.0</td>\n",
       "      <td>5.2</td>\n",
       "      <td>2.3</td>\n",
       "    </tr>\n",
       "    <tr>\n",
       "      <th>146</th>\n",
       "      <td>6.3</td>\n",
       "      <td>2.5</td>\n",
       "      <td>5.0</td>\n",
       "      <td>1.9</td>\n",
       "    </tr>\n",
       "    <tr>\n",
       "      <th>147</th>\n",
       "      <td>6.5</td>\n",
       "      <td>3.0</td>\n",
       "      <td>5.2</td>\n",
       "      <td>2.0</td>\n",
       "    </tr>\n",
       "    <tr>\n",
       "      <th>148</th>\n",
       "      <td>6.2</td>\n",
       "      <td>3.4</td>\n",
       "      <td>5.4</td>\n",
       "      <td>2.3</td>\n",
       "    </tr>\n",
       "    <tr>\n",
       "      <th>149</th>\n",
       "      <td>5.9</td>\n",
       "      <td>3.0</td>\n",
       "      <td>5.1</td>\n",
       "      <td>1.8</td>\n",
       "    </tr>\n",
       "  </tbody>\n",
       "</table>\n",
       "<p>150 rows × 4 columns</p>\n",
       "</div>"
      ],
      "text/plain": [
       "     sepal length (cm)  sepal width (cm)  petal length (cm)  petal width (cm)\n",
       "0                  5.1               3.5                1.4               0.2\n",
       "1                  4.9               3.0                1.4               0.2\n",
       "2                  4.7               3.2                1.3               0.2\n",
       "3                  4.6               3.1                1.5               0.2\n",
       "4                  5.0               3.6                1.4               0.2\n",
       "..                 ...               ...                ...               ...\n",
       "145                6.7               3.0                5.2               2.3\n",
       "146                6.3               2.5                5.0               1.9\n",
       "147                6.5               3.0                5.2               2.0\n",
       "148                6.2               3.4                5.4               2.3\n",
       "149                5.9               3.0                5.1               1.8\n",
       "\n",
       "[150 rows x 4 columns]"
      ]
     },
     "execution_count": 13,
     "metadata": {},
     "output_type": "execute_result"
    }
   ],
   "source": [
    "pd.DataFrame(X, columns=iris.feature_names)"
   ]
  },
  {
   "cell_type": "code",
   "execution_count": 8,
   "metadata": {},
   "outputs": [
    {
     "data": {
      "text/plain": [
       "array([0, 0, 0, 0, 0, 0, 0, 0, 0, 0, 0, 0, 0, 0, 0, 0, 0, 0, 0, 0, 0, 0,\n",
       "       0, 0, 0, 0, 0, 0, 0, 0, 0, 0, 0, 0, 0, 0, 0, 0, 0, 0, 0, 0, 0, 0,\n",
       "       0, 0, 0, 0, 0, 0, 1, 1, 1, 1, 1, 1, 1, 1, 1, 1, 1, 1, 1, 1, 1, 1,\n",
       "       1, 1, 1, 1, 1, 1, 1, 1, 1, 1, 1, 1, 1, 1, 1, 1, 1, 1, 1, 1, 1, 1,\n",
       "       1, 1, 1, 1, 1, 1, 1, 1, 1, 1, 1, 1, 2, 2, 2, 2, 2, 2, 2, 2, 2, 2,\n",
       "       2, 2, 2, 2, 2, 2, 2, 2, 2, 2, 2, 2, 2, 2, 2, 2, 2, 2, 2, 2, 2, 2,\n",
       "       2, 2, 2, 2, 2, 2, 2, 2, 2, 2, 2, 2, 2, 2, 2, 2, 2, 2])"
      ]
     },
     "execution_count": 8,
     "metadata": {},
     "output_type": "execute_result"
    }
   ],
   "source": [
    "y"
   ]
  },
  {
   "cell_type": "code",
   "execution_count": 14,
   "metadata": {},
   "outputs": [],
   "source": [
    "X_train, X_test, y_train, y_test = train_test_split(X, y, test_size=0.2, stratify=y, random_state=42)"
   ]
  },
  {
   "cell_type": "code",
   "execution_count": 15,
   "metadata": {},
   "outputs": [
    {
     "data": {
      "text/plain": [
       "RandomForestClassifier(n_jobs=-1, random_state=42)"
      ]
     },
     "execution_count": 15,
     "metadata": {},
     "output_type": "execute_result"
    }
   ],
   "source": [
    "rf = RandomForestClassifier(n_jobs=-1, random_state=42)\n",
    "rf"
   ]
  },
  {
   "cell_type": "code",
   "execution_count": 16,
   "metadata": {
    "scrolled": true
   },
   "outputs": [
    {
     "data": {
      "text/plain": [
       "RandomForestClassifier(n_jobs=-1, random_state=42)"
      ]
     },
     "execution_count": 16,
     "metadata": {},
     "output_type": "execute_result"
    }
   ],
   "source": [
    "rf.fit(X_train, y_train)"
   ]
  },
  {
   "cell_type": "code",
   "execution_count": 19,
   "metadata": {},
   "outputs": [
    {
     "data": {
      "text/plain": [
       "100"
      ]
     },
     "execution_count": 19,
     "metadata": {},
     "output_type": "execute_result"
    }
   ],
   "source": [
    "# rf.criterion\n",
    "# print(rf.max_depth)\n",
    "rf.n_estimators # 100 decision tree since version 0.22\n",
    "# rf.classes_\n",
    "\n"
   ]
  },
  {
   "cell_type": "code",
   "execution_count": 20,
   "metadata": {},
   "outputs": [
    {
     "data": {
      "text/plain": [
       "array([0, 2, 1, 1, 0, 1, 0, 0, 2, 1, 2, 2, 2, 1, 0, 0, 0, 1, 1, 1, 0, 2,\n",
       "       1, 1, 2, 2, 1, 0, 2, 0])"
      ]
     },
     "execution_count": 20,
     "metadata": {},
     "output_type": "execute_result"
    }
   ],
   "source": [
    "y_pred = rf.predict(X_test)\n",
    "y_pred"
   ]
  },
  {
   "cell_type": "code",
   "execution_count": 21,
   "metadata": {},
   "outputs": [
    {
     "data": {
      "text/plain": [
       "array([0, 2, 1, 1, 0, 1, 0, 0, 2, 1, 2, 2, 2, 1, 0, 0, 0, 1, 1, 2, 0, 2,\n",
       "       1, 2, 2, 1, 1, 0, 2, 0])"
      ]
     },
     "execution_count": 21,
     "metadata": {},
     "output_type": "execute_result"
    }
   ],
   "source": [
    "y_test"
   ]
  },
  {
   "cell_type": "code",
   "execution_count": 23,
   "metadata": {},
   "outputs": [
    {
     "data": {
      "text/html": [
       "<div>\n",
       "<style scoped>\n",
       "    .dataframe tbody tr th:only-of-type {\n",
       "        vertical-align: middle;\n",
       "    }\n",
       "\n",
       "    .dataframe tbody tr th {\n",
       "        vertical-align: top;\n",
       "    }\n",
       "\n",
       "    .dataframe thead th {\n",
       "        text-align: right;\n",
       "    }\n",
       "</style>\n",
       "<table border=\"1\" class=\"dataframe\">\n",
       "  <thead>\n",
       "    <tr style=\"text-align: right;\">\n",
       "      <th></th>\n",
       "      <th>setosa</th>\n",
       "      <th>versicolor</th>\n",
       "      <th>virginica</th>\n",
       "    </tr>\n",
       "  </thead>\n",
       "  <tbody>\n",
       "    <tr>\n",
       "      <th>setosa</th>\n",
       "      <td>10</td>\n",
       "      <td>0</td>\n",
       "      <td>0</td>\n",
       "    </tr>\n",
       "    <tr>\n",
       "      <th>versicolor</th>\n",
       "      <td>0</td>\n",
       "      <td>9</td>\n",
       "      <td>1</td>\n",
       "    </tr>\n",
       "    <tr>\n",
       "      <th>virginica</th>\n",
       "      <td>0</td>\n",
       "      <td>2</td>\n",
       "      <td>8</td>\n",
       "    </tr>\n",
       "  </tbody>\n",
       "</table>\n",
       "</div>"
      ],
      "text/plain": [
       "            setosa  versicolor  virginica\n",
       "setosa          10           0          0\n",
       "versicolor       0           9          1\n",
       "virginica        0           2          8"
      ]
     },
     "execution_count": 23,
     "metadata": {},
     "output_type": "execute_result"
    }
   ],
   "source": [
    "# conf_mat = metrics.confusion_matrix(y_test, y_pred)\n",
    "# conf_mat\n",
    "pd.DataFrame(conf_mat, columns=iris.target_names, index=iris.target_names)"
   ]
  },
  {
   "cell_type": "code",
   "execution_count": 24,
   "metadata": {},
   "outputs": [
    {
     "data": {
      "text/plain": [
       "(<Figure size 432x288 with 2 Axes>,\n",
       " <AxesSubplot:xlabel='predicted label', ylabel='true label'>)"
      ]
     },
     "execution_count": 24,
     "metadata": {},
     "output_type": "execute_result"
    },
    {
     "data": {
      "image/png": "[encoded data removed]",
      "text/plain": [
       "<Figure size 432x288 with 2 Axes>"
      ]
     },
     "metadata": {
      "needs_background": "light"
     },
     "output_type": "display_data"
    }
   ],
   "source": [
    "plot_confusion_matrix(conf_mat=conf_mat,\n",
    "                                colorbar=True,\n",
    "                                show_absolute=True,\n",
    "                                show_normed=True,\n",
    "                                class_names=iris.target_names)"
   ]
  },
  {
   "cell_type": "code",
   "execution_count": 26,
   "metadata": {},
   "outputs": [
    {
     "data": {
      "text/plain": [
       "0.9"
      ]
     },
     "execution_count": 26,
     "metadata": {},
     "output_type": "execute_result"
    }
   ],
   "source": [
    "metrics.accuracy_score(y_test, y_pred)\n",
    "# (1 - metrics.accuracy_score(y_test, y_pred)) * 100"
   ]
  },
  {
   "cell_type": "code",
   "execution_count": 21,
   "metadata": {},
   "outputs": [
    {
     "data": {
      "text/plain": [
       "9.999999999999998"
      ]
     },
     "execution_count": 21,
     "metadata": {},
     "output_type": "execute_result"
    }
   ],
   "source": [
    "(1 - rf.score(X_test, y_test)) * 100"
   ]
  },
  {
   "cell_type": "markdown",
   "metadata": {},
   "source": [
    "# Tuning : n_estimators, max_features, max_depth, ... "
   ]
  },
  {
   "cell_type": "code",
   "execution_count": 28,
   "metadata": {},
   "outputs": [
    {
     "data": {
      "text/plain": [
       "[1, 2, 3, 4, 5, 6, 7, 8, 9, 10, None]"
      ]
     },
     "execution_count": 28,
     "metadata": {},
     "output_type": "execute_result"
    }
   ],
   "source": [
    "# max_depths ? \n",
    "max_depths = [i for i in np.linspace(start = 1, stop = 10, num = 10, dtype=int)]\n",
    "max_depths.append(None)\n",
    "max_depths"
   ]
  },
  {
   "cell_type": "markdown",
   "metadata": {},
   "source": [
    "## n_estimators (nb d'arbre) "
   ]
  },
  {
   "cell_type": "code",
   "execution_count": 20,
   "metadata": {
    "scrolled": true
   },
   "outputs": [
    {
     "data": {
      "text/plain": [
       "array([  1,   6,  11,  16,  21,  26,  31,  36,  41,  46,  51,  56,  61,\n",
       "        66,  71,  77,  82,  87,  92,  97, 102, 107, 112, 117, 122, 127,\n",
       "       132, 137, 142, 147, 153, 158, 163, 168, 173, 178, 183, 188, 193,\n",
       "       198, 203, 208, 213, 218, 223, 229, 234, 239, 244, 249, 254, 259,\n",
       "       264, 269, 274, 279, 284, 289, 294, 300])"
      ]
     },
     "execution_count": 20,
     "metadata": {},
     "output_type": "execute_result"
    }
   ],
   "source": [
    "n_estimators = np.linspace(start = 1, stop = 300, num = 60, dtype = int)\n",
    "n_estimators"
   ]
  },
  {
   "cell_type": "code",
   "execution_count": 22,
   "metadata": {
    "scrolled": true
   },
   "outputs": [
    {
     "name": "stdout",
     "output_type": "stream",
     "text": [
      "\n",
      "\n",
      "Results : n_estimators = 1 => err_test = 3.333\n",
      "\n",
      "\n",
      "Improvement of 6.66%.\n",
      "\n",
      "\n",
      "Results : n_estimators = 6 => err_test = 10.0\n",
      "\n",
      "\n",
      "Improvement of -0.01%.\n",
      "\n",
      "\n",
      "Results : n_estimators = 11 => err_test = 3.333\n",
      "\n",
      "\n",
      "Improvement of 6.66%.\n",
      "\n",
      "\n",
      "Results : n_estimators = 16 => err_test = 6.667\n",
      "\n",
      "\n",
      "Improvement of 3.32%.\n",
      "\n",
      "\n",
      "Results : n_estimators = 21 => err_test = 6.667\n",
      "\n",
      "\n",
      "Improvement of 3.32%.\n",
      "\n",
      "\n",
      "Results : n_estimators = 26 => err_test = 6.667\n",
      "\n",
      "\n",
      "Improvement of 3.32%.\n",
      "\n",
      "\n",
      "Results : n_estimators = 31 => err_test = 6.667\n",
      "\n",
      "\n",
      "Improvement of 3.32%.\n",
      "\n",
      "\n",
      "Results : n_estimators = 36 => err_test = 6.667\n",
      "\n",
      "\n",
      "Improvement of 3.32%.\n",
      "\n",
      "\n",
      "Results : n_estimators = 41 => err_test = 6.667\n",
      "\n",
      "\n",
      "Improvement of 3.32%.\n",
      "\n",
      "\n",
      "Results : n_estimators = 46 => err_test = 10.0\n",
      "\n",
      "\n",
      "Improvement of -0.01%.\n",
      "\n",
      "\n",
      "Results : n_estimators = 51 => err_test = 10.0\n",
      "\n",
      "\n",
      "Improvement of -0.01%.\n",
      "\n",
      "\n",
      "Results : n_estimators = 56 => err_test = 10.0\n",
      "\n",
      "\n",
      "Improvement of -0.01%.\n",
      "\n",
      "\n",
      "Results : n_estimators = 61 => err_test = 10.0\n",
      "\n",
      "\n",
      "Improvement of -0.01%.\n",
      "\n",
      "\n",
      "Results : n_estimators = 66 => err_test = 10.0\n",
      "\n",
      "\n",
      "Improvement of -0.01%.\n",
      "\n",
      "\n",
      "Results : n_estimators = 71 => err_test = 6.667\n",
      "\n",
      "\n",
      "Improvement of 3.32%.\n",
      "\n",
      "\n",
      "Results : n_estimators = 77 => err_test = 6.667\n",
      "\n",
      "\n",
      "Improvement of 3.32%.\n",
      "\n",
      "\n",
      "Results : n_estimators = 82 => err_test = 6.667\n",
      "\n",
      "\n",
      "Improvement of 3.32%.\n",
      "\n",
      "\n",
      "Results : n_estimators = 87 => err_test = 6.667\n",
      "\n",
      "\n",
      "Improvement of 3.32%.\n",
      "\n",
      "\n",
      "Results : n_estimators = 92 => err_test = 10.0\n",
      "\n",
      "\n",
      "Improvement of -0.01%.\n",
      "\n",
      "\n",
      "Results : n_estimators = 97 => err_test = 10.0\n",
      "\n",
      "\n",
      "Improvement of -0.01%.\n",
      "\n",
      "\n",
      "Results : n_estimators = 102 => err_test = 10.0\n",
      "\n",
      "\n",
      "Improvement of -0.01%.\n",
      "\n",
      "\n",
      "Results : n_estimators = 107 => err_test = 10.0\n",
      "\n",
      "\n",
      "Improvement of -0.01%.\n",
      "\n",
      "\n",
      "Results : n_estimators = 112 => err_test = 10.0\n",
      "\n",
      "\n",
      "Improvement of -0.01%.\n",
      "\n",
      "\n",
      "Results : n_estimators = 117 => err_test = 6.667\n",
      "\n",
      "\n",
      "Improvement of 3.32%.\n",
      "\n",
      "\n",
      "Results : n_estimators = 122 => err_test = 10.0\n",
      "\n",
      "\n",
      "Improvement of -0.01%.\n",
      "\n",
      "\n",
      "Results : n_estimators = 127 => err_test = 10.0\n",
      "\n",
      "\n",
      "Improvement of -0.01%.\n",
      "\n",
      "\n",
      "Results : n_estimators = 132 => err_test = 10.0\n",
      "\n",
      "\n",
      "Improvement of -0.01%.\n",
      "\n",
      "\n",
      "Results : n_estimators = 137 => err_test = 10.0\n",
      "\n",
      "\n",
      "Improvement of -0.01%.\n",
      "\n",
      "\n",
      "Results : n_estimators = 142 => err_test = 10.0\n",
      "\n",
      "\n",
      "Improvement of -0.01%.\n",
      "\n",
      "\n",
      "Results : n_estimators = 147 => err_test = 10.0\n",
      "\n",
      "\n",
      "Improvement of -0.01%.\n",
      "\n",
      "\n",
      "Results : n_estimators = 153 => err_test = 10.0\n",
      "\n",
      "\n",
      "Improvement of -0.01%.\n",
      "\n",
      "\n",
      "Results : n_estimators = 158 => err_test = 10.0\n",
      "\n",
      "\n",
      "Improvement of -0.01%.\n",
      "\n",
      "\n",
      "Results : n_estimators = 163 => err_test = 10.0\n",
      "\n",
      "\n",
      "Improvement of -0.01%.\n",
      "\n",
      "\n",
      "Results : n_estimators = 168 => err_test = 10.0\n",
      "\n",
      "\n",
      "Improvement of -0.01%.\n",
      "\n",
      "\n",
      "Results : n_estimators = 173 => err_test = 10.0\n",
      "\n",
      "\n",
      "Improvement of -0.01%.\n",
      "\n",
      "\n",
      "Results : n_estimators = 178 => err_test = 10.0\n",
      "\n",
      "\n",
      "Improvement of -0.01%.\n",
      "\n",
      "\n",
      "Results : n_estimators = 183 => err_test = 10.0\n",
      "\n",
      "\n",
      "Improvement of -0.01%.\n",
      "\n",
      "\n",
      "Results : n_estimators = 188 => err_test = 10.0\n",
      "\n",
      "\n",
      "Improvement of -0.01%.\n",
      "\n",
      "\n",
      "Results : n_estimators = 193 => err_test = 10.0\n",
      "\n",
      "\n",
      "Improvement of -0.01%.\n",
      "\n",
      "\n",
      "Results : n_estimators = 198 => err_test = 10.0\n",
      "\n",
      "\n",
      "Improvement of -0.01%.\n",
      "\n",
      "\n",
      "Results : n_estimators = 203 => err_test = 10.0\n",
      "\n",
      "\n",
      "Improvement of -0.01%.\n",
      "\n",
      "\n",
      "Results : n_estimators = 208 => err_test = 10.0\n",
      "\n",
      "\n",
      "Improvement of -0.01%.\n",
      "\n",
      "\n",
      "Results : n_estimators = 213 => err_test = 10.0\n",
      "\n",
      "\n",
      "Improvement of -0.01%.\n",
      "\n",
      "\n",
      "Results : n_estimators = 218 => err_test = 10.0\n",
      "\n",
      "\n",
      "Improvement of -0.01%.\n",
      "\n",
      "\n",
      "Results : n_estimators = 223 => err_test = 10.0\n",
      "\n",
      "\n",
      "Improvement of -0.01%.\n",
      "\n",
      "\n",
      "Results : n_estimators = 229 => err_test = 10.0\n",
      "\n",
      "\n",
      "Improvement of -0.01%.\n",
      "\n",
      "\n",
      "Results : n_estimators = 234 => err_test = 10.0\n",
      "\n",
      "\n",
      "Improvement of -0.01%.\n",
      "\n",
      "\n",
      "Results : n_estimators = 239 => err_test = 10.0\n",
      "\n",
      "\n",
      "Improvement of -0.01%.\n",
      "\n",
      "\n",
      "Results : n_estimators = 244 => err_test = 10.0\n",
      "\n",
      "\n",
      "Improvement of -0.01%.\n",
      "\n",
      "\n",
      "Results : n_estimators = 249 => err_test = 10.0\n",
      "\n",
      "\n",
      "Improvement of -0.01%.\n",
      "\n",
      "\n",
      "Results : n_estimators = 254 => err_test = 10.0\n",
      "\n",
      "\n",
      "Improvement of -0.01%.\n",
      "\n",
      "\n",
      "Results : n_estimators = 259 => err_test = 10.0\n",
      "\n",
      "\n",
      "Improvement of -0.01%.\n",
      "\n",
      "\n",
      "Results : n_estimators = 264 => err_test = 10.0\n",
      "\n",
      "\n",
      "Improvement of -0.01%.\n",
      "\n",
      "\n",
      "Results : n_estimators = 269 => err_test = 10.0\n",
      "\n",
      "\n",
      "Improvement of -0.01%.\n",
      "\n",
      "\n",
      "Results : n_estimators = 274 => err_test = 10.0\n",
      "\n",
      "\n",
      "Improvement of -0.01%.\n",
      "\n",
      "\n",
      "Results : n_estimators = 279 => err_test = 10.0\n",
      "\n",
      "\n",
      "Improvement of -0.01%.\n",
      "\n",
      "\n",
      "Results : n_estimators = 284 => err_test = 10.0\n",
      "\n",
      "\n",
      "Improvement of -0.01%.\n",
      "\n",
      "\n",
      "Results : n_estimators = 289 => err_test = 10.0\n",
      "\n",
      "\n",
      "Improvement of -0.01%.\n",
      "\n",
      "\n",
      "Results : n_estimators = 294 => err_test = 10.0\n",
      "\n",
      "\n",
      "Improvement of -0.01%.\n",
      "\n",
      "\n",
      "Results : n_estimators = 300 => err_test = 10.0\n",
      "\n",
      "\n",
      "Improvement of -0.01%.\n"
     ]
    }
   ],
   "source": [
    "err_default = 9.99\n",
    "errors = []\n",
    "for estimator in n_estimators :\n",
    "   rf = RandomForestClassifier(n_estimators=estimator, n_jobs=-1, random_state=42)\n",
    "   rf.fit(X_train, y_train)\n",
    "   err = round((1.0 - rf.score(X_test, y_test)) * 100, 3)\n",
    "   errors.append(err)\n",
    "   print(f\"\\n\\nResults : n_estimators = {rf.n_estimators} => err_test = {err}\\n\\n\")\n",
    "   print('Improvement of {:0.2f}%.'.format(err_default - err))"
   ]
  },
  {
   "cell_type": "code",
   "execution_count": 23,
   "metadata": {},
   "outputs": [
    {
     "data": {
      "text/plain": [
       "Text(0, 0.5, 'err_test')"
      ]
     },
     "execution_count": 23,
     "metadata": {},
     "output_type": "execute_result"
    },
    {
     "data": {
      "image/png": "[encoded data removed]",
      "text/plain": [
       "<Figure size 432x288 with 1 Axes>"
      ]
     },
     "metadata": {
      "needs_background": "light"
     },
     "output_type": "display_data"
    }
   ],
   "source": [
    "plt.plot(n_estimators, errors, label = 'test')\n",
    "plt.xlabel('n_estimators')\n",
    "plt.ylabel('err_test')"
   ]
  },
  {
   "cell_type": "code",
   "execution_count": 27,
   "metadata": {
    "scrolled": true
   },
   "outputs": [
    {
     "name": "stderr",
     "output_type": "stream",
     "text": [
      "C:\\Users\\bejao\\miniconda3\\envs\\spark2.4py3.5\\lib\\site-packages\\sklearn\\ensemble\\forest.py:460: UserWarning: Some inputs do not have OOB scores. This probably means too few trees were used to compute any reliable oob estimates.\n",
      "  warn(\"Some inputs do not have OOB scores. \"\n",
      "C:\\Users\\bejao\\miniconda3\\envs\\spark2.4py3.5\\lib\\site-packages\\sklearn\\ensemble\\forest.py:465: RuntimeWarning: invalid value encountered in true_divide\n",
      "  predictions[k].sum(axis=1)[:, np.newaxis])\n",
      "C:\\Users\\bejao\\miniconda3\\envs\\spark2.4py3.5\\lib\\site-packages\\sklearn\\ensemble\\forest.py:460: UserWarning: Some inputs do not have OOB scores. This probably means too few trees were used to compute any reliable oob estimates.\n",
      "  warn(\"Some inputs do not have OOB scores. \"\n",
      "C:\\Users\\bejao\\miniconda3\\envs\\spark2.4py3.5\\lib\\site-packages\\sklearn\\ensemble\\forest.py:465: RuntimeWarning: invalid value encountered in true_divide\n",
      "  predictions[k].sum(axis=1)[:, np.newaxis])\n"
     ]
    },
    {
     "name": "stdout",
     "output_type": "stream",
     "text": [
      "\n",
      "\n",
      "Results : n_estimators = 1 => acc_oob = 51.667, err_test = 6.667, err_train = 2.5\n",
      "\n",
      "\n",
      "\n",
      "\n",
      "Results : n_estimators = 6 => acc_oob = 88.333, err_test = 10.0, err_train = 0.833\n",
      "\n",
      "\n"
     ]
    },
    {
     "name": "stderr",
     "output_type": "stream",
     "text": [
      "C:\\Users\\bejao\\miniconda3\\envs\\spark2.4py3.5\\lib\\site-packages\\sklearn\\ensemble\\forest.py:460: UserWarning: Some inputs do not have OOB scores. This probably means too few trees were used to compute any reliable oob estimates.\n",
      "  warn(\"Some inputs do not have OOB scores. \"\n",
      "C:\\Users\\bejao\\miniconda3\\envs\\spark2.4py3.5\\lib\\site-packages\\sklearn\\ensemble\\forest.py:465: RuntimeWarning: invalid value encountered in true_divide\n",
      "  predictions[k].sum(axis=1)[:, np.newaxis])\n"
     ]
    },
    {
     "name": "stdout",
     "output_type": "stream",
     "text": [
      "\n",
      "\n",
      "Results : n_estimators = 11 => acc_oob = 92.5, err_test = 6.667, err_train = 0.0\n",
      "\n",
      "\n"
     ]
    },
    {
     "name": "stderr",
     "output_type": "stream",
     "text": [
      "C:\\Users\\bejao\\miniconda3\\envs\\spark2.4py3.5\\lib\\site-packages\\sklearn\\ensemble\\forest.py:460: UserWarning: Some inputs do not have OOB scores. This probably means too few trees were used to compute any reliable oob estimates.\n",
      "  warn(\"Some inputs do not have OOB scores. \"\n",
      "C:\\Users\\bejao\\miniconda3\\envs\\spark2.4py3.5\\lib\\site-packages\\sklearn\\ensemble\\forest.py:465: RuntimeWarning: invalid value encountered in true_divide\n",
      "  predictions[k].sum(axis=1)[:, np.newaxis])\n"
     ]
    },
    {
     "name": "stdout",
     "output_type": "stream",
     "text": [
      "\n",
      "\n",
      "Results : n_estimators = 16 => acc_oob = 92.5, err_test = 6.667, err_train = 0.0\n",
      "\n",
      "\n",
      "\n",
      "\n",
      "Results : n_estimators = 21 => acc_oob = 95.0, err_test = 3.333, err_train = 0.0\n",
      "\n",
      "\n",
      "\n",
      "\n",
      "Results : n_estimators = 26 => acc_oob = 94.167, err_test = 10.0, err_train = 0.0\n",
      "\n",
      "\n",
      "\n",
      "\n",
      "Results : n_estimators = 31 => acc_oob = 95.833, err_test = 3.333, err_train = 0.0\n",
      "\n",
      "\n",
      "\n",
      "\n",
      "Results : n_estimators = 36 => acc_oob = 94.167, err_test = 6.667, err_train = 0.833\n",
      "\n",
      "\n",
      "\n",
      "\n",
      "Results : n_estimators = 41 => acc_oob = 95.0, err_test = 10.0, err_train = 0.0\n",
      "\n",
      "\n",
      "\n",
      "\n",
      "Results : n_estimators = 46 => acc_oob = 95.0, err_test = 10.0, err_train = 0.0\n",
      "\n",
      "\n",
      "\n",
      "\n",
      "Results : n_estimators = 51 => acc_oob = 95.0, err_test = 6.667, err_train = 0.0\n",
      "\n",
      "\n",
      "\n",
      "\n",
      "Results : n_estimators = 56 => acc_oob = 95.0, err_test = 6.667, err_train = 0.0\n",
      "\n",
      "\n",
      "\n",
      "\n",
      "Results : n_estimators = 61 => acc_oob = 95.833, err_test = 6.667, err_train = 0.833\n",
      "\n",
      "\n",
      "\n",
      "\n",
      "Results : n_estimators = 66 => acc_oob = 95.833, err_test = 6.667, err_train = 0.0\n",
      "\n",
      "\n",
      "\n",
      "\n",
      "Results : n_estimators = 71 => acc_oob = 95.0, err_test = 3.333, err_train = 0.0\n",
      "\n",
      "\n",
      "\n",
      "\n",
      "Results : n_estimators = 77 => acc_oob = 95.0, err_test = 6.667, err_train = 0.0\n",
      "\n",
      "\n",
      "\n",
      "\n",
      "Results : n_estimators = 82 => acc_oob = 95.833, err_test = 6.667, err_train = 0.0\n",
      "\n",
      "\n",
      "\n",
      "\n",
      "Results : n_estimators = 87 => acc_oob = 94.167, err_test = 6.667, err_train = 0.0\n",
      "\n",
      "\n",
      "\n",
      "\n",
      "Results : n_estimators = 92 => acc_oob = 95.0, err_test = 6.667, err_train = 0.0\n",
      "\n",
      "\n",
      "\n",
      "\n",
      "Results : n_estimators = 97 => acc_oob = 95.0, err_test = 6.667, err_train = 0.0\n",
      "\n",
      "\n",
      "\n",
      "\n",
      "Results : n_estimators = 102 => acc_oob = 94.167, err_test = 3.333, err_train = 0.0\n",
      "\n",
      "\n",
      "\n",
      "\n",
      "Results : n_estimators = 107 => acc_oob = 95.0, err_test = 6.667, err_train = 0.0\n",
      "\n",
      "\n",
      "\n",
      "\n",
      "Results : n_estimators = 112 => acc_oob = 94.167, err_test = 6.667, err_train = 0.0\n",
      "\n",
      "\n",
      "\n",
      "\n",
      "Results : n_estimators = 117 => acc_oob = 95.0, err_test = 6.667, err_train = 0.0\n",
      "\n",
      "\n",
      "\n",
      "\n",
      "Results : n_estimators = 122 => acc_oob = 94.167, err_test = 6.667, err_train = 0.0\n",
      "\n",
      "\n",
      "\n",
      "\n",
      "Results : n_estimators = 127 => acc_oob = 94.167, err_test = 3.333, err_train = 0.0\n",
      "\n",
      "\n",
      "\n",
      "\n",
      "Results : n_estimators = 132 => acc_oob = 95.0, err_test = 6.667, err_train = 0.0\n",
      "\n",
      "\n",
      "\n",
      "\n",
      "Results : n_estimators = 137 => acc_oob = 95.0, err_test = 6.667, err_train = 0.0\n",
      "\n",
      "\n",
      "\n",
      "\n",
      "Results : n_estimators = 142 => acc_oob = 94.167, err_test = 6.667, err_train = 0.0\n",
      "\n",
      "\n",
      "\n",
      "\n",
      "Results : n_estimators = 147 => acc_oob = 95.0, err_test = 6.667, err_train = 0.0\n",
      "\n",
      "\n",
      "\n",
      "\n",
      "Results : n_estimators = 153 => acc_oob = 94.167, err_test = 6.667, err_train = 0.0\n",
      "\n",
      "\n",
      "\n",
      "\n",
      "Results : n_estimators = 158 => acc_oob = 95.0, err_test = 6.667, err_train = 0.0\n",
      "\n",
      "\n",
      "\n",
      "\n",
      "Results : n_estimators = 163 => acc_oob = 95.0, err_test = 6.667, err_train = 0.0\n",
      "\n",
      "\n",
      "\n",
      "\n",
      "Results : n_estimators = 168 => acc_oob = 95.0, err_test = 6.667, err_train = 0.0\n",
      "\n",
      "\n",
      "\n",
      "\n",
      "Results : n_estimators = 173 => acc_oob = 95.0, err_test = 6.667, err_train = 0.0\n",
      "\n",
      "\n",
      "\n",
      "\n",
      "Results : n_estimators = 178 => acc_oob = 95.0, err_test = 6.667, err_train = 0.0\n",
      "\n",
      "\n",
      "\n",
      "\n",
      "Results : n_estimators = 183 => acc_oob = 95.0, err_test = 3.333, err_train = 0.0\n",
      "\n",
      "\n",
      "\n",
      "\n",
      "Results : n_estimators = 188 => acc_oob = 95.0, err_test = 6.667, err_train = 0.0\n",
      "\n",
      "\n",
      "\n",
      "\n",
      "Results : n_estimators = 193 => acc_oob = 95.0, err_test = 6.667, err_train = 0.0\n",
      "\n",
      "\n",
      "\n",
      "\n",
      "Results : n_estimators = 198 => acc_oob = 95.833, err_test = 6.667, err_train = 0.0\n",
      "\n",
      "\n",
      "\n",
      "\n",
      "Results : n_estimators = 203 => acc_oob = 95.0, err_test = 6.667, err_train = 0.0\n",
      "\n",
      "\n",
      "\n",
      "\n",
      "Results : n_estimators = 208 => acc_oob = 95.0, err_test = 6.667, err_train = 0.0\n",
      "\n",
      "\n",
      "\n",
      "\n",
      "Results : n_estimators = 213 => acc_oob = 95.833, err_test = 6.667, err_train = 0.0\n",
      "\n",
      "\n",
      "\n",
      "\n",
      "Results : n_estimators = 218 => acc_oob = 95.0, err_test = 6.667, err_train = 0.0\n",
      "\n",
      "\n",
      "\n",
      "\n",
      "Results : n_estimators = 223 => acc_oob = 95.0, err_test = 6.667, err_train = 0.0\n",
      "\n",
      "\n",
      "\n",
      "\n",
      "Results : n_estimators = 229 => acc_oob = 95.833, err_test = 6.667, err_train = 0.0\n",
      "\n",
      "\n",
      "\n",
      "\n",
      "Results : n_estimators = 234 => acc_oob = 95.0, err_test = 3.333, err_train = 0.0\n",
      "\n",
      "\n",
      "\n",
      "\n",
      "Results : n_estimators = 239 => acc_oob = 94.167, err_test = 6.667, err_train = 0.0\n",
      "\n",
      "\n",
      "\n",
      "\n",
      "Results : n_estimators = 244 => acc_oob = 95.0, err_test = 6.667, err_train = 0.0\n",
      "\n",
      "\n",
      "\n",
      "\n",
      "Results : n_estimators = 249 => acc_oob = 95.0, err_test = 3.333, err_train = 0.0\n",
      "\n",
      "\n",
      "\n",
      "\n",
      "Results : n_estimators = 254 => acc_oob = 94.167, err_test = 3.333, err_train = 0.0\n",
      "\n",
      "\n",
      "\n",
      "\n",
      "Results : n_estimators = 259 => acc_oob = 95.0, err_test = 6.667, err_train = 0.0\n",
      "\n",
      "\n",
      "\n",
      "\n",
      "Results : n_estimators = 264 => acc_oob = 94.167, err_test = 6.667, err_train = 0.0\n",
      "\n",
      "\n",
      "\n",
      "\n",
      "Results : n_estimators = 269 => acc_oob = 95.833, err_test = 6.667, err_train = 0.0\n",
      "\n",
      "\n",
      "\n",
      "\n",
      "Results : n_estimators = 274 => acc_oob = 95.0, err_test = 6.667, err_train = 0.0\n",
      "\n",
      "\n",
      "\n",
      "\n",
      "Results : n_estimators = 279 => acc_oob = 95.0, err_test = 3.333, err_train = 0.0\n",
      "\n",
      "\n",
      "\n",
      "\n",
      "Results : n_estimators = 284 => acc_oob = 95.0, err_test = 6.667, err_train = 0.0\n",
      "\n",
      "\n",
      "\n",
      "\n",
      "Results : n_estimators = 289 => acc_oob = 95.0, err_test = 6.667, err_train = 0.0\n",
      "\n",
      "\n",
      "\n",
      "\n",
      "Results : n_estimators = 294 => acc_oob = 95.0, err_test = 6.667, err_train = 0.0\n",
      "\n",
      "\n",
      "\n",
      "\n",
      "Results : n_estimators = 300 => acc_oob = 95.0, err_test = 6.667, err_train = 0.0\n",
      "\n",
      "\n"
     ]
    }
   ],
   "source": [
    "n_estimators = np.linspace(start = 1, stop = 300, num = 60, dtype = int)\n",
    "errors = []\n",
    "errors_test, errors_train, accuracy_oob = [], [], []\n",
    "for estimator in n_estimators :\n",
    "    rf = RandomForestClassifier(n_estimators=estimator, oob_score = True, n_jobs=-1)\n",
    "    rf.fit(X_train, y_train)\n",
    "    y_pred = rf.predict(X_test)\n",
    "    err_test = round((1.0 - metrics.accuracy_score(y_test, y_pred)) * 100, 3)\n",
    "    errors_test.append(err_test)\n",
    "    train_pred = rf.predict(X_train)\n",
    "    err_train = round((1.0 - metrics.accuracy_score(y_train, train_pred)) * 100, 3)\n",
    "    errors_train.append(err_train)\n",
    "    acc_oob = round(rf.oob_score_ * 100, 3)\n",
    "    accuracy_oob.append(acc_oob)\n",
    "    print(f\"\\n\\nResults : n_estimators = {rf.n_estimators} => acc_oob = {acc_oob}, err_test = {err_test}, err_train = {err_train}\\n\\n\")"
   ]
  },
  {
   "cell_type": "code",
   "execution_count": 32,
   "metadata": {
    "scrolled": true
   },
   "outputs": [
    {
     "data": {
      "text/plain": [
       "<matplotlib.legend.Legend at 0x2bb0f8b0ba8>"
      ]
     },
     "execution_count": 32,
     "metadata": {},
     "output_type": "execute_result"
    },
    {
     "data": {
      "image/png": "[encoded data removed]",
      "text/plain": [
       "<Figure size 432x288 with 1 Axes>"
      ]
     },
     "metadata": {
      "needs_background": "light"
     },
     "output_type": "display_data"
    }
   ],
   "source": [
    "plt.plot(n_estimators, errors_train, label = 'err_train')\n",
    "plt.plot(n_estimators, errors_test, label = 'err_test')\n",
    "plt.plot(n_estimators, accuracy_oob, label = 'acc_oob')\n",
    "plt.legend()"
   ]
  },
  {
   "cell_type": "code",
   "execution_count": 53,
   "metadata": {},
   "outputs": [
    {
     "data": {
      "text/plain": [
       "0.050000000000000044"
      ]
     },
     "execution_count": 53,
     "metadata": {},
     "output_type": "execute_result"
    }
   ],
   "source": [
    "1-rf.oob_score_"
   ]
  },
  {
   "cell_type": "code",
   "execution_count": 29,
   "metadata": {
    "scrolled": true
   },
   "outputs": [
    {
     "name": "stdout",
     "output_type": "stream",
     "text": [
      "\n",
      "\n",
      "Results : max_depth = 1 => err_test = 3.333\n",
      "\n",
      "Improvement of 6.657%\n",
      "\n",
      "\n",
      "\n",
      "\n",
      "Results : max_depth = 2 => err_test = 10.0\n",
      "\n",
      "Improvement of -0.009999999999999787%\n",
      "\n",
      "\n",
      "\n",
      "\n",
      "Results : max_depth = 3 => err_test = 3.333\n",
      "\n",
      "Improvement of 6.657%\n",
      "\n",
      "\n",
      "\n",
      "\n",
      "Results : max_depth = 4 => err_test = 3.333\n",
      "\n",
      "Improvement of 6.657%\n",
      "\n",
      "\n",
      "\n",
      "\n",
      "Results : max_depth = 5 => err_test = 6.667\n",
      "\n",
      "Improvement of 3.3230000000000004%\n",
      "\n",
      "\n",
      "\n",
      "\n",
      "Results : max_depth = 6 => err_test = 10.0\n",
      "\n",
      "Improvement of -0.009999999999999787%\n",
      "\n",
      "\n",
      "\n",
      "\n",
      "Results : max_depth = 7 => err_test = 10.0\n",
      "\n",
      "Improvement of -0.009999999999999787%\n",
      "\n",
      "\n",
      "\n",
      "\n",
      "Results : max_depth = 8 => err_test = 10.0\n",
      "\n",
      "Improvement of -0.009999999999999787%\n",
      "\n",
      "\n",
      "\n",
      "\n",
      "Results : max_depth = 9 => err_test = 10.0\n",
      "\n",
      "Improvement of -0.009999999999999787%\n",
      "\n",
      "\n",
      "\n",
      "\n",
      "Results : max_depth = 10 => err_test = 10.0\n",
      "\n",
      "Improvement of -0.009999999999999787%\n",
      "\n",
      "\n",
      "\n",
      "\n",
      "Results : max_depth = None => err_test = 10.0\n",
      "\n",
      "Improvement of -0.009999999999999787%\n",
      "\n",
      "\n"
     ]
    }
   ],
   "source": [
    "errors = []\n",
    "err_default = 9.99\n",
    "for max_depth in max_depths:\n",
    "    rf = RandomForestClassifier(max_depth=max_depth, n_jobs=-1, random_state=42)\n",
    "    rf.fit(X_train, y_train)\n",
    "    err = round((1.0 - rf.score(X_test, y_test)) * 100, 3)\n",
    "    errors.append(err)\n",
    "    print(f\"\\n\\nResults : max_depth = {rf.max_depth} => err_test = {err}\\n\")\n",
    "    print(f'Improvement of {err_default - err}%\\n\\n')"
   ]
  },
  {
   "cell_type": "code",
   "execution_count": 30,
   "metadata": {
    "scrolled": true
   },
   "outputs": [
    {
     "data": {
      "text/plain": [
       "Text(0.5, 0, 'max_depths')"
      ]
     },
     "execution_count": 30,
     "metadata": {},
     "output_type": "execute_result"
    },
    {
     "data": {
      "image/png": "[encoded data removed]",
      "text/plain": [
       "<Figure size 432x288 with 1 Axes>"
      ]
     },
     "metadata": {
      "needs_background": "light"
     },
     "output_type": "display_data"
    }
   ],
   "source": [
    "plt.plot(max_depths, errors, 'b')\n",
    "plt.xlabel('max_depths')"
   ]
  },
  {
   "cell_type": "code",
   "execution_count": 31,
   "metadata": {},
   "outputs": [],
   "source": [
    "from sklearn.model_selection import GridSearchCV"
   ]
  },
  {
   "cell_type": "code",
   "execution_count": 32,
   "metadata": {},
   "outputs": [
    {
     "data": {
      "text/plain": [
       "{'max_features': [2, 3, 4], 'max_depth': [2, 3, 4, 5, None]}"
      ]
     },
     "execution_count": 32,
     "metadata": {},
     "output_type": "execute_result"
    }
   ],
   "source": [
    "param = { \"max_features\":list(range(2, 5, 1)), \"max_depth\":[2, 3, 4, 5, None] }\n",
    "param"
   ]
  },
  {
   "cell_type": "code",
   "execution_count": 33,
   "metadata": {
    "scrolled": false
   },
   "outputs": [
    {
     "data": {
      "text/plain": [
       "GridSearchCV(cv=5,\n",
       "             estimator=RandomForestClassifier(n_estimators=250,\n",
       "                                              random_state=42),\n",
       "             n_jobs=-1,\n",
       "             param_grid={'max_depth': [2, 3, 4, 5, None],\n",
       "                         'max_features': [2, 3, 4]})"
      ]
     },
     "execution_count": 33,
     "metadata": {},
     "output_type": "execute_result"
    }
   ],
   "source": [
    "rf = GridSearchCV(RandomForestClassifier(n_estimators=250, random_state = 42),\n",
    "\t\t\t        param, cv=5, n_jobs = -1)\n",
    "rf\n",
    "rf.fit(X_train, y_train)"
   ]
  },
  {
   "cell_type": "code",
   "execution_count": 34,
   "metadata": {},
   "outputs": [
    {
     "data": {
      "text/html": [
       "<div>\n",
       "<style scoped>\n",
       "    .dataframe tbody tr th:only-of-type {\n",
       "        vertical-align: middle;\n",
       "    }\n",
       "\n",
       "    .dataframe tbody tr th {\n",
       "        vertical-align: top;\n",
       "    }\n",
       "\n",
       "    .dataframe thead th {\n",
       "        text-align: right;\n",
       "    }\n",
       "</style>\n",
       "<table border=\"1\" class=\"dataframe\">\n",
       "  <thead>\n",
       "    <tr style=\"text-align: right;\">\n",
       "      <th></th>\n",
       "      <th>param_max_features</th>\n",
       "      <th>mean_test_score</th>\n",
       "      <th>params</th>\n",
       "    </tr>\n",
       "  </thead>\n",
       "  <tbody>\n",
       "    <tr>\n",
       "      <th>0</th>\n",
       "      <td>2</td>\n",
       "      <td>0.941667</td>\n",
       "      <td>{'max_depth': 2, 'max_features': 2}</td>\n",
       "    </tr>\n",
       "    <tr>\n",
       "      <th>1</th>\n",
       "      <td>3</td>\n",
       "      <td>0.950000</td>\n",
       "      <td>{'max_depth': 2, 'max_features': 3}</td>\n",
       "    </tr>\n",
       "    <tr>\n",
       "      <th>2</th>\n",
       "      <td>4</td>\n",
       "      <td>0.950000</td>\n",
       "      <td>{'max_depth': 2, 'max_features': 4}</td>\n",
       "    </tr>\n",
       "    <tr>\n",
       "      <th>3</th>\n",
       "      <td>2</td>\n",
       "      <td>0.950000</td>\n",
       "      <td>{'max_depth': 3, 'max_features': 2}</td>\n",
       "    </tr>\n",
       "    <tr>\n",
       "      <th>4</th>\n",
       "      <td>3</td>\n",
       "      <td>0.950000</td>\n",
       "      <td>{'max_depth': 3, 'max_features': 3}</td>\n",
       "    </tr>\n",
       "    <tr>\n",
       "      <th>5</th>\n",
       "      <td>4</td>\n",
       "      <td>0.941667</td>\n",
       "      <td>{'max_depth': 3, 'max_features': 4}</td>\n",
       "    </tr>\n",
       "    <tr>\n",
       "      <th>6</th>\n",
       "      <td>2</td>\n",
       "      <td>0.950000</td>\n",
       "      <td>{'max_depth': 4, 'max_features': 2}</td>\n",
       "    </tr>\n",
       "    <tr>\n",
       "      <th>7</th>\n",
       "      <td>3</td>\n",
       "      <td>0.950000</td>\n",
       "      <td>{'max_depth': 4, 'max_features': 3}</td>\n",
       "    </tr>\n",
       "    <tr>\n",
       "      <th>8</th>\n",
       "      <td>4</td>\n",
       "      <td>0.950000</td>\n",
       "      <td>{'max_depth': 4, 'max_features': 4}</td>\n",
       "    </tr>\n",
       "    <tr>\n",
       "      <th>9</th>\n",
       "      <td>2</td>\n",
       "      <td>0.950000</td>\n",
       "      <td>{'max_depth': 5, 'max_features': 2}</td>\n",
       "    </tr>\n",
       "    <tr>\n",
       "      <th>10</th>\n",
       "      <td>3</td>\n",
       "      <td>0.950000</td>\n",
       "      <td>{'max_depth': 5, 'max_features': 3}</td>\n",
       "    </tr>\n",
       "    <tr>\n",
       "      <th>11</th>\n",
       "      <td>4</td>\n",
       "      <td>0.950000</td>\n",
       "      <td>{'max_depth': 5, 'max_features': 4}</td>\n",
       "    </tr>\n",
       "    <tr>\n",
       "      <th>12</th>\n",
       "      <td>2</td>\n",
       "      <td>0.950000</td>\n",
       "      <td>{'max_depth': None, 'max_features': 2}</td>\n",
       "    </tr>\n",
       "    <tr>\n",
       "      <th>13</th>\n",
       "      <td>3</td>\n",
       "      <td>0.950000</td>\n",
       "      <td>{'max_depth': None, 'max_features': 3}</td>\n",
       "    </tr>\n",
       "    <tr>\n",
       "      <th>14</th>\n",
       "      <td>4</td>\n",
       "      <td>0.950000</td>\n",
       "      <td>{'max_depth': None, 'max_features': 4}</td>\n",
       "    </tr>\n",
       "  </tbody>\n",
       "</table>\n",
       "</div>"
      ],
      "text/plain": [
       "   param_max_features  mean_test_score                                  params\n",
       "0                   2         0.941667     {'max_depth': 2, 'max_features': 2}\n",
       "1                   3         0.950000     {'max_depth': 2, 'max_features': 3}\n",
       "2                   4         0.950000     {'max_depth': 2, 'max_features': 4}\n",
       "3                   2         0.950000     {'max_depth': 3, 'max_features': 2}\n",
       "4                   3         0.950000     {'max_depth': 3, 'max_features': 3}\n",
       "5                   4         0.941667     {'max_depth': 3, 'max_features': 4}\n",
       "6                   2         0.950000     {'max_depth': 4, 'max_features': 2}\n",
       "7                   3         0.950000     {'max_depth': 4, 'max_features': 3}\n",
       "8                   4         0.950000     {'max_depth': 4, 'max_features': 4}\n",
       "9                   2         0.950000     {'max_depth': 5, 'max_features': 2}\n",
       "10                  3         0.950000     {'max_depth': 5, 'max_features': 3}\n",
       "11                  4         0.950000     {'max_depth': 5, 'max_features': 4}\n",
       "12                  2         0.950000  {'max_depth': None, 'max_features': 2}\n",
       "13                  3         0.950000  {'max_depth': None, 'max_features': 3}\n",
       "14                  4         0.950000  {'max_depth': None, 'max_features': 4}"
      ]
     },
     "execution_count": 34,
     "metadata": {},
     "output_type": "execute_result"
    }
   ],
   "source": [
    "pd.DataFrame(rf.cv_results_)[['param_max_features', 'mean_test_score', 'params']]\n",
    "# rf.best_estimator_"
   ]
  },
  {
   "cell_type": "code",
   "execution_count": 39,
   "metadata": {},
   "outputs": [
    {
     "data": {
      "text/plain": [
       "0.033333333333333326"
      ]
     },
     "execution_count": 39,
     "metadata": {},
     "output_type": "execute_result"
    }
   ],
   "source": [
    "1-rf.score(X_test, y_test)"
   ]
  },
  {
   "cell_type": "code",
   "execution_count": 31,
   "metadata": {},
   "outputs": [
    {
     "data": {
      "text/html": [
       "<div>\n",
       "<style scoped>\n",
       "    .dataframe tbody tr th:only-of-type {\n",
       "        vertical-align: middle;\n",
       "    }\n",
       "\n",
       "    .dataframe tbody tr th {\n",
       "        vertical-align: top;\n",
       "    }\n",
       "\n",
       "    .dataframe thead th {\n",
       "        text-align: right;\n",
       "    }\n",
       "</style>\n",
       "<table border=\"1\" class=\"dataframe\">\n",
       "  <thead>\n",
       "    <tr style=\"text-align: right;\">\n",
       "      <th></th>\n",
       "      <th>feature</th>\n",
       "      <th>importance</th>\n",
       "    </tr>\n",
       "  </thead>\n",
       "  <tbody>\n",
       "    <tr>\n",
       "      <th>0</th>\n",
       "      <td>sepal length (cm)</td>\n",
       "      <td>0.01</td>\n",
       "    </tr>\n",
       "    <tr>\n",
       "      <th>1</th>\n",
       "      <td>sepal width (cm)</td>\n",
       "      <td>0.01</td>\n",
       "    </tr>\n",
       "    <tr>\n",
       "      <th>2</th>\n",
       "      <td>petal length (cm)</td>\n",
       "      <td>47.76</td>\n",
       "    </tr>\n",
       "    <tr>\n",
       "      <th>3</th>\n",
       "      <td>petal width (cm)</td>\n",
       "      <td>52.22</td>\n",
       "    </tr>\n",
       "  </tbody>\n",
       "</table>\n",
       "</div>"
      ],
      "text/plain": [
       "             feature  importance\n",
       "0  sepal length (cm)        0.01\n",
       "1   sepal width (cm)        0.01\n",
       "2  petal length (cm)       47.76\n",
       "3   petal width (cm)       52.22"
      ]
     },
     "execution_count": 31,
     "metadata": {},
     "output_type": "execute_result"
    }
   ],
   "source": [
    "# Créer 1df qui contient les features et leur importance\n",
    "feature = [column for column in iris.feature_names]\n",
    "importance = np.round(rf.best_estimator_.feature_importances_ * 100, 2)\n",
    "feature_importance = pd.DataFrame({'feature' : feature, 'importance' : importance})\n",
    "feature_importance"
   ]
  },
  {
   "cell_type": "code",
   "execution_count": 32,
   "metadata": {},
   "outputs": [
    {
     "data": {
      "text/html": [
       "<div>\n",
       "<style scoped>\n",
       "    .dataframe tbody tr th:only-of-type {\n",
       "        vertical-align: middle;\n",
       "    }\n",
       "\n",
       "    .dataframe tbody tr th {\n",
       "        vertical-align: top;\n",
       "    }\n",
       "\n",
       "    .dataframe thead th {\n",
       "        text-align: right;\n",
       "    }\n",
       "</style>\n",
       "<table border=\"1\" class=\"dataframe\">\n",
       "  <thead>\n",
       "    <tr style=\"text-align: right;\">\n",
       "      <th></th>\n",
       "      <th>feature</th>\n",
       "      <th>importance</th>\n",
       "    </tr>\n",
       "  </thead>\n",
       "  <tbody>\n",
       "    <tr>\n",
       "      <th>3</th>\n",
       "      <td>petal width (cm)</td>\n",
       "      <td>0.522232</td>\n",
       "    </tr>\n",
       "    <tr>\n",
       "      <th>2</th>\n",
       "      <td>petal length (cm)</td>\n",
       "      <td>0.477635</td>\n",
       "    </tr>\n",
       "    <tr>\n",
       "      <th>0</th>\n",
       "      <td>sepal length (cm)</td>\n",
       "      <td>0.000070</td>\n",
       "    </tr>\n",
       "    <tr>\n",
       "      <th>1</th>\n",
       "      <td>sepal width (cm)</td>\n",
       "      <td>0.000064</td>\n",
       "    </tr>\n",
       "  </tbody>\n",
       "</table>\n",
       "</div>"
      ],
      "text/plain": [
       "             feature  importance\n",
       "3   petal width (cm)    0.522232\n",
       "2  petal length (cm)    0.477635\n",
       "0  sepal length (cm)    0.000070\n",
       "1   sepal width (cm)    0.000064"
      ]
     },
     "execution_count": 32,
     "metadata": {},
     "output_type": "execute_result"
    }
   ],
   "source": [
    "feature_importances = rf.best_estimator_.feature_importances_\n",
    "pd.DataFrame({'feature' : iris.feature_names, 'importance' : feature_importances}).sort_values('importance', ascending=False)"
   ]
  },
  {
   "cell_type": "code",
   "execution_count": 33,
   "metadata": {},
   "outputs": [
    {
     "data": {
      "text/plain": [
       "RandomForestClassifier(max_depth=2, max_features=3, n_estimators=250,\n",
       "                       random_state=42)"
      ]
     },
     "execution_count": 33,
     "metadata": {},
     "output_type": "execute_result"
    }
   ],
   "source": [
    "rf.best_estimator_.feature_importances_"
   ]
  }
 ],
 "metadata": {
  "interpreter": {
   "hash": "da03a2949bd7f7e1e2f8a272eaea5cb5c8effd8622bbe3cc4e7f8a7d557202f6"
  },
  "kernelspec": {
   "display_name": "Python 3 (ipykernel)",
   "language": "python",
   "name": "python3"
  },
  "language_info": {
   "codemirror_mode": {
    "name": "ipython",
    "version": 3
   },
   "file_extension": ".py",
   "mimetype": "text/x-python",
   "name": "python",
   "nbconvert_exporter": "python",
   "pygments_lexer": "ipython3",
   "version": "3.7.6"
  }
 },
 "nbformat": 4,
 "nbformat_minor": 4
}
