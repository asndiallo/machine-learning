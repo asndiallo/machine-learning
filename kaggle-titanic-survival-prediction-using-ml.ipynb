{
 "cells": [
  {
   "cell_type": "code",
   "execution_count": 1,
   "id": "f786ee63",
   "metadata": {
    "_cell_guid": "b1076dfc-b9ad-4769-8c92-a6c4dae69d19",
    "_uuid": "8f2839f25d086af736a60e9eeb907d3b93b6e0e5",
    "execution": {
     "iopub.execute_input": "2023-09-03T17:04:00.542932Z",
     "iopub.status.busy": "2023-09-03T17:04:00.542521Z",
     "iopub.status.idle": "2023-09-03T17:04:00.962157Z",
     "shell.execute_reply": "2023-09-03T17:04:00.960868Z"
    },
    "papermill": {
     "duration": 0.449452,
     "end_time": "2023-09-03T17:04:00.965058",
     "exception": false,
     "start_time": "2023-09-03T17:04:00.515606",
     "status": "completed"
    },
    "tags": []
   },
   "outputs": [
    {
     "name": "stdout",
     "output_type": "stream",
     "text": [
      "/kaggle/input/titanic/train.csv\n",
      "/kaggle/input/titanic/test.csv\n",
      "/kaggle/input/titanic/gender_submission.csv\n"
     ]
    }
   ],
   "source": [
    "# This Python 3 environment comes with many helpful analytics libraries installed\n",
    "# It is defined by the kaggle/python Docker image: https://github.com/kaggle/docker-python\n",
    "# For example, here's several helpful packages to load\n",
    "\n",
    "import numpy as np # linear algebra\n",
    "import pandas as pd # data processing, CSV file I/O (e.g. pd.read_csv)\n",
    "\n",
    "# Input data files are available in the read-only \"../input/\" directory\n",
    "# For example, running this (by clicking run or pressing Shift+Enter) will list all files under the input directory\n",
    "\n",
    "import os\n",
    "for dirname, _, filenames in os.walk('/kaggle/input'):\n",
    "    for filename in filenames:\n",
    "        print(os.path.join(dirname, filename))\n",
    "\n",
    "# You can write up to 20GB to the current directory (/kaggle/working/) that gets preserved as output when you create a version using \"Save & Run All\" \n",
    "# You can also write temporary files to /kaggle/temp/, but they won't be saved outside of the current session"
   ]
  },
  {
   "cell_type": "code",
   "execution_count": 2,
   "id": "2073f793",
   "metadata": {
    "execution": {
     "iopub.execute_input": "2023-09-03T17:04:01.016549Z",
     "iopub.status.busy": "2023-09-03T17:04:01.015988Z",
     "iopub.status.idle": "2023-09-03T17:04:01.049756Z",
     "shell.execute_reply": "2023-09-03T17:04:01.048541Z"
    },
    "papermill": {
     "duration": 0.062968,
     "end_time": "2023-09-03T17:04:01.052759",
     "exception": false,
     "start_time": "2023-09-03T17:04:00.989791",
     "status": "completed"
    },
    "tags": []
   },
   "outputs": [],
   "source": [
    "raw_df=pd.read_csv('/kaggle/input/titanic/train.csv')\n",
    "test_df=pd.read_csv('/kaggle/input/titanic/test.csv')"
   ]
  },
  {
   "cell_type": "code",
   "execution_count": 3,
   "id": "386b39f0",
   "metadata": {
    "execution": {
     "iopub.execute_input": "2023-09-03T17:04:01.104931Z",
     "iopub.status.busy": "2023-09-03T17:04:01.104536Z",
     "iopub.status.idle": "2023-09-03T17:04:01.132768Z",
     "shell.execute_reply": "2023-09-03T17:04:01.131645Z"
    },
    "papermill": {
     "duration": 0.057564,
     "end_time": "2023-09-03T17:04:01.135354",
     "exception": false,
     "start_time": "2023-09-03T17:04:01.077790",
     "status": "completed"
    },
    "tags": []
   },
   "outputs": [
    {
     "data": {
      "text/html": [
       "<div>\n",
       "<style scoped>\n",
       "    .dataframe tbody tr th:only-of-type {\n",
       "        vertical-align: middle;\n",
       "    }\n",
       "\n",
       "    .dataframe tbody tr th {\n",
       "        vertical-align: top;\n",
       "    }\n",
       "\n",
       "    .dataframe thead th {\n",
       "        text-align: right;\n",
       "    }\n",
       "</style>\n",
       "<table border=\"1\" class=\"dataframe\">\n",
       "  <thead>\n",
       "    <tr style=\"text-align: right;\">\n",
       "      <th></th>\n",
       "      <th>PassengerId</th>\n",
       "      <th>Survived</th>\n",
       "      <th>Pclass</th>\n",
       "      <th>Name</th>\n",
       "      <th>Sex</th>\n",
       "      <th>Age</th>\n",
       "      <th>SibSp</th>\n",
       "      <th>Parch</th>\n",
       "      <th>Ticket</th>\n",
       "      <th>Fare</th>\n",
       "      <th>Cabin</th>\n",
       "      <th>Embarked</th>\n",
       "    </tr>\n",
       "  </thead>\n",
       "  <tbody>\n",
       "    <tr>\n",
       "      <th>0</th>\n",
       "      <td>1</td>\n",
       "      <td>0</td>\n",
       "      <td>3</td>\n",
       "      <td>Braund, Mr. Owen Harris</td>\n",
       "      <td>male</td>\n",
       "      <td>22.0</td>\n",
       "      <td>1</td>\n",
       "      <td>0</td>\n",
       "      <td>A/5 21171</td>\n",
       "      <td>7.2500</td>\n",
       "      <td>NaN</td>\n",
       "      <td>S</td>\n",
       "    </tr>\n",
       "    <tr>\n",
       "      <th>1</th>\n",
       "      <td>2</td>\n",
       "      <td>1</td>\n",
       "      <td>1</td>\n",
       "      <td>Cumings, Mrs. John Bradley (Florence Briggs Th...</td>\n",
       "      <td>female</td>\n",
       "      <td>38.0</td>\n",
       "      <td>1</td>\n",
       "      <td>0</td>\n",
       "      <td>PC 17599</td>\n",
       "      <td>71.2833</td>\n",
       "      <td>C85</td>\n",
       "      <td>C</td>\n",
       "    </tr>\n",
       "    <tr>\n",
       "      <th>2</th>\n",
       "      <td>3</td>\n",
       "      <td>1</td>\n",
       "      <td>3</td>\n",
       "      <td>Heikkinen, Miss. Laina</td>\n",
       "      <td>female</td>\n",
       "      <td>26.0</td>\n",
       "      <td>0</td>\n",
       "      <td>0</td>\n",
       "      <td>STON/O2. 3101282</td>\n",
       "      <td>7.9250</td>\n",
       "      <td>NaN</td>\n",
       "      <td>S</td>\n",
       "    </tr>\n",
       "    <tr>\n",
       "      <th>3</th>\n",
       "      <td>4</td>\n",
       "      <td>1</td>\n",
       "      <td>1</td>\n",
       "      <td>Futrelle, Mrs. Jacques Heath (Lily May Peel)</td>\n",
       "      <td>female</td>\n",
       "      <td>35.0</td>\n",
       "      <td>1</td>\n",
       "      <td>0</td>\n",
       "      <td>113803</td>\n",
       "      <td>53.1000</td>\n",
       "      <td>C123</td>\n",
       "      <td>S</td>\n",
       "    </tr>\n",
       "    <tr>\n",
       "      <th>4</th>\n",
       "      <td>5</td>\n",
       "      <td>0</td>\n",
       "      <td>3</td>\n",
       "      <td>Allen, Mr. William Henry</td>\n",
       "      <td>male</td>\n",
       "      <td>35.0</td>\n",
       "      <td>0</td>\n",
       "      <td>0</td>\n",
       "      <td>373450</td>\n",
       "      <td>8.0500</td>\n",
       "      <td>NaN</td>\n",
       "      <td>S</td>\n",
       "    </tr>\n",
       "  </tbody>\n",
       "</table>\n",
       "</div>"
      ],
      "text/plain": [
       "   PassengerId  Survived  Pclass  \\\n",
       "0            1         0       3   \n",
       "1            2         1       1   \n",
       "2            3         1       3   \n",
       "3            4         1       1   \n",
       "4            5         0       3   \n",
       "\n",
       "                                                Name     Sex   Age  SibSp  \\\n",
       "0                            Braund, Mr. Owen Harris    male  22.0      1   \n",
       "1  Cumings, Mrs. John Bradley (Florence Briggs Th...  female  38.0      1   \n",
       "2                             Heikkinen, Miss. Laina  female  26.0      0   \n",
       "3       Futrelle, Mrs. Jacques Heath (Lily May Peel)  female  35.0      1   \n",
       "4                           Allen, Mr. William Henry    male  35.0      0   \n",
       "\n",
       "   Parch            Ticket     Fare Cabin Embarked  \n",
       "0      0         A/5 21171   7.2500   NaN        S  \n",
       "1      0          PC 17599  71.2833   C85        C  \n",
       "2      0  STON/O2. 3101282   7.9250   NaN        S  \n",
       "3      0            113803  53.1000  C123        S  \n",
       "4      0            373450   8.0500   NaN        S  "
      ]
     },
     "execution_count": 3,
     "metadata": {},
     "output_type": "execute_result"
    }
   ],
   "source": [
    "raw_df.head()"
   ]
  },
  {
   "cell_type": "code",
   "execution_count": 4,
   "id": "46ce7c8b",
   "metadata": {
    "execution": {
     "iopub.execute_input": "2023-09-03T17:04:01.187454Z",
     "iopub.status.busy": "2023-09-03T17:04:01.186789Z",
     "iopub.status.idle": "2023-09-03T17:04:01.216969Z",
     "shell.execute_reply": "2023-09-03T17:04:01.215732Z"
    },
    "papermill": {
     "duration": 0.058847,
     "end_time": "2023-09-03T17:04:01.219416",
     "exception": false,
     "start_time": "2023-09-03T17:04:01.160569",
     "status": "completed"
    },
    "tags": []
   },
   "outputs": [
    {
     "name": "stdout",
     "output_type": "stream",
     "text": [
      "<class 'pandas.core.frame.DataFrame'>\n",
      "RangeIndex: 891 entries, 0 to 890\n",
      "Data columns (total 12 columns):\n",
      " #   Column       Non-Null Count  Dtype  \n",
      "---  ------       --------------  -----  \n",
      " 0   PassengerId  891 non-null    int64  \n",
      " 1   Survived     891 non-null    int64  \n",
      " 2   Pclass       891 non-null    int64  \n",
      " 3   Name         891 non-null    object \n",
      " 4   Sex          891 non-null    object \n",
      " 5   Age          714 non-null    float64\n",
      " 6   SibSp        891 non-null    int64  \n",
      " 7   Parch        891 non-null    int64  \n",
      " 8   Ticket       891 non-null    object \n",
      " 9   Fare         891 non-null    float64\n",
      " 10  Cabin        204 non-null    object \n",
      " 11  Embarked     889 non-null    object \n",
      "dtypes: float64(2), int64(5), object(5)\n",
      "memory usage: 83.7+ KB\n"
     ]
    }
   ],
   "source": [
    "raw_df.info()"
   ]
  },
  {
   "cell_type": "code",
   "execution_count": 5,
   "id": "96ba2b1b",
   "metadata": {
    "execution": {
     "iopub.execute_input": "2023-09-03T17:04:01.271720Z",
     "iopub.status.busy": "2023-09-03T17:04:01.271038Z",
     "iopub.status.idle": "2023-09-03T17:04:01.283019Z",
     "shell.execute_reply": "2023-09-03T17:04:01.281647Z"
    },
    "papermill": {
     "duration": 0.04113,
     "end_time": "2023-09-03T17:04:01.285627",
     "exception": false,
     "start_time": "2023-09-03T17:04:01.244497",
     "status": "completed"
    },
    "tags": []
   },
   "outputs": [
    {
     "data": {
      "text/plain": [
       "PassengerId    891\n",
       "Survived         2\n",
       "Pclass           3\n",
       "Name           891\n",
       "Sex              2\n",
       "Age             88\n",
       "SibSp            7\n",
       "Parch            7\n",
       "Ticket         681\n",
       "Fare           248\n",
       "Cabin          147\n",
       "Embarked         3\n",
       "dtype: int64"
      ]
     },
     "execution_count": 5,
     "metadata": {},
     "output_type": "execute_result"
    }
   ],
   "source": [
    "raw_df.nunique()\n"
   ]
  },
  {
   "cell_type": "code",
   "execution_count": 6,
   "id": "b4efb8f4",
   "metadata": {
    "execution": {
     "iopub.execute_input": "2023-09-03T17:04:01.340829Z",
     "iopub.status.busy": "2023-09-03T17:04:01.340409Z",
     "iopub.status.idle": "2023-09-03T17:04:01.351261Z",
     "shell.execute_reply": "2023-09-03T17:04:01.350469Z"
    },
    "papermill": {
     "duration": 0.041388,
     "end_time": "2023-09-03T17:04:01.353457",
     "exception": false,
     "start_time": "2023-09-03T17:04:01.312069",
     "status": "completed"
    },
    "tags": []
   },
   "outputs": [
    {
     "data": {
      "text/plain": [
       "PassengerId    418\n",
       "Pclass           3\n",
       "Name           418\n",
       "Sex              2\n",
       "Age             79\n",
       "SibSp            7\n",
       "Parch            8\n",
       "Ticket         363\n",
       "Fare           169\n",
       "Cabin           76\n",
       "Embarked         3\n",
       "dtype: int64"
      ]
     },
     "execution_count": 6,
     "metadata": {},
     "output_type": "execute_result"
    }
   ],
   "source": [
    "test_df.nunique()"
   ]
  },
  {
   "cell_type": "code",
   "execution_count": 7,
   "id": "8dd6ae5d",
   "metadata": {
    "execution": {
     "iopub.execute_input": "2023-09-03T17:04:01.408564Z",
     "iopub.status.busy": "2023-09-03T17:04:01.407489Z",
     "iopub.status.idle": "2023-09-03T17:04:01.416200Z",
     "shell.execute_reply": "2023-09-03T17:04:01.415430Z"
    },
    "papermill": {
     "duration": 0.038078,
     "end_time": "2023-09-03T17:04:01.418313",
     "exception": false,
     "start_time": "2023-09-03T17:04:01.380235",
     "status": "completed"
    },
    "tags": []
   },
   "outputs": [
    {
     "data": {
      "text/plain": [
       "PassengerId      0\n",
       "Survived         0\n",
       "Pclass           0\n",
       "Name             0\n",
       "Sex              0\n",
       "Age            177\n",
       "SibSp            0\n",
       "Parch            0\n",
       "Ticket           0\n",
       "Fare             0\n",
       "Cabin          687\n",
       "Embarked         2\n",
       "dtype: int64"
      ]
     },
     "execution_count": 7,
     "metadata": {},
     "output_type": "execute_result"
    }
   ],
   "source": [
    "raw_df.isnull().sum()"
   ]
  },
  {
   "cell_type": "code",
   "execution_count": 8,
   "id": "03bc025f",
   "metadata": {
    "execution": {
     "iopub.execute_input": "2023-09-03T17:04:01.473222Z",
     "iopub.status.busy": "2023-09-03T17:04:01.472532Z",
     "iopub.status.idle": "2023-09-03T17:04:01.480625Z",
     "shell.execute_reply": "2023-09-03T17:04:01.479559Z"
    },
    "papermill": {
     "duration": 0.03733,
     "end_time": "2023-09-03T17:04:01.482761",
     "exception": false,
     "start_time": "2023-09-03T17:04:01.445431",
     "status": "completed"
    },
    "tags": []
   },
   "outputs": [
    {
     "data": {
      "text/plain": [
       "PassengerId      0\n",
       "Pclass           0\n",
       "Name             0\n",
       "Sex              0\n",
       "Age             86\n",
       "SibSp            0\n",
       "Parch            0\n",
       "Ticket           0\n",
       "Fare             1\n",
       "Cabin          327\n",
       "Embarked         0\n",
       "dtype: int64"
      ]
     },
     "execution_count": 8,
     "metadata": {},
     "output_type": "execute_result"
    }
   ],
   "source": [
    "test_df.isnull().sum()"
   ]
  },
  {
   "cell_type": "code",
   "execution_count": 9,
   "id": "9aac8537",
   "metadata": {
    "execution": {
     "iopub.execute_input": "2023-09-03T17:04:01.595148Z",
     "iopub.status.busy": "2023-09-03T17:04:01.594724Z",
     "iopub.status.idle": "2023-09-03T17:04:01.604820Z",
     "shell.execute_reply": "2023-09-03T17:04:01.603929Z"
    },
    "papermill": {
     "duration": 0.040444,
     "end_time": "2023-09-03T17:04:01.607131",
     "exception": false,
     "start_time": "2023-09-03T17:04:01.566687",
     "status": "completed"
    },
    "tags": []
   },
   "outputs": [],
   "source": [
    "raw_df['Age']=raw_df['Age'].fillna(raw_df['Age'].median())"
   ]
  },
  {
   "cell_type": "code",
   "execution_count": 10,
   "id": "e0e4029b",
   "metadata": {
    "execution": {
     "iopub.execute_input": "2023-09-03T17:04:01.661146Z",
     "iopub.status.busy": "2023-09-03T17:04:01.660356Z",
     "iopub.status.idle": "2023-09-03T17:04:01.666121Z",
     "shell.execute_reply": "2023-09-03T17:04:01.665322Z"
    },
    "papermill": {
     "duration": 0.035393,
     "end_time": "2023-09-03T17:04:01.668416",
     "exception": false,
     "start_time": "2023-09-03T17:04:01.633023",
     "status": "completed"
    },
    "tags": []
   },
   "outputs": [],
   "source": [
    "raw_df[\"Embarked\"].fillna('U',inplace=True)"
   ]
  },
  {
   "cell_type": "code",
   "execution_count": 11,
   "id": "3cf9d891",
   "metadata": {
    "execution": {
     "iopub.execute_input": "2023-09-03T17:04:01.722871Z",
     "iopub.status.busy": "2023-09-03T17:04:01.722083Z",
     "iopub.status.idle": "2023-09-03T17:04:01.728966Z",
     "shell.execute_reply": "2023-09-03T17:04:01.728172Z"
    },
    "papermill": {
     "duration": 0.037083,
     "end_time": "2023-09-03T17:04:01.731422",
     "exception": false,
     "start_time": "2023-09-03T17:04:01.694339",
     "status": "completed"
    },
    "tags": []
   },
   "outputs": [],
   "source": [
    "test_df['Age']=test_df['Age'].fillna(test_df['Age'].median())\n",
    "test_df[\"Embarked\"].fillna('U',inplace=True)"
   ]
  },
  {
   "cell_type": "code",
   "execution_count": 12,
   "id": "1c6a6ef5",
   "metadata": {
    "execution": {
     "iopub.execute_input": "2023-09-03T17:04:01.785957Z",
     "iopub.status.busy": "2023-09-03T17:04:01.785163Z",
     "iopub.status.idle": "2023-09-03T17:04:01.791164Z",
     "shell.execute_reply": "2023-09-03T17:04:01.790359Z"
    },
    "papermill": {
     "duration": 0.03589,
     "end_time": "2023-09-03T17:04:01.793535",
     "exception": false,
     "start_time": "2023-09-03T17:04:01.757645",
     "status": "completed"
    },
    "tags": []
   },
   "outputs": [],
   "source": [
    "test_df['Fare']=test_df['Fare'].fillna(test_df['Fare'].mean())"
   ]
  },
  {
   "cell_type": "code",
   "execution_count": 13,
   "id": "cc2cca57",
   "metadata": {
    "execution": {
     "iopub.execute_input": "2023-09-03T17:04:01.847428Z",
     "iopub.status.busy": "2023-09-03T17:04:01.846627Z",
     "iopub.status.idle": "2023-09-03T17:04:01.853066Z",
     "shell.execute_reply": "2023-09-03T17:04:01.852203Z"
    },
    "papermill": {
     "duration": 0.036254,
     "end_time": "2023-09-03T17:04:01.855445",
     "exception": false,
     "start_time": "2023-09-03T17:04:01.819191",
     "status": "completed"
    },
    "tags": []
   },
   "outputs": [],
   "source": [
    "raw_df[\"Cabin\"].fillna('UN',inplace=True)\n",
    "test_df[\"Cabin\"].fillna('UN',inplace=True)"
   ]
  },
  {
   "cell_type": "code",
   "execution_count": 14,
   "id": "8e5ff43a",
   "metadata": {
    "execution": {
     "iopub.execute_input": "2023-09-03T17:04:01.911700Z",
     "iopub.status.busy": "2023-09-03T17:04:01.910906Z",
     "iopub.status.idle": "2023-09-03T17:04:01.920705Z",
     "shell.execute_reply": "2023-09-03T17:04:01.919808Z"
    },
    "papermill": {
     "duration": 0.0419,
     "end_time": "2023-09-03T17:04:01.923261",
     "exception": false,
     "start_time": "2023-09-03T17:04:01.881361",
     "status": "completed"
    },
    "tags": []
   },
   "outputs": [
    {
     "name": "stdout",
     "output_type": "stream",
     "text": [
      "PassengerId    0\n",
      "Survived       0\n",
      "Pclass         0\n",
      "Name           0\n",
      "Sex            0\n",
      "Age            0\n",
      "SibSp          0\n",
      "Parch          0\n",
      "Ticket         0\n",
      "Fare           0\n",
      "Cabin          0\n",
      "Embarked       0\n",
      "dtype: int64\n",
      "--------------------------------------------------\n",
      "PassengerId    0\n",
      "Pclass         0\n",
      "Name           0\n",
      "Sex            0\n",
      "Age            0\n",
      "SibSp          0\n",
      "Parch          0\n",
      "Ticket         0\n",
      "Fare           0\n",
      "Cabin          0\n",
      "Embarked       0\n",
      "dtype: int64\n"
     ]
    }
   ],
   "source": [
    "print(raw_df.isnull().sum())\n",
    "print(50*'-')\n",
    "print(test_df.isnull().sum())"
   ]
  },
  {
   "cell_type": "code",
   "execution_count": 15,
   "id": "17a7d9fb",
   "metadata": {
    "execution": {
     "iopub.execute_input": "2023-09-03T17:04:01.978439Z",
     "iopub.status.busy": "2023-09-03T17:04:01.978058Z",
     "iopub.status.idle": "2023-09-03T17:04:04.435449Z",
     "shell.execute_reply": "2023-09-03T17:04:04.434318Z"
    },
    "papermill": {
     "duration": 2.488803,
     "end_time": "2023-09-03T17:04:04.438555",
     "exception": false,
     "start_time": "2023-09-03T17:04:01.949752",
     "status": "completed"
    },
    "tags": []
   },
   "outputs": [],
   "source": [
    "#Data Visualization\n",
    "import plotly.express as px\n",
    "import matplotlib\n",
    "import matplotlib.pyplot as plt\n",
    "import seaborn as sns\n",
    "%matplotlib inline\n",
    "\n",
    "sns.set_style('darkgrid')\n",
    "matplotlib.rcParams['font.size'] = 14\n",
    "matplotlib.rcParams['figure.figsize'] = (10, 6)\n",
    "matplotlib.rcParams['figure.facecolor'] = '#00000000'"
   ]
  },
  {
   "cell_type": "code",
   "execution_count": 16,
   "id": "8f3aa264",
   "metadata": {
    "execution": {
     "iopub.execute_input": "2023-09-03T17:04:04.493515Z",
     "iopub.status.busy": "2023-09-03T17:04:04.492320Z",
     "iopub.status.idle": "2023-09-03T17:04:04.498053Z",
     "shell.execute_reply": "2023-09-03T17:04:04.497253Z"
    },
    "papermill": {
     "duration": 0.035901,
     "end_time": "2023-09-03T17:04:04.500888",
     "exception": false,
     "start_time": "2023-09-03T17:04:04.464987",
     "status": "completed"
    },
    "tags": []
   },
   "outputs": [],
   "source": [
    "import plotly.express as px\n",
    "sns.set_style('darkgrid')\n",
    "matplotlib.rcParams['font.size']=12\n",
    "matplotlib.rcParams['figure.figsize']=(12,8)\n",
    "matplotlib.rcParams['figure.facecolor']='#00000000'"
   ]
  },
  {
   "cell_type": "code",
   "execution_count": 17,
   "id": "4787e0b6",
   "metadata": {
    "execution": {
     "iopub.execute_input": "2023-09-03T17:04:04.555882Z",
     "iopub.status.busy": "2023-09-03T17:04:04.555001Z",
     "iopub.status.idle": "2023-09-03T17:04:06.494492Z",
     "shell.execute_reply": "2023-09-03T17:04:06.493708Z"
    },
    "papermill": {
     "duration": 1.96935,
     "end_time": "2023-09-03T17:04:06.496715",
     "exception": false,
     "start_time": "2023-09-03T17:04:04.527365",
     "status": "completed"
    },
    "tags": []
   },
   "outputs": [
    {
     "data": {
      "text/html": [
       "        <script type=\"text/javascript\">\n",
       "        window.PlotlyConfig = {MathJaxConfig: 'local'};\n",
       "        if (window.MathJax && window.MathJax.Hub && window.MathJax.Hub.Config) {window.MathJax.Hub.Config({SVG: {font: \"STIX-Web\"}});}\n",
       "        if (typeof require !== 'undefined') {\n",
       "        require.undef(\"plotly\");\n",
       "        requirejs.config({\n",
       "            paths: {\n",
       "                'plotly': ['https://cdn.plot.ly/plotly-2.24.1.min']\n",
       "            }\n",
       "        });\n",
       "        require(['plotly'], function(Plotly) {\n",
       "            window._Plotly = Plotly;\n",
       "        });\n",
       "        }\n",
       "        </script>\n",
       "        "
      ]
     },
     "metadata": {},
     "output_type": "display_data"
    },
    {
     "data": {
      "text/html": [
       "<div>                            <div id=\"5aa58278-f8fc-4b5e-8562-a876360f5f76\" class=\"plotly-graph-div\" style=\"height:525px; width:100%;\"></div>            <script type=\"text/javascript\">                require([\"plotly\"], function(Plotly) {                    window.PLOTLYENV=window.PLOTLYENV || {};                                    if (document.getElementById(\"5aa58278-f8fc-4b5e-8562-a876360f5f76\")) {                    Plotly.newPlot(                        \"5aa58278-f8fc-4b5e-8562-a876360f5f76\",                        [{\"alignmentgroup\":\"True\",\"bingroup\":\"x\",\"hovertemplate\":\"Survived=0\\u003cbr\\u003eSex=%{x}\\u003cbr\\u003ecount=%{y}\\u003cextra\\u003e\\u003c\\u002fextra\\u003e\",\"legendgroup\":\"0\",\"marker\":{\"color\":\"#636efa\",\"pattern\":{\"shape\":\"\"}},\"name\":\"0\",\"offsetgroup\":\"0\",\"orientation\":\"v\",\"showlegend\":true,\"x\":[\"male\",\"male\",\"male\",\"male\",\"male\",\"male\",\"male\",\"female\",\"male\",\"female\",\"male\",\"female\",\"male\",\"male\",\"male\",\"male\",\"male\",\"male\",\"male\",\"male\",\"female\",\"female\",\"female\",\"male\",\"male\",\"male\",\"male\",\"female\",\"male\",\"male\",\"male\",\"male\",\"male\",\"male\",\"male\",\"male\",\"male\",\"male\",\"male\",\"male\",\"female\",\"male\",\"male\",\"male\",\"male\",\"male\",\"male\",\"male\",\"male\",\"male\",\"male\",\"male\",\"male\",\"male\",\"male\",\"male\",\"male\",\"male\",\"male\",\"female\",\"male\",\"male\",\"male\",\"male\",\"male\",\"male\",\"male\",\"female\",\"male\",\"female\",\"female\",\"male\",\"male\",\"male\",\"male\",\"female\",\"male\",\"male\",\"male\",\"male\",\"male\",\"male\",\"male\",\"male\",\"female\",\"male\",\"male\",\"male\",\"male\",\"male\",\"female\",\"male\",\"male\",\"male\",\"female\",\"male\",\"male\",\"male\",\"male\",\"male\",\"male\",\"male\",\"male\",\"male\",\"male\",\"male\",\"male\",\"male\",\"male\",\"female\",\"male\",\"male\",\"male\",\"male\",\"male\",\"male\",\"male\",\"male\",\"female\",\"male\",\"male\",\"female\",\"male\",\"male\",\"male\",\"male\",\"male\",\"male\",\"male\",\"male\",\"female\",\"male\",\"male\",\"male\",\"male\",\"female\",\"male\",\"male\",\"male\",\"male\",\"male\",\"male\",\"male\",\"male\",\"male\",\"male\",\"male\",\"male\",\"male\",\"female\",\"male\",\"male\",\"male\",\"female\",\"male\",\"male\",\"male\",\"female\",\"male\",\"male\",\"male\",\"male\",\"female\",\"male\",\"male\",\"female\",\"male\",\"male\",\"female\",\"male\",\"male\",\"male\",\"female\",\"male\",\"male\",\"male\",\"male\",\"female\",\"male\",\"male\",\"male\",\"male\",\"male\",\"male\",\"male\",\"male\",\"male\",\"female\",\"male\",\"male\",\"male\",\"female\",\"male\",\"male\",\"male\",\"female\",\"male\",\"male\",\"male\",\"male\",\"male\",\"male\",\"male\",\"male\",\"male\",\"male\",\"male\",\"male\",\"male\",\"male\",\"male\",\"male\",\"male\",\"male\",\"male\",\"male\",\"male\",\"male\",\"male\",\"female\",\"male\",\"male\",\"female\",\"male\",\"male\",\"male\",\"male\",\"male\",\"male\",\"female\",\"male\",\"male\",\"male\",\"male\",\"male\",\"male\",\"male\",\"male\",\"male\",\"male\",\"female\",\"male\",\"male\",\"male\",\"female\",\"male\",\"female\",\"male\",\"male\",\"male\",\"female\",\"male\",\"male\",\"male\",\"female\",\"male\",\"female\",\"male\",\"male\",\"male\",\"female\",\"male\",\"male\",\"male\",\"male\",\"male\",\"female\",\"male\",\"male\",\"male\",\"male\",\"male\",\"male\",\"male\",\"male\",\"male\",\"male\",\"male\",\"male\",\"male\",\"male\",\"male\",\"male\",\"male\",\"male\",\"male\",\"male\",\"female\",\"male\",\"male\",\"male\",\"male\",\"male\",\"male\",\"male\",\"female\",\"male\",\"male\",\"male\",\"male\",\"male\",\"male\",\"male\",\"male\",\"male\",\"female\",\"male\",\"male\",\"female\",\"female\",\"female\",\"male\",\"male\",\"male\",\"male\",\"male\",\"male\",\"male\",\"male\",\"male\",\"male\",\"male\",\"male\",\"male\",\"male\",\"male\",\"male\",\"female\",\"male\",\"male\",\"female\",\"female\",\"male\",\"male\",\"male\",\"male\",\"male\",\"male\",\"male\",\"male\",\"male\",\"male\",\"male\",\"female\",\"male\",\"male\",\"female\",\"male\",\"male\",\"male\",\"female\",\"male\",\"male\",\"male\",\"male\",\"male\",\"male\",\"male\",\"male\",\"female\",\"male\",\"male\",\"male\",\"male\",\"male\",\"male\",\"male\",\"male\",\"male\",\"female\",\"male\",\"male\",\"male\",\"male\",\"female\",\"male\",\"male\",\"male\",\"male\",\"male\",\"male\",\"male\",\"male\",\"male\",\"male\",\"female\",\"male\",\"male\",\"female\",\"male\",\"male\",\"female\",\"male\",\"male\",\"male\",\"male\",\"female\",\"male\",\"male\",\"female\",\"male\",\"male\",\"male\",\"male\",\"male\",\"male\",\"male\",\"male\",\"male\",\"male\",\"male\",\"male\",\"male\",\"male\",\"female\",\"female\",\"male\",\"male\",\"male\",\"male\",\"male\",\"male\",\"male\",\"male\",\"male\",\"male\",\"male\",\"male\",\"male\",\"female\",\"male\",\"male\",\"male\",\"male\",\"male\",\"male\",\"male\",\"male\",\"male\",\"male\",\"male\",\"male\",\"male\",\"male\",\"female\",\"male\",\"male\",\"male\",\"male\",\"male\",\"female\",\"male\",\"male\",\"male\",\"male\",\"male\",\"male\",\"male\",\"male\",\"male\",\"male\",\"male\",\"male\",\"male\",\"male\",\"male\",\"male\",\"male\",\"female\",\"male\",\"male\",\"male\",\"male\",\"female\",\"male\",\"male\",\"male\",\"male\",\"male\",\"male\",\"male\",\"male\",\"male\",\"male\",\"male\",\"male\",\"female\",\"male\",\"male\",\"male\",\"male\",\"female\",\"male\",\"male\",\"male\",\"female\",\"male\",\"male\",\"male\",\"male\",\"female\",\"male\",\"male\",\"female\",\"male\",\"male\",\"male\",\"male\",\"male\",\"male\",\"male\",\"male\",\"male\",\"male\",\"male\",\"male\",\"male\",\"male\",\"male\",\"male\",\"male\",\"male\",\"male\",\"male\",\"male\",\"male\",\"female\",\"female\",\"male\",\"male\",\"male\",\"female\",\"male\",\"male\",\"male\",\"male\",\"male\",\"male\",\"male\",\"male\",\"male\",\"male\",\"female\",\"male\",\"male\",\"female\",\"male\",\"female\",\"male\"],\"xaxis\":\"x\",\"yaxis\":\"y\",\"type\":\"histogram\"},{\"alignmentgroup\":\"True\",\"bingroup\":\"x\",\"hovertemplate\":\"Survived=1\\u003cbr\\u003eSex=%{x}\\u003cbr\\u003ecount=%{y}\\u003cextra\\u003e\\u003c\\u002fextra\\u003e\",\"legendgroup\":\"1\",\"marker\":{\"color\":\"#EF553B\",\"pattern\":{\"shape\":\"\"}},\"name\":\"1\",\"offsetgroup\":\"1\",\"orientation\":\"v\",\"showlegend\":true,\"x\":[\"female\",\"female\",\"female\",\"female\",\"female\",\"female\",\"female\",\"female\",\"male\",\"female\",\"male\",\"female\",\"male\",\"female\",\"female\",\"female\",\"female\",\"male\",\"female\",\"female\",\"female\",\"female\",\"female\",\"female\",\"male\",\"female\",\"female\",\"female\",\"male\",\"female\",\"female\",\"male\",\"male\",\"female\",\"male\",\"female\",\"female\",\"female\",\"female\",\"male\",\"female\",\"female\",\"male\",\"female\",\"female\",\"male\",\"male\",\"female\",\"female\",\"female\",\"female\",\"female\",\"male\",\"female\",\"female\",\"female\",\"male\",\"female\",\"female\",\"male\",\"female\",\"female\",\"male\",\"female\",\"female\",\"male\",\"female\",\"female\",\"female\",\"male\",\"male\",\"female\",\"male\",\"female\",\"female\",\"female\",\"female\",\"male\",\"male\",\"male\",\"female\",\"female\",\"female\",\"female\",\"female\",\"male\",\"female\",\"female\",\"female\",\"female\",\"female\",\"male\",\"male\",\"female\",\"female\",\"male\",\"female\",\"female\",\"female\",\"female\",\"male\",\"male\",\"male\",\"female\",\"female\",\"female\",\"male\",\"female\",\"female\",\"male\",\"female\",\"male\",\"female\",\"female\",\"female\",\"female\",\"female\",\"female\",\"female\",\"female\",\"female\",\"female\",\"female\",\"female\",\"female\",\"female\",\"female\",\"female\",\"female\",\"female\",\"male\",\"male\",\"female\",\"female\",\"female\",\"female\",\"male\",\"female\",\"female\",\"female\",\"female\",\"female\",\"female\",\"female\",\"male\",\"female\",\"female\",\"female\",\"female\",\"female\",\"female\",\"female\",\"male\",\"male\",\"female\",\"female\",\"female\",\"male\",\"male\",\"female\",\"male\",\"female\",\"female\",\"female\",\"female\",\"male\",\"male\",\"female\",\"female\",\"female\",\"female\",\"female\",\"female\",\"male\",\"male\",\"female\",\"male\",\"female\",\"male\",\"male\",\"male\",\"female\",\"female\",\"male\",\"female\",\"female\",\"female\",\"female\",\"female\",\"male\",\"female\",\"male\",\"female\",\"female\",\"female\",\"male\",\"male\",\"male\",\"male\",\"female\",\"female\",\"female\",\"female\",\"female\",\"female\",\"female\",\"female\",\"female\",\"female\",\"female\",\"female\",\"male\",\"female\",\"male\",\"male\",\"male\",\"male\",\"female\",\"female\",\"female\",\"female\",\"male\",\"male\",\"female\",\"male\",\"female\",\"female\",\"female\",\"male\",\"female\",\"female\",\"female\",\"male\",\"female\",\"female\",\"male\",\"female\",\"male\",\"male\",\"female\",\"female\",\"female\",\"female\",\"female\",\"male\",\"male\",\"female\",\"male\",\"male\",\"female\",\"female\",\"male\",\"female\",\"male\",\"male\",\"female\",\"female\",\"female\",\"male\",\"male\",\"female\",\"female\",\"male\",\"female\",\"male\",\"male\",\"female\",\"male\",\"female\",\"male\",\"female\",\"female\",\"male\",\"female\",\"male\",\"female\",\"male\",\"female\",\"male\",\"female\",\"female\",\"female\",\"male\",\"female\",\"female\",\"female\",\"male\",\"male\",\"female\",\"male\",\"female\",\"female\",\"male\",\"female\",\"male\",\"female\",\"male\",\"female\",\"female\",\"female\",\"female\",\"female\",\"female\",\"female\",\"female\",\"male\",\"female\",\"female\",\"female\",\"male\",\"male\",\"male\",\"female\",\"female\",\"male\",\"female\",\"male\",\"male\",\"female\",\"female\",\"male\",\"female\",\"male\",\"male\",\"female\",\"female\",\"female\",\"female\",\"female\",\"male\",\"female\",\"female\",\"female\",\"female\",\"male\",\"female\",\"female\",\"female\",\"female\",\"female\",\"female\",\"male\"],\"xaxis\":\"x\",\"yaxis\":\"y\",\"type\":\"histogram\"}],                        {\"template\":{\"data\":{\"histogram2dcontour\":[{\"type\":\"histogram2dcontour\",\"colorbar\":{\"outlinewidth\":0,\"ticks\":\"\"},\"colorscale\":[[0.0,\"#0d0887\"],[0.1111111111111111,\"#46039f\"],[0.2222222222222222,\"#7201a8\"],[0.3333333333333333,\"#9c179e\"],[0.4444444444444444,\"#bd3786\"],[0.5555555555555556,\"#d8576b\"],[0.6666666666666666,\"#ed7953\"],[0.7777777777777778,\"#fb9f3a\"],[0.8888888888888888,\"#fdca26\"],[1.0,\"#f0f921\"]]}],\"choropleth\":[{\"type\":\"choropleth\",\"colorbar\":{\"outlinewidth\":0,\"ticks\":\"\"}}],\"histogram2d\":[{\"type\":\"histogram2d\",\"colorbar\":{\"outlinewidth\":0,\"ticks\":\"\"},\"colorscale\":[[0.0,\"#0d0887\"],[0.1111111111111111,\"#46039f\"],[0.2222222222222222,\"#7201a8\"],[0.3333333333333333,\"#9c179e\"],[0.4444444444444444,\"#bd3786\"],[0.5555555555555556,\"#d8576b\"],[0.6666666666666666,\"#ed7953\"],[0.7777777777777778,\"#fb9f3a\"],[0.8888888888888888,\"#fdca26\"],[1.0,\"#f0f921\"]]}],\"heatmap\":[{\"type\":\"heatmap\",\"colorbar\":{\"outlinewidth\":0,\"ticks\":\"\"},\"colorscale\":[[0.0,\"#0d0887\"],[0.1111111111111111,\"#46039f\"],[0.2222222222222222,\"#7201a8\"],[0.3333333333333333,\"#9c179e\"],[0.4444444444444444,\"#bd3786\"],[0.5555555555555556,\"#d8576b\"],[0.6666666666666666,\"#ed7953\"],[0.7777777777777778,\"#fb9f3a\"],[0.8888888888888888,\"#fdca26\"],[1.0,\"#f0f921\"]]}],\"heatmapgl\":[{\"type\":\"heatmapgl\",\"colorbar\":{\"outlinewidth\":0,\"ticks\":\"\"},\"colorscale\":[[0.0,\"#0d0887\"],[0.1111111111111111,\"#46039f\"],[0.2222222222222222,\"#7201a8\"],[0.3333333333333333,\"#9c179e\"],[0.4444444444444444,\"#bd3786\"],[0.5555555555555556,\"#d8576b\"],[0.6666666666666666,\"#ed7953\"],[0.7777777777777778,\"#fb9f3a\"],[0.8888888888888888,\"#fdca26\"],[1.0,\"#f0f921\"]]}],\"contourcarpet\":[{\"type\":\"contourcarpet\",\"colorbar\":{\"outlinewidth\":0,\"ticks\":\"\"}}],\"contour\":[{\"type\":\"contour\",\"colorbar\":{\"outlinewidth\":0,\"ticks\":\"\"},\"colorscale\":[[0.0,\"#0d0887\"],[0.1111111111111111,\"#46039f\"],[0.2222222222222222,\"#7201a8\"],[0.3333333333333333,\"#9c179e\"],[0.4444444444444444,\"#bd3786\"],[0.5555555555555556,\"#d8576b\"],[0.6666666666666666,\"#ed7953\"],[0.7777777777777778,\"#fb9f3a\"],[0.8888888888888888,\"#fdca26\"],[1.0,\"#f0f921\"]]}],\"surface\":[{\"type\":\"surface\",\"colorbar\":{\"outlinewidth\":0,\"ticks\":\"\"},\"colorscale\":[[0.0,\"#0d0887\"],[0.1111111111111111,\"#46039f\"],[0.2222222222222222,\"#7201a8\"],[0.3333333333333333,\"#9c179e\"],[0.4444444444444444,\"#bd3786\"],[0.5555555555555556,\"#d8576b\"],[0.6666666666666666,\"#ed7953\"],[0.7777777777777778,\"#fb9f3a\"],[0.8888888888888888,\"#fdca26\"],[1.0,\"#f0f921\"]]}],\"mesh3d\":[{\"type\":\"mesh3d\",\"colorbar\":{\"outlinewidth\":0,\"ticks\":\"\"}}],\"scatter\":[{\"fillpattern\":{\"fillmode\":\"overlay\",\"size\":10,\"solidity\":0.2},\"type\":\"scatter\"}],\"parcoords\":[{\"type\":\"parcoords\",\"line\":{\"colorbar\":{\"outlinewidth\":0,\"ticks\":\"\"}}}],\"scatterpolargl\":[{\"type\":\"scatterpolargl\",\"marker\":{\"colorbar\":{\"outlinewidth\":0,\"ticks\":\"\"}}}],\"bar\":[{\"error_x\":{\"color\":\"#2a3f5f\"},\"error_y\":{\"color\":\"#2a3f5f\"},\"marker\":{\"line\":{\"color\":\"#E5ECF6\",\"width\":0.5},\"pattern\":{\"fillmode\":\"overlay\",\"size\":10,\"solidity\":0.2}},\"type\":\"bar\"}],\"scattergeo\":[{\"type\":\"scattergeo\",\"marker\":{\"colorbar\":{\"outlinewidth\":0,\"ticks\":\"\"}}}],\"scatterpolar\":[{\"type\":\"scatterpolar\",\"marker\":{\"colorbar\":{\"outlinewidth\":0,\"ticks\":\"\"}}}],\"histogram\":[{\"marker\":{\"pattern\":{\"fillmode\":\"overlay\",\"size\":10,\"solidity\":0.2}},\"type\":\"histogram\"}],\"scattergl\":[{\"type\":\"scattergl\",\"marker\":{\"colorbar\":{\"outlinewidth\":0,\"ticks\":\"\"}}}],\"scatter3d\":[{\"type\":\"scatter3d\",\"line\":{\"colorbar\":{\"outlinewidth\":0,\"ticks\":\"\"}},\"marker\":{\"colorbar\":{\"outlinewidth\":0,\"ticks\":\"\"}}}],\"scattermapbox\":[{\"type\":\"scattermapbox\",\"marker\":{\"colorbar\":{\"outlinewidth\":0,\"ticks\":\"\"}}}],\"scatterternary\":[{\"type\":\"scatterternary\",\"marker\":{\"colorbar\":{\"outlinewidth\":0,\"ticks\":\"\"}}}],\"scattercarpet\":[{\"type\":\"scattercarpet\",\"marker\":{\"colorbar\":{\"outlinewidth\":0,\"ticks\":\"\"}}}],\"carpet\":[{\"aaxis\":{\"endlinecolor\":\"#2a3f5f\",\"gridcolor\":\"white\",\"linecolor\":\"white\",\"minorgridcolor\":\"white\",\"startlinecolor\":\"#2a3f5f\"},\"baxis\":{\"endlinecolor\":\"#2a3f5f\",\"gridcolor\":\"white\",\"linecolor\":\"white\",\"minorgridcolor\":\"white\",\"startlinecolor\":\"#2a3f5f\"},\"type\":\"carpet\"}],\"table\":[{\"cells\":{\"fill\":{\"color\":\"#EBF0F8\"},\"line\":{\"color\":\"white\"}},\"header\":{\"fill\":{\"color\":\"#C8D4E3\"},\"line\":{\"color\":\"white\"}},\"type\":\"table\"}],\"barpolar\":[{\"marker\":{\"line\":{\"color\":\"#E5ECF6\",\"width\":0.5},\"pattern\":{\"fillmode\":\"overlay\",\"size\":10,\"solidity\":0.2}},\"type\":\"barpolar\"}],\"pie\":[{\"automargin\":true,\"type\":\"pie\"}]},\"layout\":{\"autotypenumbers\":\"strict\",\"colorway\":[\"#636efa\",\"#EF553B\",\"#00cc96\",\"#ab63fa\",\"#FFA15A\",\"#19d3f3\",\"#FF6692\",\"#B6E880\",\"#FF97FF\",\"#FECB52\"],\"font\":{\"color\":\"#2a3f5f\"},\"hovermode\":\"closest\",\"hoverlabel\":{\"align\":\"left\"},\"paper_bgcolor\":\"white\",\"plot_bgcolor\":\"#E5ECF6\",\"polar\":{\"bgcolor\":\"#E5ECF6\",\"angularaxis\":{\"gridcolor\":\"white\",\"linecolor\":\"white\",\"ticks\":\"\"},\"radialaxis\":{\"gridcolor\":\"white\",\"linecolor\":\"white\",\"ticks\":\"\"}},\"ternary\":{\"bgcolor\":\"#E5ECF6\",\"aaxis\":{\"gridcolor\":\"white\",\"linecolor\":\"white\",\"ticks\":\"\"},\"baxis\":{\"gridcolor\":\"white\",\"linecolor\":\"white\",\"ticks\":\"\"},\"caxis\":{\"gridcolor\":\"white\",\"linecolor\":\"white\",\"ticks\":\"\"}},\"coloraxis\":{\"colorbar\":{\"outlinewidth\":0,\"ticks\":\"\"}},\"colorscale\":{\"sequential\":[[0.0,\"#0d0887\"],[0.1111111111111111,\"#46039f\"],[0.2222222222222222,\"#7201a8\"],[0.3333333333333333,\"#9c179e\"],[0.4444444444444444,\"#bd3786\"],[0.5555555555555556,\"#d8576b\"],[0.6666666666666666,\"#ed7953\"],[0.7777777777777778,\"#fb9f3a\"],[0.8888888888888888,\"#fdca26\"],[1.0,\"#f0f921\"]],\"sequentialminus\":[[0.0,\"#0d0887\"],[0.1111111111111111,\"#46039f\"],[0.2222222222222222,\"#7201a8\"],[0.3333333333333333,\"#9c179e\"],[0.4444444444444444,\"#bd3786\"],[0.5555555555555556,\"#d8576b\"],[0.6666666666666666,\"#ed7953\"],[0.7777777777777778,\"#fb9f3a\"],[0.8888888888888888,\"#fdca26\"],[1.0,\"#f0f921\"]],\"diverging\":[[0,\"#8e0152\"],[0.1,\"#c51b7d\"],[0.2,\"#de77ae\"],[0.3,\"#f1b6da\"],[0.4,\"#fde0ef\"],[0.5,\"#f7f7f7\"],[0.6,\"#e6f5d0\"],[0.7,\"#b8e186\"],[0.8,\"#7fbc41\"],[0.9,\"#4d9221\"],[1,\"#276419\"]]},\"xaxis\":{\"gridcolor\":\"white\",\"linecolor\":\"white\",\"ticks\":\"\",\"title\":{\"standoff\":15},\"zerolinecolor\":\"white\",\"automargin\":true,\"zerolinewidth\":2},\"yaxis\":{\"gridcolor\":\"white\",\"linecolor\":\"white\",\"ticks\":\"\",\"title\":{\"standoff\":15},\"zerolinecolor\":\"white\",\"automargin\":true,\"zerolinewidth\":2},\"scene\":{\"xaxis\":{\"backgroundcolor\":\"#E5ECF6\",\"gridcolor\":\"white\",\"linecolor\":\"white\",\"showbackground\":true,\"ticks\":\"\",\"zerolinecolor\":\"white\",\"gridwidth\":2},\"yaxis\":{\"backgroundcolor\":\"#E5ECF6\",\"gridcolor\":\"white\",\"linecolor\":\"white\",\"showbackground\":true,\"ticks\":\"\",\"zerolinecolor\":\"white\",\"gridwidth\":2},\"zaxis\":{\"backgroundcolor\":\"#E5ECF6\",\"gridcolor\":\"white\",\"linecolor\":\"white\",\"showbackground\":true,\"ticks\":\"\",\"zerolinecolor\":\"white\",\"gridwidth\":2}},\"shapedefaults\":{\"line\":{\"color\":\"#2a3f5f\"}},\"annotationdefaults\":{\"arrowcolor\":\"#2a3f5f\",\"arrowhead\":0,\"arrowwidth\":1},\"geo\":{\"bgcolor\":\"white\",\"landcolor\":\"#E5ECF6\",\"subunitcolor\":\"white\",\"showland\":true,\"showlakes\":true,\"lakecolor\":\"white\"},\"title\":{\"x\":0.05},\"mapbox\":{\"style\":\"light\"}}},\"xaxis\":{\"anchor\":\"y\",\"domain\":[0.0,1.0],\"title\":{\"text\":\"Sex\"}},\"yaxis\":{\"anchor\":\"x\",\"domain\":[0.0,1.0],\"title\":{\"text\":\"count\"}},\"legend\":{\"title\":{\"text\":\"Survived\"},\"tracegroupgap\":0},\"title\":{\"text\":\"Sexwise Survival Distribution\"},\"barmode\":\"relative\"},                        {\"responsive\": true}                    ).then(function(){\n",
       "                            \n",
       "var gd = document.getElementById('5aa58278-f8fc-4b5e-8562-a876360f5f76');\n",
       "var x = new MutationObserver(function (mutations, observer) {{\n",
       "        var display = window.getComputedStyle(gd).display;\n",
       "        if (!display || display === 'none') {{\n",
       "            console.log([gd, 'removed!']);\n",
       "            Plotly.purge(gd);\n",
       "            observer.disconnect();\n",
       "        }}\n",
       "}});\n",
       "\n",
       "// Listen for the removal of the full notebook cells\n",
       "var notebookContainer = gd.closest('#notebook-container');\n",
       "if (notebookContainer) {{\n",
       "    x.observe(notebookContainer, {childList: true});\n",
       "}}\n",
       "\n",
       "// Listen for the clearing of the current output cell\n",
       "var outputEl = gd.closest('.output');\n",
       "if (outputEl) {{\n",
       "    x.observe(outputEl, {childList: true});\n",
       "}}\n",
       "\n",
       "                        })                };                });            </script>        </div>"
      ]
     },
     "metadata": {},
     "output_type": "display_data"
    }
   ],
   "source": [
    "px.histogram(raw_df,x='Sex',title='Sexwise Survival Distribution',color='Survived')"
   ]
  },
  {
   "cell_type": "markdown",
   "id": "117c3b52",
   "metadata": {
    "papermill": {
     "duration": 0.026407,
     "end_time": "2023-09-03T17:04:06.550143",
     "exception": false,
     "start_time": "2023-09-03T17:04:06.523736",
     "status": "completed"
    },
    "tags": []
   },
   "source": [
    "From above graph, the conclusion can be made that the females have huge survival rate as compared to males."
   ]
  },
  {
   "cell_type": "code",
   "execution_count": 18,
   "id": "031ad4f1",
   "metadata": {
    "execution": {
     "iopub.execute_input": "2023-09-03T17:04:06.606513Z",
     "iopub.status.busy": "2023-09-03T17:04:06.605484Z",
     "iopub.status.idle": "2023-09-03T17:04:07.071911Z",
     "shell.execute_reply": "2023-09-03T17:04:07.070716Z"
    },
    "papermill": {
     "duration": 0.497652,
     "end_time": "2023-09-03T17:04:07.074537",
     "exception": false,
     "start_time": "2023-09-03T17:04:06.576885",
     "status": "completed"
    },
    "tags": []
   },
   "outputs": [
    {
     "data": {
      "text/plain": [
       "Text(0.5, 1.0, \"Survival Rate Distribution against Passenger's Class\")"
      ]
     },
     "execution_count": 18,
     "metadata": {},
     "output_type": "execute_result"
    },
    {
     "data": {
      "image/png": "[encoded data removed]",
      "text/plain": [
       "<Figure size 1200x800 with 1 Axes>"
      ]
     },
     "metadata": {
      "needs_background": "light"
     },
     "output_type": "display_data"
    }
   ],
   "source": [
    "sns.countplot(data=raw_df,x='Survived',hue='Pclass');\n",
    "plt.title(\"Survival Rate Distribution against Passenger's Class\")"
   ]
  },
  {
   "cell_type": "markdown",
   "id": "261a0b1d",
   "metadata": {
    "papermill": {
     "duration": 0.027207,
     "end_time": "2023-09-03T17:04:07.129125",
     "exception": false,
     "start_time": "2023-09-03T17:04:07.101918",
     "status": "completed"
    },
    "tags": []
   },
   "source": [
    "From above plot,It can be said that the first class passengers have more survival rate as compared to second and third class and second class have more survival rate as compared to third class."
   ]
  },
  {
   "cell_type": "code",
   "execution_count": 19,
   "id": "370e810a",
   "metadata": {
    "execution": {
     "iopub.execute_input": "2023-09-03T17:04:07.185397Z",
     "iopub.status.busy": "2023-09-03T17:04:07.184976Z",
     "iopub.status.idle": "2023-09-03T17:04:07.657684Z",
     "shell.execute_reply": "2023-09-03T17:04:07.656351Z"
    },
    "papermill": {
     "duration": 0.503848,
     "end_time": "2023-09-03T17:04:07.660330",
     "exception": false,
     "start_time": "2023-09-03T17:04:07.156482",
     "status": "completed"
    },
    "tags": []
   },
   "outputs": [
    {
     "data": {
      "text/plain": [
       "Text(0.5, 1.0, 'Embarkation Vs Survival')"
      ]
     },
     "execution_count": 19,
     "metadata": {},
     "output_type": "execute_result"
    },
    {
     "data": {
      "image/png": "[encoded data removed]",
      "text/plain": [
       "<Figure size 1200x800 with 1 Axes>"
      ]
     },
     "metadata": {
      "needs_background": "light"
     },
     "output_type": "display_data"
    }
   ],
   "source": [
    "sns.countplot(data=raw_df,x='Survived',hue='Embarked');\n",
    "plt.title('Embarkation Vs Survival')"
   ]
  },
  {
   "cell_type": "code",
   "execution_count": 20,
   "id": "4281f798",
   "metadata": {
    "execution": {
     "iopub.execute_input": "2023-09-03T17:04:07.719116Z",
     "iopub.status.busy": "2023-09-03T17:04:07.718672Z",
     "iopub.status.idle": "2023-09-03T17:04:07.834255Z",
     "shell.execute_reply": "2023-09-03T17:04:07.833134Z"
    },
    "papermill": {
     "duration": 0.148365,
     "end_time": "2023-09-03T17:04:07.836636",
     "exception": false,
     "start_time": "2023-09-03T17:04:07.688271",
     "status": "completed"
    },
    "tags": []
   },
   "outputs": [
    {
     "data": {
      "text/html": [
       "<div>                            <div id=\"9ca66c54-c1f6-42da-84f4-6cf898d5b34a\" class=\"plotly-graph-div\" style=\"height:525px; width:100%;\"></div>            <script type=\"text/javascript\">                require([\"plotly\"], function(Plotly) {                    window.PLOTLYENV=window.PLOTLYENV || {};                                    if (document.getElementById(\"9ca66c54-c1f6-42da-84f4-6cf898d5b34a\")) {                    Plotly.newPlot(                        \"9ca66c54-c1f6-42da-84f4-6cf898d5b34a\",                        [{\"alignmentgroup\":\"True\",\"box\":{\"visible\":false},\"hovertemplate\":\"Survived=0\\u003cbr\\u003eCabin=%{x}\\u003cextra\\u003e\\u003c\\u002fextra\\u003e\",\"legendgroup\":\"0\",\"marker\":{\"color\":\"#636efa\"},\"name\":\"0\",\"offsetgroup\":\"0\",\"orientation\":\"h\",\"scalegroup\":\"True\",\"showlegend\":true,\"x\":[\"UN\",\"UN\",\"UN\",\"E46\",\"UN\",\"UN\",\"UN\",\"UN\",\"UN\",\"UN\",\"UN\",\"UN\",\"UN\",\"C23 C25 C27\",\"UN\",\"UN\",\"UN\",\"UN\",\"UN\",\"UN\",\"UN\",\"UN\",\"UN\",\"UN\",\"UN\",\"UN\",\"UN\",\"UN\",\"UN\",\"UN\",\"B30\",\"UN\",\"UN\",\"UN\",\"C83\",\"UN\",\"UN\",\"UN\",\"UN\",\"UN\",\"UN\",\"UN\",\"UN\",\"F G73\",\"UN\",\"UN\",\"UN\",\"UN\",\"UN\",\"UN\",\"UN\",\"UN\",\"UN\",\"E31\",\"UN\",\"UN\",\"UN\",\"A5\",\"UN\",\"UN\",\"UN\",\"D26\",\"UN\",\"UN\",\"UN\",\"UN\",\"C110\",\"UN\",\"UN\",\"UN\",\"UN\",\"UN\",\"UN\",\"UN\",\"B58 B60\",\"UN\",\"UN\",\"UN\",\"UN\",\"D26\",\"UN\",\"UN\",\"UN\",\"UN\",\"UN\",\"UN\",\"UN\",\"C123\",\"UN\",\"B86\",\"UN\",\"UN\",\"UN\",\"UN\",\"UN\",\"F2\",\"UN\",\"UN\",\"UN\",\"UN\",\"UN\",\"UN\",\"UN\",\"UN\",\"UN\",\"UN\",\"UN\",\"UN\",\"UN\",\"UN\",\"UN\",\"UN\",\"B19\",\"UN\",\"UN\",\"A7\",\"UN\",\"UN\",\"C49\",\"UN\",\"UN\",\"UN\",\"UN\",\"UN\",\"A32\",\"UN\",\"UN\",\"UN\",\"UN\",\"UN\",\"UN\",\"UN\",\"UN\",\"UN\",\"UN\",\"G6\",\"UN\",\"UN\",\"UN\",\"UN\",\"UN\",\"UN\",\"UN\",\"UN\",\"UN\",\"UN\",\"UN\",\"UN\",\"UN\",\"UN\",\"UN\",\"UN\",\"UN\",\"UN\",\"UN\",\"UN\",\"UN\",\"UN\",\"UN\",\"UN\",\"UN\",\"C78\",\"UN\",\"UN\",\"UN\",\"G6\",\"C87\",\"UN\",\"UN\",\"UN\",\"E67\",\"B94\",\"UN\",\"UN\",\"UN\",\"UN\",\"C118\",\"UN\",\"UN\",\"UN\",\"UN\",\"UN\",\"UN\",\"A19\",\"UN\",\"UN\",\"D\",\"UN\",\"UN\",\"UN\",\"UN\",\"C22 C26\",\"UN\",\"UN\",\"UN\",\"UN\",\"UN\",\"UN\",\"UN\",\"UN\",\"UN\",\"UN\",\"UN\",\"C124\",\"C91\",\"UN\",\"UN\",\"C2\",\"T\",\"UN\",\"UN\",\"UN\",\"UN\",\"UN\",\"C128\",\"UN\",\"UN\",\"UN\",\"UN\",\"UN\",\"UN\",\"UN\",\"UN\",\"UN\",\"UN\",\"UN\",\"UN\",\"UN\",\"UN\",\"UN\",\"C82\",\"UN\",\"UN\",\"UN\",\"UN\",\"UN\",\"UN\",\"UN\",\"UN\",\"UN\",\"UN\",\"UN\",\"UN\",\"UN\",\"UN\",\"UN\",\"UN\",\"UN\",\"UN\",\"UN\",\"UN\",\"UN\",\"UN\",\"UN\",\"UN\",\"UN\",\"UN\",\"UN\",\"UN\",\"UN\",\"UN\",\"UN\",\"UN\",\"UN\",\"UN\",\"E44\",\"UN\",\"C23 C25 C27\",\"UN\",\"UN\",\"UN\",\"UN\",\"UN\",\"C111\",\"UN\",\"E38\",\"UN\",\"UN\",\"E63\",\"UN\",\"UN\",\"UN\",\"UN\",\"UN\",\"UN\",\"UN\",\"UN\",\"UN\",\"A14\",\"UN\",\"UN\",\"UN\",\"UN\",\"UN\",\"UN\",\"UN\",\"B37\",\"UN\",\"UN\",\"UN\",\"C30\",\"UN\",\"UN\",\"UN\",\"UN\",\"C22 C26\",\"UN\",\"UN\",\"UN\",\"UN\",\"UN\",\"C65\",\"UN\",\"UN\",\"UN\",\"D46\",\"UN\",\"UN\",\"UN\",\"UN\",\"UN\",\"UN\",\"C95\",\"UN\",\"UN\",\"UN\",\"UN\",\"UN\",\"B38\",\"UN\",\"UN\",\"UN\",\"C86\",\"UN\",\"UN\",\"UN\",\"UN\",\"UN\",\"UN\",\"UN\",\"UN\",\"UN\",\"UN\",\"UN\",\"UN\",\"UN\",\"UN\",\"UN\",\"UN\",\"UN\",\"UN\",\"UN\",\"A10\",\"UN\",\"UN\",\"UN\",\"UN\",\"UN\",\"UN\",\"UN\",\"UN\",\"UN\",\"UN\",\"UN\",\"UN\",\"UN\",\"UN\",\"UN\",\"UN\",\"UN\",\"UN\",\"UN\",\"UN\",\"UN\",\"UN\",\"UN\",\"UN\",\"UN\",\"UN\",\"D50\",\"UN\",\"UN\",\"UN\",\"UN\",\"UN\",\"UN\",\"UN\",\"UN\",\"UN\",\"UN\",\"UN\",\"UN\",\"UN\",\"UN\",\"UN\",\"UN\",\"UN\",\"UN\",\"UN\",\"UN\",\"UN\",\"D48\",\"UN\",\"E58\",\"UN\",\"UN\",\"UN\",\"UN\",\"UN\",\"B71\",\"UN\",\"UN\",\"UN\",\"UN\",\"UN\",\"UN\",\"UN\",\"UN\",\"UN\",\"UN\",\"UN\",\"UN\",\"UN\",\"UN\",\"UN\",\"UN\",\"UN\",\"C68\",\"F G63\",\"UN\",\"UN\",\"UN\",\"UN\",\"C124\",\"UN\",\"UN\",\"F G73\",\"UN\",\"UN\",\"UN\",\"UN\",\"UN\",\"UN\",\"UN\",\"UN\",\"UN\",\"UN\",\"UN\",\"UN\",\"UN\",\"UN\",\"UN\",\"UN\",\"C46\",\"UN\",\"B22\",\"UN\",\"D30\",\"UN\",\"UN\",\"UN\",\"UN\",\"UN\",\"UN\",\"UN\",\"UN\",\"UN\",\"UN\",\"UN\",\"UN\",\"UN\",\"UN\",\"UN\",\"E77\",\"UN\",\"UN\",\"F38\",\"UN\",\"D6\",\"UN\",\"UN\",\"UN\",\"UN\",\"B82 B84\",\"UN\",\"UN\",\"UN\",\"UN\",\"UN\",\"UN\",\"UN\",\"UN\",\"UN\",\"UN\",\"A36\",\"UN\",\"UN\",\"UN\",\"UN\",\"UN\",\"UN\",\"UN\",\"B102\",\"UN\",\"UN\",\"UN\",\"UN\",\"UN\",\"UN\",\"UN\",\"UN\",\"UN\",\"UN\",\"UN\",\"UN\",\"UN\",\"UN\",\"UN\",\"UN\",\"UN\",\"UN\",\"UN\",\"UN\",\"UN\",\"UN\",\"UN\",\"UN\",\"UN\",\"UN\",\"UN\",\"UN\",\"UN\",\"UN\",\"A24\",\"UN\",\"UN\",\"B51 B53 B55\",\"UN\",\"UN\",\"UN\",\"UN\",\"UN\",\"UN\",\"UN\",\"UN\",\"UN\",\"UN\",\"UN\",\"UN\"],\"x0\":\" \",\"xaxis\":\"x\",\"y0\":\" \",\"yaxis\":\"y\",\"type\":\"violin\"},{\"alignmentgroup\":\"True\",\"box\":{\"visible\":false},\"hovertemplate\":\"Survived=1\\u003cbr\\u003eCabin=%{x}\\u003cextra\\u003e\\u003c\\u002fextra\\u003e\",\"legendgroup\":\"1\",\"marker\":{\"color\":\"#EF553B\"},\"name\":\"1\",\"offsetgroup\":\"1\",\"orientation\":\"h\",\"scalegroup\":\"True\",\"showlegend\":true,\"x\":[\"C85\",\"UN\",\"C123\",\"UN\",\"UN\",\"G6\",\"C103\",\"UN\",\"UN\",\"UN\",\"D56\",\"UN\",\"A6\",\"UN\",\"UN\",\"B78\",\"UN\",\"UN\",\"UN\",\"UN\",\"UN\",\"UN\",\"D33\",\"UN\",\"C52\",\"UN\",\"UN\",\"B28\",\"UN\",\"F33\",\"UN\",\"UN\",\"UN\",\"UN\",\"UN\",\"UN\",\"UN\",\"UN\",\"C23 C25 C27\",\"D10 D12\",\"UN\",\"UN\",\"UN\",\"UN\",\"E101\",\"UN\",\"UN\",\"F E69\",\"UN\",\"D47\",\"UN\",\"UN\",\"UN\",\"C2\",\"UN\",\"UN\",\"UN\",\"E33\",\"UN\",\"F4\",\"UN\",\"UN\",\"UN\",\"UN\",\"UN\",\"F2\",\"B4\",\"B80\",\"UN\",\"UN\",\"UN\",\"UN\",\"A31\",\"UN\",\"D36\",\"UN\",\"D15\",\"UN\",\"C93\",\"UN\",\"C83\",\"UN\",\"UN\",\"UN\",\"UN\",\"D35\",\"UN\",\"UN\",\"B77\",\"UN\",\"UN\",\"UN\",\"UN\",\"C125\",\"C99\",\"UN\",\"UN\",\"UN\",\"D7\",\"UN\",\"UN\",\"UN\",\"UN\",\"UN\",\"UN\",\"B49\",\"C106\",\"B58 B60\",\"UN\",\"UN\",\"E101\",\"C22 C26\",\"UN\",\"C65\",\"E36\",\"C54\",\"B57 B59 B63 B66\",\"UN\",\"UN\",\"C7\",\"E34\",\"UN\",\"UN\",\"C32\",\"D\",\"UN\",\"B18\",\"UN\",\"UN\",\"E40\",\"UN\",\"F2\",\"C23 C25 C27\",\"F33\",\"UN\",\"UN\",\"UN\",\"E33\",\"UN\",\"UN\",\"D37\",\"UN\",\"UN\",\"B35\",\"E50\",\"UN\",\"UN\",\"UN\",\"UN\",\"UN\",\"UN\",\"UN\",\"B96 B98\",\"UN\",\"D36\",\"G6\",\"UN\",\"UN\",\"UN\",\"C78\",\"UN\",\"UN\",\"UN\",\"UN\",\"UN\",\"E10\",\"C52\",\"UN\",\"UN\",\"B96 B98\",\"UN\",\"UN\",\"UN\",\"UN\",\"A34\",\"UN\",\"UN\",\"UN\",\"C104\",\"C92\",\"UN\",\"D21\",\"UN\",\"E12\",\"UN\",\"UN\",\"D\",\"UN\",\"UN\",\"B49\",\"C93\",\"UN\",\"D20\",\"B79\",\"UN\",\"UN\",\"UN\",\"UN\",\"E25\",\"UN\",\"F33\",\"UN\",\"B73\",\"B18\",\"UN\",\"UN\",\"UN\",\"UN\",\"UN\",\"B39\",\"B22\",\"UN\",\"UN\",\"UN\",\"UN\",\"C70\",\"UN\",\"UN\",\"A16\",\"E67\",\"UN\",\"UN\",\"UN\",\"C101\",\"E25\",\"UN\",\"UN\",\"E44\",\"UN\",\"UN\",\"C68\",\"E68\",\"B41\",\"D20\",\"UN\",\"A20\",\"UN\",\"UN\",\"UN\",\"UN\",\"C125\",\"UN\",\"UN\",\"F4\",\"D19\",\"UN\",\"D9\",\"A23\",\"B50\",\"UN\",\"B35\",\"UN\",\"UN\",\"D33\",\"A26\",\"UN\",\"UN\",\"UN\",\"UN\",\"UN\",\"C126\",\"UN\",\"UN\",\"UN\",\"B51 B53 B55\",\"D49\",\"B5\",\"B20\",\"UN\",\"UN\",\"UN\",\"C62 C64\",\"E24\",\"UN\",\"E24\",\"UN\",\"UN\",\"C90\",\"C126\",\"C45\",\"E101\",\"UN\",\"E8\",\"UN\",\"UN\",\"B5\",\"B101\",\"D45\",\"B57 B59 B63 B66\",\"UN\",\"UN\",\"UN\",\"E121\",\"UN\",\"UN\",\"B77\",\"UN\",\"B96 B98\",\"D11\",\"UN\",\"UN\",\"B3\",\"UN\",\"B20\",\"UN\",\"UN\",\"D17\",\"UN\",\"UN\",\"B96 B98\",\"UN\",\"UN\",\"E8\",\"B69\",\"UN\",\"E121\",\"UN\",\"UN\",\"B28\",\"UN\",\"UN\",\"E49\",\"UN\",\"C47\",\"UN\",\"C92\",\"D28\",\"UN\",\"UN\",\"E17\",\"UN\",\"D17\",\"UN\",\"UN\",\"UN\",\"D35\",\"UN\",\"UN\",\"C50\",\"UN\",\"B42\",\"C148\"],\"x0\":\" \",\"xaxis\":\"x\",\"y0\":\" \",\"yaxis\":\"y\",\"type\":\"violin\"}],                        {\"template\":{\"data\":{\"histogram2dcontour\":[{\"type\":\"histogram2dcontour\",\"colorbar\":{\"outlinewidth\":0,\"ticks\":\"\"},\"colorscale\":[[0.0,\"#0d0887\"],[0.1111111111111111,\"#46039f\"],[0.2222222222222222,\"#7201a8\"],[0.3333333333333333,\"#9c179e\"],[0.4444444444444444,\"#bd3786\"],[0.5555555555555556,\"#d8576b\"],[0.6666666666666666,\"#ed7953\"],[0.7777777777777778,\"#fb9f3a\"],[0.8888888888888888,\"#fdca26\"],[1.0,\"#f0f921\"]]}],\"choropleth\":[{\"type\":\"choropleth\",\"colorbar\":{\"outlinewidth\":0,\"ticks\":\"\"}}],\"histogram2d\":[{\"type\":\"histogram2d\",\"colorbar\":{\"outlinewidth\":0,\"ticks\":\"\"},\"colorscale\":[[0.0,\"#0d0887\"],[0.1111111111111111,\"#46039f\"],[0.2222222222222222,\"#7201a8\"],[0.3333333333333333,\"#9c179e\"],[0.4444444444444444,\"#bd3786\"],[0.5555555555555556,\"#d8576b\"],[0.6666666666666666,\"#ed7953\"],[0.7777777777777778,\"#fb9f3a\"],[0.8888888888888888,\"#fdca26\"],[1.0,\"#f0f921\"]]}],\"heatmap\":[{\"type\":\"heatmap\",\"colorbar\":{\"outlinewidth\":0,\"ticks\":\"\"},\"colorscale\":[[0.0,\"#0d0887\"],[0.1111111111111111,\"#46039f\"],[0.2222222222222222,\"#7201a8\"],[0.3333333333333333,\"#9c179e\"],[0.4444444444444444,\"#bd3786\"],[0.5555555555555556,\"#d8576b\"],[0.6666666666666666,\"#ed7953\"],[0.7777777777777778,\"#fb9f3a\"],[0.8888888888888888,\"#fdca26\"],[1.0,\"#f0f921\"]]}],\"heatmapgl\":[{\"type\":\"heatmapgl\",\"colorbar\":{\"outlinewidth\":0,\"ticks\":\"\"},\"colorscale\":[[0.0,\"#0d0887\"],[0.1111111111111111,\"#46039f\"],[0.2222222222222222,\"#7201a8\"],[0.3333333333333333,\"#9c179e\"],[0.4444444444444444,\"#bd3786\"],[0.5555555555555556,\"#d8576b\"],[0.6666666666666666,\"#ed7953\"],[0.7777777777777778,\"#fb9f3a\"],[0.8888888888888888,\"#fdca26\"],[1.0,\"#f0f921\"]]}],\"contourcarpet\":[{\"type\":\"contourcarpet\",\"colorbar\":{\"outlinewidth\":0,\"ticks\":\"\"}}],\"contour\":[{\"type\":\"contour\",\"colorbar\":{\"outlinewidth\":0,\"ticks\":\"\"},\"colorscale\":[[0.0,\"#0d0887\"],[0.1111111111111111,\"#46039f\"],[0.2222222222222222,\"#7201a8\"],[0.3333333333333333,\"#9c179e\"],[0.4444444444444444,\"#bd3786\"],[0.5555555555555556,\"#d8576b\"],[0.6666666666666666,\"#ed7953\"],[0.7777777777777778,\"#fb9f3a\"],[0.8888888888888888,\"#fdca26\"],[1.0,\"#f0f921\"]]}],\"surface\":[{\"type\":\"surface\",\"colorbar\":{\"outlinewidth\":0,\"ticks\":\"\"},\"colorscale\":[[0.0,\"#0d0887\"],[0.1111111111111111,\"#46039f\"],[0.2222222222222222,\"#7201a8\"],[0.3333333333333333,\"#9c179e\"],[0.4444444444444444,\"#bd3786\"],[0.5555555555555556,\"#d8576b\"],[0.6666666666666666,\"#ed7953\"],[0.7777777777777778,\"#fb9f3a\"],[0.8888888888888888,\"#fdca26\"],[1.0,\"#f0f921\"]]}],\"mesh3d\":[{\"type\":\"mesh3d\",\"colorbar\":{\"outlinewidth\":0,\"ticks\":\"\"}}],\"scatter\":[{\"fillpattern\":{\"fillmode\":\"overlay\",\"size\":10,\"solidity\":0.2},\"type\":\"scatter\"}],\"parcoords\":[{\"type\":\"parcoords\",\"line\":{\"colorbar\":{\"outlinewidth\":0,\"ticks\":\"\"}}}],\"scatterpolargl\":[{\"type\":\"scatterpolargl\",\"marker\":{\"colorbar\":{\"outlinewidth\":0,\"ticks\":\"\"}}}],\"bar\":[{\"error_x\":{\"color\":\"#2a3f5f\"},\"error_y\":{\"color\":\"#2a3f5f\"},\"marker\":{\"line\":{\"color\":\"#E5ECF6\",\"width\":0.5},\"pattern\":{\"fillmode\":\"overlay\",\"size\":10,\"solidity\":0.2}},\"type\":\"bar\"}],\"scattergeo\":[{\"type\":\"scattergeo\",\"marker\":{\"colorbar\":{\"outlinewidth\":0,\"ticks\":\"\"}}}],\"scatterpolar\":[{\"type\":\"scatterpolar\",\"marker\":{\"colorbar\":{\"outlinewidth\":0,\"ticks\":\"\"}}}],\"histogram\":[{\"marker\":{\"pattern\":{\"fillmode\":\"overlay\",\"size\":10,\"solidity\":0.2}},\"type\":\"histogram\"}],\"scattergl\":[{\"type\":\"scattergl\",\"marker\":{\"colorbar\":{\"outlinewidth\":0,\"ticks\":\"\"}}}],\"scatter3d\":[{\"type\":\"scatter3d\",\"line\":{\"colorbar\":{\"outlinewidth\":0,\"ticks\":\"\"}},\"marker\":{\"colorbar\":{\"outlinewidth\":0,\"ticks\":\"\"}}}],\"scattermapbox\":[{\"type\":\"scattermapbox\",\"marker\":{\"colorbar\":{\"outlinewidth\":0,\"ticks\":\"\"}}}],\"scatterternary\":[{\"type\":\"scatterternary\",\"marker\":{\"colorbar\":{\"outlinewidth\":0,\"ticks\":\"\"}}}],\"scattercarpet\":[{\"type\":\"scattercarpet\",\"marker\":{\"colorbar\":{\"outlinewidth\":0,\"ticks\":\"\"}}}],\"carpet\":[{\"aaxis\":{\"endlinecolor\":\"#2a3f5f\",\"gridcolor\":\"white\",\"linecolor\":\"white\",\"minorgridcolor\":\"white\",\"startlinecolor\":\"#2a3f5f\"},\"baxis\":{\"endlinecolor\":\"#2a3f5f\",\"gridcolor\":\"white\",\"linecolor\":\"white\",\"minorgridcolor\":\"white\",\"startlinecolor\":\"#2a3f5f\"},\"type\":\"carpet\"}],\"table\":[{\"cells\":{\"fill\":{\"color\":\"#EBF0F8\"},\"line\":{\"color\":\"white\"}},\"header\":{\"fill\":{\"color\":\"#C8D4E3\"},\"line\":{\"color\":\"white\"}},\"type\":\"table\"}],\"barpolar\":[{\"marker\":{\"line\":{\"color\":\"#E5ECF6\",\"width\":0.5},\"pattern\":{\"fillmode\":\"overlay\",\"size\":10,\"solidity\":0.2}},\"type\":\"barpolar\"}],\"pie\":[{\"automargin\":true,\"type\":\"pie\"}]},\"layout\":{\"autotypenumbers\":\"strict\",\"colorway\":[\"#636efa\",\"#EF553B\",\"#00cc96\",\"#ab63fa\",\"#FFA15A\",\"#19d3f3\",\"#FF6692\",\"#B6E880\",\"#FF97FF\",\"#FECB52\"],\"font\":{\"color\":\"#2a3f5f\"},\"hovermode\":\"closest\",\"hoverlabel\":{\"align\":\"left\"},\"paper_bgcolor\":\"white\",\"plot_bgcolor\":\"#E5ECF6\",\"polar\":{\"bgcolor\":\"#E5ECF6\",\"angularaxis\":{\"gridcolor\":\"white\",\"linecolor\":\"white\",\"ticks\":\"\"},\"radialaxis\":{\"gridcolor\":\"white\",\"linecolor\":\"white\",\"ticks\":\"\"}},\"ternary\":{\"bgcolor\":\"#E5ECF6\",\"aaxis\":{\"gridcolor\":\"white\",\"linecolor\":\"white\",\"ticks\":\"\"},\"baxis\":{\"gridcolor\":\"white\",\"linecolor\":\"white\",\"ticks\":\"\"},\"caxis\":{\"gridcolor\":\"white\",\"linecolor\":\"white\",\"ticks\":\"\"}},\"coloraxis\":{\"colorbar\":{\"outlinewidth\":0,\"ticks\":\"\"}},\"colorscale\":{\"sequential\":[[0.0,\"#0d0887\"],[0.1111111111111111,\"#46039f\"],[0.2222222222222222,\"#7201a8\"],[0.3333333333333333,\"#9c179e\"],[0.4444444444444444,\"#bd3786\"],[0.5555555555555556,\"#d8576b\"],[0.6666666666666666,\"#ed7953\"],[0.7777777777777778,\"#fb9f3a\"],[0.8888888888888888,\"#fdca26\"],[1.0,\"#f0f921\"]],\"sequentialminus\":[[0.0,\"#0d0887\"],[0.1111111111111111,\"#46039f\"],[0.2222222222222222,\"#7201a8\"],[0.3333333333333333,\"#9c179e\"],[0.4444444444444444,\"#bd3786\"],[0.5555555555555556,\"#d8576b\"],[0.6666666666666666,\"#ed7953\"],[0.7777777777777778,\"#fb9f3a\"],[0.8888888888888888,\"#fdca26\"],[1.0,\"#f0f921\"]],\"diverging\":[[0,\"#8e0152\"],[0.1,\"#c51b7d\"],[0.2,\"#de77ae\"],[0.3,\"#f1b6da\"],[0.4,\"#fde0ef\"],[0.5,\"#f7f7f7\"],[0.6,\"#e6f5d0\"],[0.7,\"#b8e186\"],[0.8,\"#7fbc41\"],[0.9,\"#4d9221\"],[1,\"#276419\"]]},\"xaxis\":{\"gridcolor\":\"white\",\"linecolor\":\"white\",\"ticks\":\"\",\"title\":{\"standoff\":15},\"zerolinecolor\":\"white\",\"automargin\":true,\"zerolinewidth\":2},\"yaxis\":{\"gridcolor\":\"white\",\"linecolor\":\"white\",\"ticks\":\"\",\"title\":{\"standoff\":15},\"zerolinecolor\":\"white\",\"automargin\":true,\"zerolinewidth\":2},\"scene\":{\"xaxis\":{\"backgroundcolor\":\"#E5ECF6\",\"gridcolor\":\"white\",\"linecolor\":\"white\",\"showbackground\":true,\"ticks\":\"\",\"zerolinecolor\":\"white\",\"gridwidth\":2},\"yaxis\":{\"backgroundcolor\":\"#E5ECF6\",\"gridcolor\":\"white\",\"linecolor\":\"white\",\"showbackground\":true,\"ticks\":\"\",\"zerolinecolor\":\"white\",\"gridwidth\":2},\"zaxis\":{\"backgroundcolor\":\"#E5ECF6\",\"gridcolor\":\"white\",\"linecolor\":\"white\",\"showbackground\":true,\"ticks\":\"\",\"zerolinecolor\":\"white\",\"gridwidth\":2}},\"shapedefaults\":{\"line\":{\"color\":\"#2a3f5f\"}},\"annotationdefaults\":{\"arrowcolor\":\"#2a3f5f\",\"arrowhead\":0,\"arrowwidth\":1},\"geo\":{\"bgcolor\":\"white\",\"landcolor\":\"#E5ECF6\",\"subunitcolor\":\"white\",\"showland\":true,\"showlakes\":true,\"lakecolor\":\"white\"},\"title\":{\"x\":0.05},\"mapbox\":{\"style\":\"light\"}}},\"xaxis\":{\"anchor\":\"y\",\"domain\":[0.0,1.0],\"title\":{\"text\":\"Cabin\"}},\"yaxis\":{\"anchor\":\"x\",\"domain\":[0.0,1.0]},\"legend\":{\"title\":{\"text\":\"Survived\"},\"tracegroupgap\":0},\"title\":{\"text\":\"Cabin Vs Survived\"},\"violinmode\":\"group\"},                        {\"responsive\": true}                    ).then(function(){\n",
       "                            \n",
       "var gd = document.getElementById('9ca66c54-c1f6-42da-84f4-6cf898d5b34a');\n",
       "var x = new MutationObserver(function (mutations, observer) {{\n",
       "        var display = window.getComputedStyle(gd).display;\n",
       "        if (!display || display === 'none') {{\n",
       "            console.log([gd, 'removed!']);\n",
       "            Plotly.purge(gd);\n",
       "            observer.disconnect();\n",
       "        }}\n",
       "}});\n",
       "\n",
       "// Listen for the removal of the full notebook cells\n",
       "var notebookContainer = gd.closest('#notebook-container');\n",
       "if (notebookContainer) {{\n",
       "    x.observe(notebookContainer, {childList: true});\n",
       "}}\n",
       "\n",
       "// Listen for the clearing of the current output cell\n",
       "var outputEl = gd.closest('.output');\n",
       "if (outputEl) {{\n",
       "    x.observe(outputEl, {childList: true});\n",
       "}}\n",
       "\n",
       "                        })                };                });            </script>        </div>"
      ]
     },
     "metadata": {},
     "output_type": "display_data"
    }
   ],
   "source": [
    "px.violin(raw_df,\n",
    "             x='Cabin',\n",
    "             color='Survived',\n",
    "             title='Cabin Vs Survived')"
   ]
  },
  {
   "cell_type": "code",
   "execution_count": 21,
   "id": "f663c1df",
   "metadata": {
    "execution": {
     "iopub.execute_input": "2023-09-03T17:04:07.895866Z",
     "iopub.status.busy": "2023-09-03T17:04:07.895496Z",
     "iopub.status.idle": "2023-09-03T17:04:07.902730Z",
     "shell.execute_reply": "2023-09-03T17:04:07.901709Z"
    },
    "papermill": {
     "duration": 0.039822,
     "end_time": "2023-09-03T17:04:07.905066",
     "exception": false,
     "start_time": "2023-09-03T17:04:07.865244",
     "status": "completed"
    },
    "tags": []
   },
   "outputs": [
    {
     "data": {
      "text/plain": [
       "\"from sklearn.preprocessing import OneHotEncoder\\ntrain_df['Sex'] = train_df['Sex'].astype('category')\\ntrain_df['Embarked'] = train_df['Embarked'].astype('category')\\ntrain_df['Cabin'] = train_df['Cabin'].astype('category')\\n\\ntrain_df['Sex_New'] = train_df['Sex'].cat.codes\\ntrain_df['Embarked_New'] = train_df['Embarked'].cat.codes\\ntrain_df['Cabin_New'] = train_df['Cabin'].cat.codes\\n\\nenc=OneHotEncoder()\\n\\nenc_data=pd.DataFrame(enc.fit_transform(train_df[['Sex_New','Embarked_New','Cabin_New']].toarray())\\n\\nNew_train_df=train_df.join(enc_data)\\n\\nprint(New_train_df)\""
      ]
     },
     "execution_count": 21,
     "metadata": {},
     "output_type": "execute_result"
    }
   ],
   "source": [
    "\"\"\"from sklearn.preprocessing import OneHotEncoder\n",
    "train_df['Sex'] = train_df['Sex'].astype('category')\n",
    "train_df['Embarked'] = train_df['Embarked'].astype('category')\n",
    "train_df['Cabin'] = train_df['Cabin'].astype('category')\n",
    "\n",
    "train_df['Sex_New'] = train_df['Sex'].cat.codes\n",
    "train_df['Embarked_New'] = train_df['Embarked'].cat.codes\n",
    "train_df['Cabin_New'] = train_df['Cabin'].cat.codes\n",
    "\n",
    "enc=OneHotEncoder()\n",
    "\n",
    "enc_data=pd.DataFrame(enc.fit_transform(train_df[['Sex_New','Embarked_New','Cabin_New']].toarray())\n",
    "\n",
    "New_train_df=train_df.join(enc_data)\n",
    "\n",
    "print(New_train_df)\"\"\""
   ]
  },
  {
   "cell_type": "code",
   "execution_count": 22,
   "id": "21cf936a",
   "metadata": {
    "execution": {
     "iopub.execute_input": "2023-09-03T17:04:07.963293Z",
     "iopub.status.busy": "2023-09-03T17:04:07.962872Z",
     "iopub.status.idle": "2023-09-03T17:04:07.969549Z",
     "shell.execute_reply": "2023-09-03T17:04:07.968480Z"
    },
    "papermill": {
     "duration": 0.038616,
     "end_time": "2023-09-03T17:04:07.971802",
     "exception": false,
     "start_time": "2023-09-03T17:04:07.933186",
     "status": "completed"
    },
    "tags": []
   },
   "outputs": [
    {
     "data": {
      "text/plain": [
       "(891, 12)"
      ]
     },
     "execution_count": 22,
     "metadata": {},
     "output_type": "execute_result"
    }
   ],
   "source": [
    "raw_df.shape"
   ]
  },
  {
   "cell_type": "code",
   "execution_count": 23,
   "id": "2844cf9f",
   "metadata": {
    "execution": {
     "iopub.execute_input": "2023-09-03T17:04:08.030846Z",
     "iopub.status.busy": "2023-09-03T17:04:08.030474Z",
     "iopub.status.idle": "2023-09-03T17:04:08.289327Z",
     "shell.execute_reply": "2023-09-03T17:04:08.288254Z"
    },
    "papermill": {
     "duration": 0.291951,
     "end_time": "2023-09-03T17:04:08.292078",
     "exception": false,
     "start_time": "2023-09-03T17:04:08.000127",
     "status": "completed"
    },
    "tags": []
   },
   "outputs": [],
   "source": [
    "from sklearn.model_selection import train_test_split"
   ]
  },
  {
   "cell_type": "code",
   "execution_count": 24,
   "id": "01c532e2",
   "metadata": {
    "execution": {
     "iopub.execute_input": "2023-09-03T17:04:08.350366Z",
     "iopub.status.busy": "2023-09-03T17:04:08.349959Z",
     "iopub.status.idle": "2023-09-03T17:04:08.356784Z",
     "shell.execute_reply": "2023-09-03T17:04:08.355700Z"
    },
    "papermill": {
     "duration": 0.038804,
     "end_time": "2023-09-03T17:04:08.359194",
     "exception": false,
     "start_time": "2023-09-03T17:04:08.320390",
     "status": "completed"
    },
    "tags": []
   },
   "outputs": [],
   "source": [
    "train_df,val_df=train_test_split(raw_df,test_size=0.1,random_state=2)"
   ]
  },
  {
   "cell_type": "code",
   "execution_count": 25,
   "id": "0bcaf11f",
   "metadata": {
    "execution": {
     "iopub.execute_input": "2023-09-03T17:04:08.417707Z",
     "iopub.status.busy": "2023-09-03T17:04:08.417329Z",
     "iopub.status.idle": "2023-09-03T17:04:08.423772Z",
     "shell.execute_reply": "2023-09-03T17:04:08.422720Z"
    },
    "papermill": {
     "duration": 0.038244,
     "end_time": "2023-09-03T17:04:08.426103",
     "exception": false,
     "start_time": "2023-09-03T17:04:08.387859",
     "status": "completed"
    },
    "tags": []
   },
   "outputs": [
    {
     "data": {
      "text/plain": [
       "(90, 12)"
      ]
     },
     "execution_count": 25,
     "metadata": {},
     "output_type": "execute_result"
    }
   ],
   "source": [
    "val_df.shape"
   ]
  },
  {
   "cell_type": "code",
   "execution_count": 26,
   "id": "67a3abef",
   "metadata": {
    "execution": {
     "iopub.execute_input": "2023-09-03T17:04:08.484296Z",
     "iopub.status.busy": "2023-09-03T17:04:08.483886Z",
     "iopub.status.idle": "2023-09-03T17:04:08.490292Z",
     "shell.execute_reply": "2023-09-03T17:04:08.489207Z"
    },
    "papermill": {
     "duration": 0.03805,
     "end_time": "2023-09-03T17:04:08.492358",
     "exception": false,
     "start_time": "2023-09-03T17:04:08.454308",
     "status": "completed"
    },
    "tags": []
   },
   "outputs": [
    {
     "data": {
      "text/plain": [
       "(801, 12)"
      ]
     },
     "execution_count": 26,
     "metadata": {},
     "output_type": "execute_result"
    }
   ],
   "source": [
    "train_df.shape"
   ]
  },
  {
   "cell_type": "code",
   "execution_count": 27,
   "id": "38a16dd3",
   "metadata": {
    "execution": {
     "iopub.execute_input": "2023-09-03T17:04:08.552108Z",
     "iopub.status.busy": "2023-09-03T17:04:08.550839Z",
     "iopub.status.idle": "2023-09-03T17:04:08.556018Z",
     "shell.execute_reply": "2023-09-03T17:04:08.555144Z"
    },
    "papermill": {
     "duration": 0.037348,
     "end_time": "2023-09-03T17:04:08.558238",
     "exception": false,
     "start_time": "2023-09-03T17:04:08.520890",
     "status": "completed"
    },
    "tags": []
   },
   "outputs": [],
   "source": [
    "Inputs_cols=['Pclass','Sex','Age','SibSp','Parch','Fare','Embarked']\n",
    "target_cols='Survived'"
   ]
  },
  {
   "cell_type": "code",
   "execution_count": 28,
   "id": "e1914e56",
   "metadata": {
    "execution": {
     "iopub.execute_input": "2023-09-03T17:04:08.619384Z",
     "iopub.status.busy": "2023-09-03T17:04:08.618559Z",
     "iopub.status.idle": "2023-09-03T17:04:08.625711Z",
     "shell.execute_reply": "2023-09-03T17:04:08.624615Z"
    },
    "papermill": {
     "duration": 0.040583,
     "end_time": "2023-09-03T17:04:08.628232",
     "exception": false,
     "start_time": "2023-09-03T17:04:08.587649",
     "status": "completed"
    },
    "tags": []
   },
   "outputs": [
    {
     "data": {
      "text/plain": [
       "['Pclass', 'Sex', 'Age', 'SibSp', 'Parch', 'Fare', 'Embarked']"
      ]
     },
     "execution_count": 28,
     "metadata": {},
     "output_type": "execute_result"
    }
   ],
   "source": [
    "Inputs_cols"
   ]
  },
  {
   "cell_type": "code",
   "execution_count": 29,
   "id": "1fc60a5d",
   "metadata": {
    "execution": {
     "iopub.execute_input": "2023-09-03T17:04:08.689412Z",
     "iopub.status.busy": "2023-09-03T17:04:08.688999Z",
     "iopub.status.idle": "2023-09-03T17:04:08.698657Z",
     "shell.execute_reply": "2023-09-03T17:04:08.697546Z"
    },
    "papermill": {
     "duration": 0.042674,
     "end_time": "2023-09-03T17:04:08.700889",
     "exception": false,
     "start_time": "2023-09-03T17:04:08.658215",
     "status": "completed"
    },
    "tags": []
   },
   "outputs": [],
   "source": [
    "train_inputs=train_df[Inputs_cols].copy()\n",
    "train_targets=train_df[target_cols].copy()"
   ]
  },
  {
   "cell_type": "code",
   "execution_count": 30,
   "id": "65c5039a",
   "metadata": {
    "execution": {
     "iopub.execute_input": "2023-09-03T17:04:08.761882Z",
     "iopub.status.busy": "2023-09-03T17:04:08.761514Z",
     "iopub.status.idle": "2023-09-03T17:04:08.768279Z",
     "shell.execute_reply": "2023-09-03T17:04:08.767249Z"
    },
    "papermill": {
     "duration": 0.039744,
     "end_time": "2023-09-03T17:04:08.770755",
     "exception": false,
     "start_time": "2023-09-03T17:04:08.731011",
     "status": "completed"
    },
    "tags": []
   },
   "outputs": [],
   "source": [
    "val_inputs=val_df[Inputs_cols].copy()\n",
    "val_targets=val_df[target_cols].copy()"
   ]
  },
  {
   "cell_type": "code",
   "execution_count": 31,
   "id": "a8be1f0a",
   "metadata": {
    "execution": {
     "iopub.execute_input": "2023-09-03T17:04:08.831159Z",
     "iopub.status.busy": "2023-09-03T17:04:08.830740Z",
     "iopub.status.idle": "2023-09-03T17:04:08.838052Z",
     "shell.execute_reply": "2023-09-03T17:04:08.836874Z"
    },
    "papermill": {
     "duration": 0.04052,
     "end_time": "2023-09-03T17:04:08.840498",
     "exception": false,
     "start_time": "2023-09-03T17:04:08.799978",
     "status": "completed"
    },
    "tags": []
   },
   "outputs": [],
   "source": [
    "test_inputs=test_df[Inputs_cols].copy()"
   ]
  },
  {
   "cell_type": "code",
   "execution_count": 32,
   "id": "096e5031",
   "metadata": {
    "execution": {
     "iopub.execute_input": "2023-09-03T17:04:08.899908Z",
     "iopub.status.busy": "2023-09-03T17:04:08.899527Z",
     "iopub.status.idle": "2023-09-03T17:04:08.912226Z",
     "shell.execute_reply": "2023-09-03T17:04:08.911016Z"
    },
    "papermill": {
     "duration": 0.045267,
     "end_time": "2023-09-03T17:04:08.914569",
     "exception": false,
     "start_time": "2023-09-03T17:04:08.869302",
     "status": "completed"
    },
    "tags": []
   },
   "outputs": [
    {
     "name": "stdout",
     "output_type": "stream",
     "text": [
      "<class 'pandas.core.frame.DataFrame'>\n",
      "Index: 801 entries, 468 to 168\n",
      "Data columns (total 7 columns):\n",
      " #   Column    Non-Null Count  Dtype  \n",
      "---  ------    --------------  -----  \n",
      " 0   Pclass    801 non-null    int64  \n",
      " 1   Sex       801 non-null    object \n",
      " 2   Age       801 non-null    float64\n",
      " 3   SibSp     801 non-null    int64  \n",
      " 4   Parch     801 non-null    int64  \n",
      " 5   Fare      801 non-null    float64\n",
      " 6   Embarked  801 non-null    object \n",
      "dtypes: float64(2), int64(3), object(2)\n",
      "memory usage: 50.1+ KB\n"
     ]
    }
   ],
   "source": [
    "train_inputs.info()"
   ]
  },
  {
   "cell_type": "code",
   "execution_count": 33,
   "id": "945e5505",
   "metadata": {
    "execution": {
     "iopub.execute_input": "2023-09-03T17:04:08.974400Z",
     "iopub.status.busy": "2023-09-03T17:04:08.974030Z",
     "iopub.status.idle": "2023-09-03T17:04:08.993534Z",
     "shell.execute_reply": "2023-09-03T17:04:08.992396Z"
    },
    "papermill": {
     "duration": 0.052341,
     "end_time": "2023-09-03T17:04:08.995854",
     "exception": false,
     "start_time": "2023-09-03T17:04:08.943513",
     "status": "completed"
    },
    "tags": []
   },
   "outputs": [
    {
     "data": {
      "text/html": [
       "<div>\n",
       "<style scoped>\n",
       "    .dataframe tbody tr th:only-of-type {\n",
       "        vertical-align: middle;\n",
       "    }\n",
       "\n",
       "    .dataframe tbody tr th {\n",
       "        vertical-align: top;\n",
       "    }\n",
       "\n",
       "    .dataframe thead th {\n",
       "        text-align: right;\n",
       "    }\n",
       "</style>\n",
       "<table border=\"1\" class=\"dataframe\">\n",
       "  <thead>\n",
       "    <tr style=\"text-align: right;\">\n",
       "      <th></th>\n",
       "      <th>Pclass</th>\n",
       "      <th>Sex</th>\n",
       "      <th>Age</th>\n",
       "      <th>SibSp</th>\n",
       "      <th>Parch</th>\n",
       "      <th>Fare</th>\n",
       "      <th>Embarked</th>\n",
       "    </tr>\n",
       "  </thead>\n",
       "  <tbody>\n",
       "    <tr>\n",
       "      <th>468</th>\n",
       "      <td>3</td>\n",
       "      <td>male</td>\n",
       "      <td>28.0</td>\n",
       "      <td>0</td>\n",
       "      <td>0</td>\n",
       "      <td>7.7250</td>\n",
       "      <td>Q</td>\n",
       "    </tr>\n",
       "    <tr>\n",
       "      <th>67</th>\n",
       "      <td>3</td>\n",
       "      <td>male</td>\n",
       "      <td>19.0</td>\n",
       "      <td>0</td>\n",
       "      <td>0</td>\n",
       "      <td>8.1583</td>\n",
       "      <td>S</td>\n",
       "    </tr>\n",
       "    <tr>\n",
       "      <th>510</th>\n",
       "      <td>3</td>\n",
       "      <td>male</td>\n",
       "      <td>29.0</td>\n",
       "      <td>0</td>\n",
       "      <td>0</td>\n",
       "      <td>7.7500</td>\n",
       "      <td>Q</td>\n",
       "    </tr>\n",
       "    <tr>\n",
       "      <th>656</th>\n",
       "      <td>3</td>\n",
       "      <td>male</td>\n",
       "      <td>28.0</td>\n",
       "      <td>0</td>\n",
       "      <td>0</td>\n",
       "      <td>7.8958</td>\n",
       "      <td>S</td>\n",
       "    </tr>\n",
       "    <tr>\n",
       "      <th>414</th>\n",
       "      <td>3</td>\n",
       "      <td>male</td>\n",
       "      <td>44.0</td>\n",
       "      <td>0</td>\n",
       "      <td>0</td>\n",
       "      <td>7.9250</td>\n",
       "      <td>S</td>\n",
       "    </tr>\n",
       "    <tr>\n",
       "      <th>...</th>\n",
       "      <td>...</td>\n",
       "      <td>...</td>\n",
       "      <td>...</td>\n",
       "      <td>...</td>\n",
       "      <td>...</td>\n",
       "      <td>...</td>\n",
       "      <td>...</td>\n",
       "    </tr>\n",
       "    <tr>\n",
       "      <th>534</th>\n",
       "      <td>3</td>\n",
       "      <td>female</td>\n",
       "      <td>30.0</td>\n",
       "      <td>0</td>\n",
       "      <td>0</td>\n",
       "      <td>8.6625</td>\n",
       "      <td>S</td>\n",
       "    </tr>\n",
       "    <tr>\n",
       "      <th>584</th>\n",
       "      <td>3</td>\n",
       "      <td>male</td>\n",
       "      <td>28.0</td>\n",
       "      <td>0</td>\n",
       "      <td>0</td>\n",
       "      <td>8.7125</td>\n",
       "      <td>C</td>\n",
       "    </tr>\n",
       "    <tr>\n",
       "      <th>493</th>\n",
       "      <td>1</td>\n",
       "      <td>male</td>\n",
       "      <td>71.0</td>\n",
       "      <td>0</td>\n",
       "      <td>0</td>\n",
       "      <td>49.5042</td>\n",
       "      <td>C</td>\n",
       "    </tr>\n",
       "    <tr>\n",
       "      <th>527</th>\n",
       "      <td>1</td>\n",
       "      <td>male</td>\n",
       "      <td>28.0</td>\n",
       "      <td>0</td>\n",
       "      <td>0</td>\n",
       "      <td>221.7792</td>\n",
       "      <td>S</td>\n",
       "    </tr>\n",
       "    <tr>\n",
       "      <th>168</th>\n",
       "      <td>1</td>\n",
       "      <td>male</td>\n",
       "      <td>28.0</td>\n",
       "      <td>0</td>\n",
       "      <td>0</td>\n",
       "      <td>25.9250</td>\n",
       "      <td>S</td>\n",
       "    </tr>\n",
       "  </tbody>\n",
       "</table>\n",
       "<p>801 rows × 7 columns</p>\n",
       "</div>"
      ],
      "text/plain": [
       "     Pclass     Sex   Age  SibSp  Parch      Fare Embarked\n",
       "468       3    male  28.0      0      0    7.7250        Q\n",
       "67        3    male  19.0      0      0    8.1583        S\n",
       "510       3    male  29.0      0      0    7.7500        Q\n",
       "656       3    male  28.0      0      0    7.8958        S\n",
       "414       3    male  44.0      0      0    7.9250        S\n",
       "..      ...     ...   ...    ...    ...       ...      ...\n",
       "534       3  female  30.0      0      0    8.6625        S\n",
       "584       3    male  28.0      0      0    8.7125        C\n",
       "493       1    male  71.0      0      0   49.5042        C\n",
       "527       1    male  28.0      0      0  221.7792        S\n",
       "168       1    male  28.0      0      0   25.9250        S\n",
       "\n",
       "[801 rows x 7 columns]"
      ]
     },
     "execution_count": 33,
     "metadata": {},
     "output_type": "execute_result"
    }
   ],
   "source": [
    "train_inputs"
   ]
  },
  {
   "cell_type": "code",
   "execution_count": 34,
   "id": "8d513859",
   "metadata": {
    "execution": {
     "iopub.execute_input": "2023-09-03T17:04:09.057220Z",
     "iopub.status.busy": "2023-09-03T17:04:09.056514Z",
     "iopub.status.idle": "2023-09-03T17:04:09.073204Z",
     "shell.execute_reply": "2023-09-03T17:04:09.072149Z"
    },
    "papermill": {
     "duration": 0.050029,
     "end_time": "2023-09-03T17:04:09.075461",
     "exception": false,
     "start_time": "2023-09-03T17:04:09.025432",
     "status": "completed"
    },
    "tags": []
   },
   "outputs": [],
   "source": [
    "train_inputs['Sex'] = train_inputs['Sex'].replace({'male': 0,'female': 1})\n",
    "test_inputs['Sex'] = test_inputs['Sex'].replace({'male': 0,'female': 1})\n",
    "val_inputs['Sex'] = val_inputs['Sex'].replace({'male': 0,'female': 1})\n",
    "\n",
    "train_inputs['Embarked'] = train_inputs['Embarked'].replace({'S': 1,'C': 2,'Q': 3,'U':4})\n",
    "test_inputs['Embarked'] = test_inputs['Embarked'].replace({'S': 1,'C': 2,'Q': 3,'U':4})\n",
    "val_inputs['Embarked'] = val_inputs['Embarked'].replace({'S': 1,'C': 2,'Q': 3,'U':4})"
   ]
  },
  {
   "cell_type": "code",
   "execution_count": 35,
   "id": "32dcaeaa",
   "metadata": {
    "execution": {
     "iopub.execute_input": "2023-09-03T17:04:09.137435Z",
     "iopub.status.busy": "2023-09-03T17:04:09.136649Z",
     "iopub.status.idle": "2023-09-03T17:04:09.155359Z",
     "shell.execute_reply": "2023-09-03T17:04:09.153875Z"
    },
    "papermill": {
     "duration": 0.052617,
     "end_time": "2023-09-03T17:04:09.157895",
     "exception": false,
     "start_time": "2023-09-03T17:04:09.105278",
     "status": "completed"
    },
    "tags": []
   },
   "outputs": [
    {
     "data": {
      "text/html": [
       "<div>\n",
       "<style scoped>\n",
       "    .dataframe tbody tr th:only-of-type {\n",
       "        vertical-align: middle;\n",
       "    }\n",
       "\n",
       "    .dataframe tbody tr th {\n",
       "        vertical-align: top;\n",
       "    }\n",
       "\n",
       "    .dataframe thead th {\n",
       "        text-align: right;\n",
       "    }\n",
       "</style>\n",
       "<table border=\"1\" class=\"dataframe\">\n",
       "  <thead>\n",
       "    <tr style=\"text-align: right;\">\n",
       "      <th></th>\n",
       "      <th>Pclass</th>\n",
       "      <th>Sex</th>\n",
       "      <th>Age</th>\n",
       "      <th>SibSp</th>\n",
       "      <th>Parch</th>\n",
       "      <th>Fare</th>\n",
       "      <th>Embarked</th>\n",
       "    </tr>\n",
       "  </thead>\n",
       "  <tbody>\n",
       "    <tr>\n",
       "      <th>468</th>\n",
       "      <td>3</td>\n",
       "      <td>0</td>\n",
       "      <td>28.0</td>\n",
       "      <td>0</td>\n",
       "      <td>0</td>\n",
       "      <td>7.7250</td>\n",
       "      <td>3</td>\n",
       "    </tr>\n",
       "    <tr>\n",
       "      <th>67</th>\n",
       "      <td>3</td>\n",
       "      <td>0</td>\n",
       "      <td>19.0</td>\n",
       "      <td>0</td>\n",
       "      <td>0</td>\n",
       "      <td>8.1583</td>\n",
       "      <td>1</td>\n",
       "    </tr>\n",
       "    <tr>\n",
       "      <th>510</th>\n",
       "      <td>3</td>\n",
       "      <td>0</td>\n",
       "      <td>29.0</td>\n",
       "      <td>0</td>\n",
       "      <td>0</td>\n",
       "      <td>7.7500</td>\n",
       "      <td>3</td>\n",
       "    </tr>\n",
       "    <tr>\n",
       "      <th>656</th>\n",
       "      <td>3</td>\n",
       "      <td>0</td>\n",
       "      <td>28.0</td>\n",
       "      <td>0</td>\n",
       "      <td>0</td>\n",
       "      <td>7.8958</td>\n",
       "      <td>1</td>\n",
       "    </tr>\n",
       "    <tr>\n",
       "      <th>414</th>\n",
       "      <td>3</td>\n",
       "      <td>0</td>\n",
       "      <td>44.0</td>\n",
       "      <td>0</td>\n",
       "      <td>0</td>\n",
       "      <td>7.9250</td>\n",
       "      <td>1</td>\n",
       "    </tr>\n",
       "    <tr>\n",
       "      <th>...</th>\n",
       "      <td>...</td>\n",
       "      <td>...</td>\n",
       "      <td>...</td>\n",
       "      <td>...</td>\n",
       "      <td>...</td>\n",
       "      <td>...</td>\n",
       "      <td>...</td>\n",
       "    </tr>\n",
       "    <tr>\n",
       "      <th>534</th>\n",
       "      <td>3</td>\n",
       "      <td>1</td>\n",
       "      <td>30.0</td>\n",
       "      <td>0</td>\n",
       "      <td>0</td>\n",
       "      <td>8.6625</td>\n",
       "      <td>1</td>\n",
       "    </tr>\n",
       "    <tr>\n",
       "      <th>584</th>\n",
       "      <td>3</td>\n",
       "      <td>0</td>\n",
       "      <td>28.0</td>\n",
       "      <td>0</td>\n",
       "      <td>0</td>\n",
       "      <td>8.7125</td>\n",
       "      <td>2</td>\n",
       "    </tr>\n",
       "    <tr>\n",
       "      <th>493</th>\n",
       "      <td>1</td>\n",
       "      <td>0</td>\n",
       "      <td>71.0</td>\n",
       "      <td>0</td>\n",
       "      <td>0</td>\n",
       "      <td>49.5042</td>\n",
       "      <td>2</td>\n",
       "    </tr>\n",
       "    <tr>\n",
       "      <th>527</th>\n",
       "      <td>1</td>\n",
       "      <td>0</td>\n",
       "      <td>28.0</td>\n",
       "      <td>0</td>\n",
       "      <td>0</td>\n",
       "      <td>221.7792</td>\n",
       "      <td>1</td>\n",
       "    </tr>\n",
       "    <tr>\n",
       "      <th>168</th>\n",
       "      <td>1</td>\n",
       "      <td>0</td>\n",
       "      <td>28.0</td>\n",
       "      <td>0</td>\n",
       "      <td>0</td>\n",
       "      <td>25.9250</td>\n",
       "      <td>1</td>\n",
       "    </tr>\n",
       "  </tbody>\n",
       "</table>\n",
       "<p>801 rows × 7 columns</p>\n",
       "</div>"
      ],
      "text/plain": [
       "     Pclass  Sex   Age  SibSp  Parch      Fare  Embarked\n",
       "468       3    0  28.0      0      0    7.7250         3\n",
       "67        3    0  19.0      0      0    8.1583         1\n",
       "510       3    0  29.0      0      0    7.7500         3\n",
       "656       3    0  28.0      0      0    7.8958         1\n",
       "414       3    0  44.0      0      0    7.9250         1\n",
       "..      ...  ...   ...    ...    ...       ...       ...\n",
       "534       3    1  30.0      0      0    8.6625         1\n",
       "584       3    0  28.0      0      0    8.7125         2\n",
       "493       1    0  71.0      0      0   49.5042         2\n",
       "527       1    0  28.0      0      0  221.7792         1\n",
       "168       1    0  28.0      0      0   25.9250         1\n",
       "\n",
       "[801 rows x 7 columns]"
      ]
     },
     "execution_count": 35,
     "metadata": {},
     "output_type": "execute_result"
    }
   ],
   "source": [
    "train_inputs"
   ]
  },
  {
   "cell_type": "code",
   "execution_count": 36,
   "id": "fcc03b79",
   "metadata": {
    "execution": {
     "iopub.execute_input": "2023-09-03T17:04:09.219494Z",
     "iopub.status.busy": "2023-09-03T17:04:09.219095Z",
     "iopub.status.idle": "2023-09-03T17:04:09.315297Z",
     "shell.execute_reply": "2023-09-03T17:04:09.314328Z"
    },
    "papermill": {
     "duration": 0.129952,
     "end_time": "2023-09-03T17:04:09.317813",
     "exception": false,
     "start_time": "2023-09-03T17:04:09.187861",
     "status": "completed"
    },
    "tags": []
   },
   "outputs": [],
   "source": [
    "#LogisticRegression\n",
    "from sklearn.linear_model import LogisticRegression"
   ]
  },
  {
   "cell_type": "code",
   "execution_count": 37,
   "id": "335e7cca",
   "metadata": {
    "execution": {
     "iopub.execute_input": "2023-09-03T17:04:09.380240Z",
     "iopub.status.busy": "2023-09-03T17:04:09.379754Z",
     "iopub.status.idle": "2023-09-03T17:04:09.385502Z",
     "shell.execute_reply": "2023-09-03T17:04:09.384353Z"
    },
    "papermill": {
     "duration": 0.039869,
     "end_time": "2023-09-03T17:04:09.387799",
     "exception": false,
     "start_time": "2023-09-03T17:04:09.347930",
     "status": "completed"
    },
    "tags": []
   },
   "outputs": [],
   "source": [
    "model=LogisticRegression(solver='newton-cg')"
   ]
  },
  {
   "cell_type": "code",
   "execution_count": 38,
   "id": "66b19d80",
   "metadata": {
    "execution": {
     "iopub.execute_input": "2023-09-03T17:04:09.449783Z",
     "iopub.status.busy": "2023-09-03T17:04:09.449359Z",
     "iopub.status.idle": "2023-09-03T17:04:09.486422Z",
     "shell.execute_reply": "2023-09-03T17:04:09.485553Z"
    },
    "papermill": {
     "duration": 0.070596,
     "end_time": "2023-09-03T17:04:09.488499",
     "exception": false,
     "start_time": "2023-09-03T17:04:09.417903",
     "status": "completed"
    },
    "tags": []
   },
   "outputs": [
    {
     "data": {
      "text/html": [
       "<style>#sk-container-id-1 {color: black;background-color: white;}#sk-container-id-1 pre{padding: 0;}#sk-container-id-1 div.sk-toggleable {background-color: white;}#sk-container-id-1 label.sk-toggleable__label {cursor: pointer;display: block;width: 100%;margin-bottom: 0;padding: 0.3em;box-sizing: border-box;text-align: center;}#sk-container-id-1 label.sk-toggleable__label-arrow:before {content: \"▸\";float: left;margin-right: 0.25em;color: #696969;}#sk-container-id-1 label.sk-toggleable__label-arrow:hover:before {color: black;}#sk-container-id-1 div.sk-estimator:hover label.sk-toggleable__label-arrow:before {color: black;}#sk-container-id-1 div.sk-toggleable__content {max-height: 0;max-width: 0;overflow: hidden;text-align: left;background-color: #f0f8ff;}#sk-container-id-1 div.sk-toggleable__content pre {margin: 0.2em;color: black;border-radius: 0.25em;background-color: #f0f8ff;}#sk-container-id-1 input.sk-toggleable__control:checked~div.sk-toggleable__content {max-height: 200px;max-width: 100%;overflow: auto;}#sk-container-id-1 input.sk-toggleable__control:checked~label.sk-toggleable__label-arrow:before {content: \"▾\";}#sk-container-id-1 div.sk-estimator input.sk-toggleable__control:checked~label.sk-toggleable__label {background-color: #d4ebff;}#sk-container-id-1 div.sk-label input.sk-toggleable__control:checked~label.sk-toggleable__label {background-color: #d4ebff;}#sk-container-id-1 input.sk-hidden--visually {border: 0;clip: rect(1px 1px 1px 1px);clip: rect(1px, 1px, 1px, 1px);height: 1px;margin: -1px;overflow: hidden;padding: 0;position: absolute;width: 1px;}#sk-container-id-1 div.sk-estimator {font-family: monospace;background-color: #f0f8ff;border: 1px dotted black;border-radius: 0.25em;box-sizing: border-box;margin-bottom: 0.5em;}#sk-container-id-1 div.sk-estimator:hover {background-color: #d4ebff;}#sk-container-id-1 div.sk-parallel-item::after {content: \"\";width: 100%;border-bottom: 1px solid gray;flex-grow: 1;}#sk-container-id-1 div.sk-label:hover label.sk-toggleable__label {background-color: #d4ebff;}#sk-container-id-1 div.sk-serial::before {content: \"\";position: absolute;border-left: 1px solid gray;box-sizing: border-box;top: 0;bottom: 0;left: 50%;z-index: 0;}#sk-container-id-1 div.sk-serial {display: flex;flex-direction: column;align-items: center;background-color: white;padding-right: 0.2em;padding-left: 0.2em;position: relative;}#sk-container-id-1 div.sk-item {position: relative;z-index: 1;}#sk-container-id-1 div.sk-parallel {display: flex;align-items: stretch;justify-content: center;background-color: white;position: relative;}#sk-container-id-1 div.sk-item::before, #sk-container-id-1 div.sk-parallel-item::before {content: \"\";position: absolute;border-left: 1px solid gray;box-sizing: border-box;top: 0;bottom: 0;left: 50%;z-index: -1;}#sk-container-id-1 div.sk-parallel-item {display: flex;flex-direction: column;z-index: 1;position: relative;background-color: white;}#sk-container-id-1 div.sk-parallel-item:first-child::after {align-self: flex-end;width: 50%;}#sk-container-id-1 div.sk-parallel-item:last-child::after {align-self: flex-start;width: 50%;}#sk-container-id-1 div.sk-parallel-item:only-child::after {width: 0;}#sk-container-id-1 div.sk-dashed-wrapped {border: 1px dashed gray;margin: 0 0.4em 0.5em 0.4em;box-sizing: border-box;padding-bottom: 0.4em;background-color: white;}#sk-container-id-1 div.sk-label label {font-family: monospace;font-weight: bold;display: inline-block;line-height: 1.2em;}#sk-container-id-1 div.sk-label-container {text-align: center;}#sk-container-id-1 div.sk-container {/* jupyter's `normalize.less` sets `[hidden] { display: none; }` but bootstrap.min.css set `[hidden] { display: none !important; }` so we also need the `!important` here to be able to override the default hidden behavior on the sphinx rendered scikit-learn.org. See: https://github.com/scikit-learn/scikit-learn/issues/21755 */display: inline-block !important;position: relative;}#sk-container-id-1 div.sk-text-repr-fallback {display: none;}</style><div id=\"sk-container-id-1\" class=\"sk-top-container\"><div class=\"sk-text-repr-fallback\"><pre>LogisticRegression(solver=&#x27;newton-cg&#x27;)</pre><b>In a Jupyter environment, please rerun this cell to show the HTML representation or trust the notebook. <br />On GitHub, the HTML representation is unable to render, please try loading this page with nbviewer.org.</b></div><div class=\"sk-container\" hidden><div class=\"sk-item\"><div class=\"sk-estimator sk-toggleable\"><input class=\"sk-toggleable__control sk-hidden--visually\" id=\"sk-estimator-id-1\" type=\"checkbox\" checked><label for=\"sk-estimator-id-1\" class=\"sk-toggleable__label sk-toggleable__label-arrow\">LogisticRegression</label><div class=\"sk-toggleable__content\"><pre>LogisticRegression(solver=&#x27;newton-cg&#x27;)</pre></div></div></div></div></div>"
      ],
      "text/plain": [
       "LogisticRegression(solver='newton-cg')"
      ]
     },
     "execution_count": 38,
     "metadata": {},
     "output_type": "execute_result"
    }
   ],
   "source": [
    "model.fit(train_inputs,train_targets)"
   ]
  },
  {
   "cell_type": "code",
   "execution_count": 39,
   "id": "44ed4c3a",
   "metadata": {
    "execution": {
     "iopub.execute_input": "2023-09-03T17:04:09.551379Z",
     "iopub.status.busy": "2023-09-03T17:04:09.550726Z",
     "iopub.status.idle": "2023-09-03T17:04:09.555656Z",
     "shell.execute_reply": "2023-09-03T17:04:09.554581Z"
    },
    "papermill": {
     "duration": 0.039021,
     "end_time": "2023-09-03T17:04:09.557871",
     "exception": false,
     "start_time": "2023-09-03T17:04:09.518850",
     "status": "completed"
    },
    "tags": []
   },
   "outputs": [],
   "source": [
    "X_train=train_inputs\n",
    "X_val=val_inputs"
   ]
  },
  {
   "cell_type": "code",
   "execution_count": 40,
   "id": "adff44b1",
   "metadata": {
    "execution": {
     "iopub.execute_input": "2023-09-03T17:04:09.622218Z",
     "iopub.status.busy": "2023-09-03T17:04:09.621482Z",
     "iopub.status.idle": "2023-09-03T17:04:09.627922Z",
     "shell.execute_reply": "2023-09-03T17:04:09.627031Z"
    },
    "papermill": {
     "duration": 0.041951,
     "end_time": "2023-09-03T17:04:09.630176",
     "exception": false,
     "start_time": "2023-09-03T17:04:09.588225",
     "status": "completed"
    },
    "tags": []
   },
   "outputs": [],
   "source": [
    "train_preds=model.predict(X_train)"
   ]
  },
  {
   "cell_type": "raw",
   "id": "f40d2493",
   "metadata": {
    "papermill": {
     "duration": 0.029894,
     "end_time": "2023-09-03T17:04:09.690515",
     "exception": false,
     "start_time": "2023-09-03T17:04:09.660621",
     "status": "completed"
    },
    "tags": []
   },
   "source": [
    "train_preds"
   ]
  },
  {
   "cell_type": "code",
   "execution_count": 41,
   "id": "c2974b51",
   "metadata": {
    "execution": {
     "iopub.execute_input": "2023-09-03T17:04:09.753095Z",
     "iopub.status.busy": "2023-09-03T17:04:09.752419Z",
     "iopub.status.idle": "2023-09-03T17:04:09.760183Z",
     "shell.execute_reply": "2023-09-03T17:04:09.759139Z"
    },
    "papermill": {
     "duration": 0.04132,
     "end_time": "2023-09-03T17:04:09.762351",
     "exception": false,
     "start_time": "2023-09-03T17:04:09.721031",
     "status": "completed"
    },
    "tags": []
   },
   "outputs": [
    {
     "data": {
      "text/plain": [
       "468    0\n",
       "67     0\n",
       "510    1\n",
       "656    0\n",
       "414    1\n",
       "      ..\n",
       "534    0\n",
       "584    0\n",
       "493    0\n",
       "527    0\n",
       "168    0\n",
       "Name: Survived, Length: 801, dtype: int64"
      ]
     },
     "execution_count": 41,
     "metadata": {},
     "output_type": "execute_result"
    }
   ],
   "source": [
    "train_targets"
   ]
  },
  {
   "cell_type": "code",
   "execution_count": 42,
   "id": "eb29b59b",
   "metadata": {
    "execution": {
     "iopub.execute_input": "2023-09-03T17:04:09.824602Z",
     "iopub.status.busy": "2023-09-03T17:04:09.823508Z",
     "iopub.status.idle": "2023-09-03T17:04:09.832568Z",
     "shell.execute_reply": "2023-09-03T17:04:09.831649Z"
    },
    "papermill": {
     "duration": 0.042298,
     "end_time": "2023-09-03T17:04:09.834747",
     "exception": false,
     "start_time": "2023-09-03T17:04:09.792449",
     "status": "completed"
    },
    "tags": []
   },
   "outputs": [
    {
     "data": {
      "text/plain": [
       "array([[0.85019079, 0.14980921],\n",
       "       [0.86595211, 0.13404789],\n",
       "       [0.8558456 , 0.1441544 ],\n",
       "       ...,\n",
       "       [0.83522453, 0.16477547],\n",
       "       [0.372458  , 0.627542  ],\n",
       "       [0.50342182, 0.49657818]])"
      ]
     },
     "execution_count": 42,
     "metadata": {},
     "output_type": "execute_result"
    }
   ],
   "source": [
    "train_probs=model.predict_proba(X_train)\n",
    "train_probs"
   ]
  },
  {
   "cell_type": "code",
   "execution_count": 43,
   "id": "a735e445",
   "metadata": {
    "execution": {
     "iopub.execute_input": "2023-09-03T17:04:09.898374Z",
     "iopub.status.busy": "2023-09-03T17:04:09.897581Z",
     "iopub.status.idle": "2023-09-03T17:04:09.902707Z",
     "shell.execute_reply": "2023-09-03T17:04:09.901605Z"
    },
    "papermill": {
     "duration": 0.039736,
     "end_time": "2023-09-03T17:04:09.905048",
     "exception": false,
     "start_time": "2023-09-03T17:04:09.865312",
     "status": "completed"
    },
    "tags": []
   },
   "outputs": [],
   "source": [
    "from sklearn.metrics import accuracy_score"
   ]
  },
  {
   "cell_type": "code",
   "execution_count": 44,
   "id": "914463dc",
   "metadata": {
    "execution": {
     "iopub.execute_input": "2023-09-03T17:04:09.967368Z",
     "iopub.status.busy": "2023-09-03T17:04:09.966947Z",
     "iopub.status.idle": "2023-09-03T17:04:09.975784Z",
     "shell.execute_reply": "2023-09-03T17:04:09.974816Z"
    },
    "papermill": {
     "duration": 0.042626,
     "end_time": "2023-09-03T17:04:09.977892",
     "exception": false,
     "start_time": "2023-09-03T17:04:09.935266",
     "status": "completed"
    },
    "tags": []
   },
   "outputs": [
    {
     "data": {
      "text/plain": [
       "0.8114856429463171"
      ]
     },
     "execution_count": 44,
     "metadata": {},
     "output_type": "execute_result"
    }
   ],
   "source": [
    "accuracy_score(train_targets,train_preds)"
   ]
  },
  {
   "cell_type": "code",
   "execution_count": 45,
   "id": "16fc519c",
   "metadata": {
    "execution": {
     "iopub.execute_input": "2023-09-03T17:04:10.042384Z",
     "iopub.status.busy": "2023-09-03T17:04:10.041980Z",
     "iopub.status.idle": "2023-09-03T17:04:10.051775Z",
     "shell.execute_reply": "2023-09-03T17:04:10.050680Z"
    },
    "papermill": {
     "duration": 0.0447,
     "end_time": "2023-09-03T17:04:10.054013",
     "exception": false,
     "start_time": "2023-09-03T17:04:10.009313",
     "status": "completed"
    },
    "tags": []
   },
   "outputs": [
    {
     "data": {
      "text/plain": [
       "array([0, 0, 1, 0, 0, 0, 0, 0, 0, 0, 0, 1, 1, 0, 0, 1, 0, 0, 1, 0, 1, 1,\n",
       "       0, 1, 0, 1, 1, 0, 0, 0, 0, 0, 0, 1, 0, 1, 1, 0, 0, 0, 0, 0, 1, 0,\n",
       "       0, 1, 1, 0, 0, 1, 0, 0, 0, 0, 0, 0, 1, 0, 0, 0, 1, 0, 0, 0, 1, 0,\n",
       "       1, 0, 0, 0, 1, 0, 1, 0, 1, 0, 0, 0, 1, 0, 1, 1, 0, 0, 1, 1, 0, 0,\n",
       "       1, 0])"
      ]
     },
     "execution_count": 45,
     "metadata": {},
     "output_type": "execute_result"
    }
   ],
   "source": [
    "val_preds=model.predict(X_val)\n",
    "val_preds"
   ]
  },
  {
   "cell_type": "code",
   "execution_count": 46,
   "id": "d6826a57",
   "metadata": {
    "execution": {
     "iopub.execute_input": "2023-09-03T17:04:10.118008Z",
     "iopub.status.busy": "2023-09-03T17:04:10.117357Z",
     "iopub.status.idle": "2023-09-03T17:04:10.125400Z",
     "shell.execute_reply": "2023-09-03T17:04:10.124376Z"
    },
    "papermill": {
     "duration": 0.042705,
     "end_time": "2023-09-03T17:04:10.127488",
     "exception": false,
     "start_time": "2023-09-03T17:04:10.084783",
     "status": "completed"
    },
    "tags": []
   },
   "outputs": [
    {
     "data": {
      "text/plain": [
       "707    1\n",
       "37     0\n",
       "615    1\n",
       "169    0\n",
       "68     1\n",
       "      ..\n",
       "84     1\n",
       "471    0\n",
       "384    0\n",
       "726    1\n",
       "342    0\n",
       "Name: Survived, Length: 90, dtype: int64"
      ]
     },
     "execution_count": 46,
     "metadata": {},
     "output_type": "execute_result"
    }
   ],
   "source": [
    "val_targets"
   ]
  },
  {
   "cell_type": "code",
   "execution_count": 47,
   "id": "c36bebd9",
   "metadata": {
    "execution": {
     "iopub.execute_input": "2023-09-03T17:04:10.191385Z",
     "iopub.status.busy": "2023-09-03T17:04:10.190713Z",
     "iopub.status.idle": "2023-09-03T17:04:10.202385Z",
     "shell.execute_reply": "2023-09-03T17:04:10.201239Z"
    },
    "papermill": {
     "duration": 0.046369,
     "end_time": "2023-09-03T17:04:10.204612",
     "exception": false,
     "start_time": "2023-09-03T17:04:10.158243",
     "status": "completed"
    },
    "tags": []
   },
   "outputs": [
    {
     "data": {
      "text/plain": [
       "array([[0.65591639, 0.34408361],\n",
       "       [0.87612967, 0.12387033],\n",
       "       [0.21125921, 0.78874079],\n",
       "       [0.89473784, 0.10526216],\n",
       "       [0.69135127, 0.30864873],\n",
       "       [0.91398376, 0.08601624],\n",
       "       [0.91306577, 0.08693423],\n",
       "       [0.89465206, 0.10534794],\n",
       "       [0.81743866, 0.18256134],\n",
       "       [0.79833882, 0.20166118],\n",
       "       [0.80763044, 0.19236956],\n",
       "       [0.11075163, 0.88924837],\n",
       "       [0.43405301, 0.56594699],\n",
       "       [0.89473784, 0.10526216],\n",
       "       [0.89473784, 0.10526216],\n",
       "       [0.40820636, 0.59179364],\n",
       "       [0.91847982, 0.08152018],\n",
       "       [0.96242756, 0.03757244],\n",
       "       [0.25892068, 0.74107932],\n",
       "       [0.96793843, 0.03206157],\n",
       "       [0.36806732, 0.63193268],\n",
       "       [0.44313924, 0.55686076],\n",
       "       [0.92338286, 0.07661714],\n",
       "       [0.42888002, 0.57111998],\n",
       "       [0.79120218, 0.20879782],\n",
       "       [0.24070308, 0.75929692],\n",
       "       [0.38315574, 0.61684426],\n",
       "       [0.67677483, 0.32322517],\n",
       "       [0.90623791, 0.09376209],\n",
       "       [0.9109927 , 0.0890073 ],\n",
       "       [0.87118144, 0.12881856],\n",
       "       [0.93437438, 0.06562562],\n",
       "       [0.56111528, 0.43888472],\n",
       "       [0.48697237, 0.51302763],\n",
       "       [0.56789528, 0.43210472],\n",
       "       [0.48058494, 0.51941506],\n",
       "       [0.06229589, 0.93770411],\n",
       "       [0.95261793, 0.04738207],\n",
       "       [0.90660986, 0.09339014],\n",
       "       [0.8141275 , 0.1858725 ],\n",
       "       [0.93860059, 0.06139941],\n",
       "       [0.9533796 , 0.0466204 ],\n",
       "       [0.34783163, 0.65216837],\n",
       "       [0.9018553 , 0.0981447 ],\n",
       "       [0.87601592, 0.12398408],\n",
       "       [0.30873495, 0.69126505],\n",
       "       [0.0441237 , 0.9558763 ],\n",
       "       [0.90643226, 0.09356774],\n",
       "       [0.85005871, 0.14994129],\n",
       "       [0.18016892, 0.81983108],\n",
       "       [0.90657416, 0.09342584],\n",
       "       [0.74096831, 0.25903169],\n",
       "       [0.75841294, 0.24158706],\n",
       "       [0.69796818, 0.30203182],\n",
       "       [0.79274153, 0.20725847],\n",
       "       [0.77537648, 0.22462352],\n",
       "       [0.24486847, 0.75513153],\n",
       "       [0.87594785, 0.12405215],\n",
       "       [0.96491463, 0.03508537],\n",
       "       [0.92082046, 0.07917954],\n",
       "       [0.30060679, 0.69939321],\n",
       "       [0.59425612, 0.40574388],\n",
       "       [0.93013279, 0.06986721],\n",
       "       [0.90675921, 0.09324079],\n",
       "       [0.18319798, 0.81680202],\n",
       "       [0.9237495 , 0.0762505 ],\n",
       "       [0.1526871 , 0.8473129 ],\n",
       "       [0.77222375, 0.22777625],\n",
       "       [0.92975968, 0.07024032],\n",
       "       [0.89764336, 0.10235664],\n",
       "       [0.45825585, 0.54174415],\n",
       "       [0.98727416, 0.01272584],\n",
       "       [0.36664222, 0.63335778],\n",
       "       [0.906633  , 0.093367  ],\n",
       "       [0.38979632, 0.61020368],\n",
       "       [0.66683095, 0.33316905],\n",
       "       [0.8606565 , 0.1393435 ],\n",
       "       [0.60510055, 0.39489945],\n",
       "       [0.16428471, 0.83571529],\n",
       "       [0.91058325, 0.08941675],\n",
       "       [0.04404553, 0.95595447],\n",
       "       [0.49216378, 0.50783622],\n",
       "       [0.95513463, 0.04486537],\n",
       "       [0.85600781, 0.14399219],\n",
       "       [0.10124692, 0.89875308],\n",
       "       [0.12271633, 0.87728367],\n",
       "       [0.93834608, 0.06165392],\n",
       "       [0.90660986, 0.09339014],\n",
       "       [0.44291201, 0.55708799],\n",
       "       [0.76024007, 0.23975993]])"
      ]
     },
     "execution_count": 47,
     "metadata": {},
     "output_type": "execute_result"
    }
   ],
   "source": [
    "val_probs=model.predict_proba(X_val)\n",
    "val_probs"
   ]
  },
  {
   "cell_type": "code",
   "execution_count": 48,
   "id": "31132c30",
   "metadata": {
    "execution": {
     "iopub.execute_input": "2023-09-03T17:04:10.269233Z",
     "iopub.status.busy": "2023-09-03T17:04:10.268519Z",
     "iopub.status.idle": "2023-09-03T17:04:10.276364Z",
     "shell.execute_reply": "2023-09-03T17:04:10.275240Z"
    },
    "papermill": {
     "duration": 0.04291,
     "end_time": "2023-09-03T17:04:10.278576",
     "exception": false,
     "start_time": "2023-09-03T17:04:10.235666",
     "status": "completed"
    },
    "tags": []
   },
   "outputs": [
    {
     "data": {
      "text/plain": [
       "0.7222222222222222"
      ]
     },
     "execution_count": 48,
     "metadata": {},
     "output_type": "execute_result"
    }
   ],
   "source": [
    "accuracy_score(val_targets,val_preds)"
   ]
  },
  {
   "cell_type": "code",
   "execution_count": 49,
   "id": "0d98fa45",
   "metadata": {
    "execution": {
     "iopub.execute_input": "2023-09-03T17:04:10.343617Z",
     "iopub.status.busy": "2023-09-03T17:04:10.342962Z",
     "iopub.status.idle": "2023-09-03T17:04:10.364085Z",
     "shell.execute_reply": "2023-09-03T17:04:10.362992Z"
    },
    "papermill": {
     "duration": 0.05659,
     "end_time": "2023-09-03T17:04:10.366648",
     "exception": false,
     "start_time": "2023-09-03T17:04:10.310058",
     "status": "completed"
    },
    "tags": []
   },
   "outputs": [
    {
     "data": {
      "text/plain": [
       "array([[0.88385482, 0.11614518],\n",
       "       [0.71009675, 0.28990325],\n",
       "       [0.89675806, 0.10324194],\n",
       "       [0.90252984, 0.09747016],\n",
       "       [0.44934792, 0.55065208],\n",
       "       [0.83710462, 0.16289538],\n",
       "       [0.30913895, 0.69086105],\n",
       "       [0.81116399, 0.18883601],\n",
       "       [0.25416728, 0.74583272],\n",
       "       [0.93692553, 0.06307447],\n",
       "       [0.90271405, 0.09728595],\n",
       "       [0.69564298, 0.30435702],\n",
       "       [0.06887828, 0.93112172],\n",
       "       [0.95658646, 0.04341354],\n",
       "       [0.1881325 , 0.8118675 ],\n",
       "       [0.17172645, 0.82827355],\n",
       "       [0.71802864, 0.28197136],\n",
       "       [0.84420923, 0.15579077],\n",
       "       [0.49745564, 0.50254436],\n",
       "       [0.53574685, 0.46425315],\n",
       "       [0.78010413, 0.21989587],\n",
       "       [0.81338959, 0.18661041],\n",
       "       [0.06427888, 0.93572112],\n",
       "       [0.34900205, 0.65099795],\n",
       "       [0.1089383 , 0.8910617 ],\n",
       "       [0.97446245, 0.02553755],\n",
       "       [0.03876311, 0.96123689],\n",
       "       [0.852915  , 0.147085  ],\n",
       "       [0.64301138, 0.35698862],\n",
       "       [0.93746453, 0.06253547],\n",
       "       [0.92451413, 0.07548587],\n",
       "       [0.84667329, 0.15332671],\n",
       "       [0.57826117, 0.42173883],\n",
       "       [0.50918136, 0.49081864],\n",
       "       [0.53529244, 0.46470756],\n",
       "       [0.8287703 , 0.1712297 ],\n",
       "       [0.40046487, 0.59953513],\n",
       "       [0.33709795, 0.66290205],\n",
       "       [0.89407097, 0.10592903],\n",
       "       [0.89040665, 0.10959335],\n",
       "       [0.92627208, 0.07372792],\n",
       "       [0.49170173, 0.50829827],\n",
       "       [0.94585013, 0.05414987],\n",
       "       [0.19996521, 0.80003479],\n",
       "       [0.1781436 , 0.8218564 ],\n",
       "       [0.89447803, 0.10552197],\n",
       "       [0.62309325, 0.37690675],\n",
       "       [0.84433653, 0.15566347],\n",
       "       [0.17109415, 0.82890585],\n",
       "       [0.51772625, 0.48227375],\n",
       "       [0.53316402, 0.46683598],\n",
       "       [0.69732994, 0.30267006],\n",
       "       [0.26213381, 0.73786619],\n",
       "       [0.11953407, 0.88046593],\n",
       "       [0.6970149 , 0.3029851 ],\n",
       "       [0.92281032, 0.07718968],\n",
       "       [0.93016018, 0.06983982],\n",
       "       [0.89454896, 0.10545104],\n",
       "       [0.93075429, 0.06924571],\n",
       "       [0.04028099, 0.95971901],\n",
       "       [0.85520221, 0.14479779],\n",
       "       [0.79139092, 0.20860908],\n",
       "       [0.86075482, 0.13924518],\n",
       "       [0.23761302, 0.76238698],\n",
       "       [0.33102182, 0.66897818],\n",
       "       [0.17596824, 0.82403176],\n",
       "       [0.20637224, 0.79362776],\n",
       "       [0.69571606, 0.30428394],\n",
       "       [0.4683982 , 0.5316018 ],\n",
       "       [0.22306065, 0.77693935],\n",
       "       [0.25435305, 0.74564695],\n",
       "       [0.87617541, 0.12382459],\n",
       "       [0.42242252, 0.57757748],\n",
       "       [0.44095643, 0.55904357],\n",
       "       [0.0440716 , 0.9559284 ],\n",
       "       [0.3637911 , 0.6362089 ],\n",
       "       [0.90267702, 0.09732298],\n",
       "       [0.35187489, 0.64812511],\n",
       "       [0.77631967, 0.22368033],\n",
       "       [0.25435305, 0.74564695],\n",
       "       [0.80659201, 0.19340799],\n",
       "       [0.83660122, 0.16339878],\n",
       "       [0.72355418, 0.27644582],\n",
       "       [0.90271405, 0.09728595],\n",
       "       [0.64055882, 0.35944118],\n",
       "       [0.91166897, 0.08833103],\n",
       "       [0.2808283 , 0.7191717 ],\n",
       "       [0.30786815, 0.69213185],\n",
       "       [0.28089963, 0.71910037],\n",
       "       [0.59623188, 0.40376812],\n",
       "       [0.43723628, 0.56276372],\n",
       "       [0.90274304, 0.09725696],\n",
       "       [0.09524012, 0.90475988],\n",
       "       [0.90267702, 0.09732298],\n",
       "       [0.40355109, 0.59644891],\n",
       "       [0.89451136, 0.10548864],\n",
       "       [0.45006043, 0.54993957],\n",
       "       [0.91035863, 0.08964137],\n",
       "       [0.32756491, 0.67243509],\n",
       "       [0.92402822, 0.07597178],\n",
       "       [0.13057701, 0.86942299],\n",
       "       [0.8124935 , 0.1875065 ],\n",
       "       [0.84433653, 0.15566347],\n",
       "       [0.89870395, 0.10129605],\n",
       "       [0.32460328, 0.67539672],\n",
       "       [0.90316852, 0.09683148],\n",
       "       [0.80527732, 0.19472268],\n",
       "       [0.84433653, 0.15566347],\n",
       "       [0.90251781, 0.09748219],\n",
       "       [0.67367022, 0.32632978],\n",
       "       [0.81260604, 0.18739396],\n",
       "       [0.28088351, 0.71911649],\n",
       "       [0.07309125, 0.92690875],\n",
       "       [0.21036669, 0.78963331],\n",
       "       [0.23533909, 0.76466091],\n",
       "       [0.87298455, 0.12701545],\n",
       "       [0.87686698, 0.12313302],\n",
       "       [0.23793297, 0.76206703],\n",
       "       [0.49290856, 0.50709144],\n",
       "       [0.25460261, 0.74539739],\n",
       "       [0.09910742, 0.90089258],\n",
       "       [0.88932493, 0.11067507],\n",
       "       [0.09418471, 0.90581529],\n",
       "       [0.90675921, 0.09324079],\n",
       "       [0.84433653, 0.15566347],\n",
       "       [0.30309298, 0.69690702],\n",
       "       [0.88102251, 0.11897749],\n",
       "       [0.45106846, 0.54893154],\n",
       "       [0.85649126, 0.14350874],\n",
       "       [0.89010404, 0.10989596],\n",
       "       [0.92079554, 0.07920446],\n",
       "       [0.7042002 , 0.2957998 ],\n",
       "       [0.43230639, 0.56769361],\n",
       "       [0.91341782, 0.08658218],\n",
       "       [0.95028965, 0.04971035],\n",
       "       [0.89015639, 0.10984361],\n",
       "       [0.87417074, 0.12582926],\n",
       "       [0.74338665, 0.25661335],\n",
       "       [0.35796005, 0.64203995],\n",
       "       [0.96673613, 0.03326387],\n",
       "       [0.68496588, 0.31503412],\n",
       "       [0.06095686, 0.93904314],\n",
       "       [0.75333952, 0.24666048],\n",
       "       [0.75370299, 0.24629701],\n",
       "       [0.65575443, 0.34424557],\n",
       "       [0.9723438 , 0.0276562 ],\n",
       "       [0.47442517, 0.52557483],\n",
       "       [0.88094965, 0.11905035],\n",
       "       [0.49170173, 0.50829827],\n",
       "       [0.83841643, 0.16158357],\n",
       "       [0.03829198, 0.96170802],\n",
       "       [0.87643592, 0.12356408],\n",
       "       [0.97504268, 0.02495732],\n",
       "       [0.52026251, 0.47973749],\n",
       "       [0.96054979, 0.03945021],\n",
       "       [0.89023767, 0.10976233],\n",
       "       [0.04280429, 0.95719571],\n",
       "       [0.35808307, 0.64191693],\n",
       "       [0.65575443, 0.34424557],\n",
       "       [0.40733147, 0.59266853],\n",
       "       [0.28090885, 0.71909115],\n",
       "       [0.81354195, 0.18645805],\n",
       "       [0.17241903, 0.82758097],\n",
       "       [0.90292888, 0.09707112],\n",
       "       [0.8508487 , 0.1491513 ],\n",
       "       [0.48769676, 0.51230324],\n",
       "       [0.64138439, 0.35861561],\n",
       "       [0.93240019, 0.06759981],\n",
       "       [0.05040705, 0.94959295],\n",
       "       [0.34708015, 0.65291985],\n",
       "       [0.90279703, 0.09720297],\n",
       "       [0.87663436, 0.12336564],\n",
       "       [0.91861285, 0.08138715],\n",
       "       [0.87663312, 0.12336688],\n",
       "       [0.9666631 , 0.0333369 ],\n",
       "       [0.1144708 , 0.8855292 ],\n",
       "       [0.12974845, 0.87025155],\n",
       "       [0.77415414, 0.22584586],\n",
       "       [0.25874244, 0.74125756],\n",
       "       [0.20971952, 0.79028048],\n",
       "       [0.77631967, 0.22368033],\n",
       "       [0.60655381, 0.39344619],\n",
       "       [0.06007554, 0.93992446],\n",
       "       [0.84433653, 0.15566347],\n",
       "       [0.04314642, 0.95685358],\n",
       "       [0.84394744, 0.15605256],\n",
       "       [0.14550704, 0.85449296],\n",
       "       [0.92834875, 0.07165125],\n",
       "       [0.93473329, 0.06526671],\n",
       "       [0.84502441, 0.15497559],\n",
       "       [0.85600781, 0.14399219],\n",
       "       [0.49207749, 0.50792251],\n",
       "       [0.87513725, 0.12486275],\n",
       "       [0.89179973, 0.10820027],\n",
       "       [0.57114751, 0.42885249],\n",
       "       [0.92406578, 0.07593422],\n",
       "       [0.1890398 , 0.8109602 ],\n",
       "       [0.30802835, 0.69197165],\n",
       "       [0.71807931, 0.28192069],\n",
       "       [0.40042385, 0.59957615],\n",
       "       [0.27664032, 0.72335968],\n",
       "       [0.74922736, 0.25077264],\n",
       "       [0.60952047, 0.39047953],\n",
       "       [0.12150881, 0.87849119],\n",
       "       [0.73600457, 0.26399543],\n",
       "       [0.42564693, 0.57435307],\n",
       "       [0.35925426, 0.64074574],\n",
       "       [0.72713389, 0.27286611],\n",
       "       [0.06507953, 0.93492047],\n",
       "       [0.89448556, 0.10551444],\n",
       "       [0.91786134, 0.08213866],\n",
       "       [0.9029169 , 0.0970831 ],\n",
       "       [0.62050466, 0.37949534],\n",
       "       [0.58083839, 0.41916161],\n",
       "       [0.85264923, 0.14735077],\n",
       "       [0.64584646, 0.35415354],\n",
       "       [0.2808283 , 0.7191717 ],\n",
       "       [0.79925539, 0.20074461],\n",
       "       [0.12329849, 0.87670151],\n",
       "       [0.90267702, 0.09732298],\n",
       "       [0.22020087, 0.77979913],\n",
       "       [0.87612967, 0.12387033],\n",
       "       [0.14917591, 0.85082409],\n",
       "       [0.87620506, 0.12379494],\n",
       "       [0.14671562, 0.85328438],\n",
       "       [0.35377175, 0.64622825],\n",
       "       [0.88567694, 0.11432306],\n",
       "       [0.28089963, 0.71910037],\n",
       "       [0.94363669, 0.05636331],\n",
       "       [0.81985971, 0.18014029],\n",
       "       [0.59372848, 0.40627152],\n",
       "       [0.05044522, 0.94955478],\n",
       "       [0.91321493, 0.08678507],\n",
       "       [0.84429011, 0.15570989],\n",
       "       [0.62503795, 0.37496205],\n",
       "       [0.87120316, 0.12879684],\n",
       "       [0.8361043 , 0.1638957 ],\n",
       "       [0.83817499, 0.16182501],\n",
       "       [0.18378193, 0.81621807],\n",
       "       [0.14071605, 0.85928395],\n",
       "       [0.15829114, 0.84170886],\n",
       "       [0.33939096, 0.66060904],\n",
       "       [0.65789016, 0.34210984],\n",
       "       [0.90271604, 0.09728396],\n",
       "       [0.93508677, 0.06491323],\n",
       "       [0.71566778, 0.28433222],\n",
       "       [0.14556953, 0.85443047],\n",
       "       [0.89759894, 0.10240106],\n",
       "       [0.25460261, 0.74539739],\n",
       "       [0.42637104, 0.57362896],\n",
       "       [0.09464704, 0.90535296],\n",
       "       [0.87118144, 0.12881856],\n",
       "       [0.44765515, 0.55234485],\n",
       "       [0.88976266, 0.11023734],\n",
       "       [0.92214321, 0.07785679],\n",
       "       [0.90279703, 0.09720297],\n",
       "       [0.84433653, 0.15566347],\n",
       "       [0.90657416, 0.09342584],\n",
       "       [0.13199442, 0.86800558],\n",
       "       [0.87621123, 0.12378877],\n",
       "       [0.95364421, 0.04635579],\n",
       "       [0.87618775, 0.12381225],\n",
       "       [0.20267202, 0.79732798],\n",
       "       [0.2401789 , 0.7598211 ],\n",
       "       [0.72639659, 0.27360341],\n",
       "       [0.90271405, 0.09728595],\n",
       "       [0.50984352, 0.49015648],\n",
       "       [0.90279703, 0.09720297],\n",
       "       [0.40046487, 0.59953513],\n",
       "       [0.8549425 , 0.1450575 ],\n",
       "       [0.60429269, 0.39570731],\n",
       "       [0.84433653, 0.15566347],\n",
       "       [0.05284084, 0.94715916],\n",
       "       [0.3616571 , 0.6383429 ],\n",
       "       [0.87663436, 0.12336564],\n",
       "       [0.18530814, 0.81469186],\n",
       "       [0.76148349, 0.23851651],\n",
       "       [0.88630798, 0.11369202],\n",
       "       [0.83417186, 0.16582814],\n",
       "       [0.70884458, 0.29115542],\n",
       "       [0.35757535, 0.64242465],\n",
       "       [0.81206963, 0.18793037],\n",
       "       [0.28089963, 0.71910037],\n",
       "       [0.2559137 , 0.7440863 ],\n",
       "       [0.24444322, 0.75555678],\n",
       "       [0.93314864, 0.06685136],\n",
       "       [0.90286897, 0.09713103],\n",
       "       [0.51798832, 0.48201168],\n",
       "       [0.87663312, 0.12336688],\n",
       "       [0.90267702, 0.09732298],\n",
       "       [0.48278962, 0.51721038],\n",
       "       [0.30953561, 0.69046439],\n",
       "       [0.87663312, 0.12336688],\n",
       "       [0.80656651, 0.19343349],\n",
       "       [0.93276394, 0.06723606],\n",
       "       [0.89867389, 0.10132611],\n",
       "       [0.07169054, 0.92830946],\n",
       "       [0.93746453, 0.06253547],\n",
       "       [0.51262953, 0.48737047],\n",
       "       [0.91037442, 0.08962558],\n",
       "       [0.92085035, 0.07914965],\n",
       "       [0.69732273, 0.30267727],\n",
       "       [0.86464613, 0.13535387],\n",
       "       [0.88994016, 0.11005984],\n",
       "       [0.28089963, 0.71910037],\n",
       "       [0.36473018, 0.63526982],\n",
       "       [0.56045092, 0.43954908],\n",
       "       [0.74766833, 0.25233167],\n",
       "       [0.8155343 , 0.1844657 ],\n",
       "       [0.68698748, 0.31301252],\n",
       "       [0.86045559, 0.13954441],\n",
       "       [0.85005871, 0.14994129],\n",
       "       [0.90279103, 0.09720897],\n",
       "       [0.38030543, 0.61969457],\n",
       "       [0.12282128, 0.87717872],\n",
       "       [0.19913501, 0.80086499],\n",
       "       [0.75370593, 0.24629407],\n",
       "       [0.68010484, 0.31989516],\n",
       "       [0.90272403, 0.09727597],\n",
       "       [0.83457346, 0.16542654],\n",
       "       [0.89870395, 0.10129605],\n",
       "       [0.86652486, 0.13347514],\n",
       "       [0.74338665, 0.25661335],\n",
       "       [0.55918492, 0.44081508],\n",
       "       [0.0674161 , 0.9325839 ],\n",
       "       [0.8858832 , 0.1141168 ],\n",
       "       [0.19153837, 0.80846163],\n",
       "       [0.60170244, 0.39829756],\n",
       "       [0.82587136, 0.17412864],\n",
       "       [0.69799537, 0.30200463],\n",
       "       [0.36611144, 0.63388856],\n",
       "       [0.55765429, 0.44234571],\n",
       "       [0.87663436, 0.12336564],\n",
       "       [0.35048208, 0.64951792],\n",
       "       [0.90271405, 0.09728595],\n",
       "       [0.5259349 , 0.4740651 ],\n",
       "       [0.79161647, 0.20838353],\n",
       "       [0.93036909, 0.06963091],\n",
       "       [0.72470079, 0.27529921],\n",
       "       [0.87663312, 0.12336688],\n",
       "       [0.67019751, 0.32980249],\n",
       "       [0.92088935, 0.07911065],\n",
       "       [0.94553951, 0.05446049],\n",
       "       [0.05649269, 0.94350731],\n",
       "       [0.93384935, 0.06615065],\n",
       "       [0.28918168, 0.71081832],\n",
       "       [0.74338665, 0.25661335],\n",
       "       [0.45685612, 0.54314388],\n",
       "       [0.72550378, 0.27449622],\n",
       "       [0.20371991, 0.79628009],\n",
       "       [0.10197288, 0.89802712],\n",
       "       [0.73600457, 0.26399543],\n",
       "       [0.63108306, 0.36891694],\n",
       "       [0.92003959, 0.07996041],\n",
       "       [0.23731427, 0.76268573],\n",
       "       [0.73249842, 0.26750158],\n",
       "       [0.37740537, 0.62259463],\n",
       "       [0.90271803, 0.09728197],\n",
       "       [0.84433653, 0.15566347],\n",
       "       [0.52610244, 0.47389756],\n",
       "       [0.99123294, 0.00876706],\n",
       "       [0.17448847, 0.82551153],\n",
       "       [0.20371991, 0.79628009],\n",
       "       [0.90252984, 0.09747016],\n",
       "       [0.06244324, 0.93755676],\n",
       "       [0.55562427, 0.44437573],\n",
       "       [0.91166806, 0.08833194],\n",
       "       [0.32829947, 0.67170053],\n",
       "       [0.10296801, 0.89703199],\n",
       "       [0.71670541, 0.28329459],\n",
       "       [0.7746715 , 0.2253285 ],\n",
       "       [0.04534344, 0.95465656],\n",
       "       [0.73754209, 0.26245791],\n",
       "       [0.86724296, 0.13275704],\n",
       "       [0.23906172, 0.76093828],\n",
       "       [0.05929054, 0.94070946],\n",
       "       [0.53865772, 0.46134228],\n",
       "       [0.698859  , 0.301141  ],\n",
       "       [0.76271214, 0.23728786],\n",
       "       [0.94433162, 0.05566838],\n",
       "       [0.84433653, 0.15566347],\n",
       "       [0.8382584 , 0.1617416 ],\n",
       "       [0.39623925, 0.60376075],\n",
       "       [0.40277272, 0.59722728],\n",
       "       [0.75197298, 0.24802702],\n",
       "       [0.21125921, 0.78874079],\n",
       "       [0.89017755, 0.10982245],\n",
       "       [0.92158469, 0.07841531],\n",
       "       [0.80530767, 0.19469233],\n",
       "       [0.9217776 , 0.0782224 ],\n",
       "       [0.40205576, 0.59794424],\n",
       "       [0.17217304, 0.82782696],\n",
       "       [0.8390091 , 0.1609909 ],\n",
       "       [0.88279389, 0.11720611],\n",
       "       [0.9707781 , 0.0292219 ],\n",
       "       [0.0590193 , 0.9409807 ],\n",
       "       [0.82587875, 0.17412125],\n",
       "       [0.15574134, 0.84425866],\n",
       "       [0.88102847, 0.11897153],\n",
       "       [0.86664342, 0.13335658],\n",
       "       [0.05182718, 0.94817282],\n",
       "       [0.8783491 , 0.1216509 ],\n",
       "       [0.03902666, 0.96097334],\n",
       "       [0.36792669, 0.63207331],\n",
       "       [0.69227306, 0.30772694],\n",
       "       [0.62751943, 0.37248057],\n",
       "       [0.79050359, 0.20949641],\n",
       "       [0.66134637, 0.33865363],\n",
       "       [0.28091576, 0.71908424],\n",
       "       [0.25622175, 0.74377825],\n",
       "       [0.28089963, 0.71910037],\n",
       "       [0.07377951, 0.92622049],\n",
       "       [0.41154026, 0.58845974],\n",
       "       [0.90267702, 0.09732298],\n",
       "       [0.06813439, 0.93186561],\n",
       "       [0.93985859, 0.06014141],\n",
       "       [0.90267702, 0.09732298],\n",
       "       [0.91350893, 0.08649107]])"
      ]
     },
     "execution_count": 49,
     "metadata": {},
     "output_type": "execute_result"
    }
   ],
   "source": [
    "preds=model.predict_proba(test_inputs)\n",
    "preds"
   ]
  },
  {
   "cell_type": "code",
   "execution_count": 50,
   "id": "5e15d2bc",
   "metadata": {
    "execution": {
     "iopub.execute_input": "2023-09-03T17:04:10.432717Z",
     "iopub.status.busy": "2023-09-03T17:04:10.432085Z",
     "iopub.status.idle": "2023-09-03T17:04:10.723996Z",
     "shell.execute_reply": "2023-09-03T17:04:10.722525Z"
    },
    "papermill": {
     "duration": 0.328234,
     "end_time": "2023-09-03T17:04:10.726988",
     "exception": false,
     "start_time": "2023-09-03T17:04:10.398754",
     "status": "completed"
    },
    "tags": []
   },
   "outputs": [],
   "source": [
    "#RandomForest\n",
    "from sklearn.ensemble import RandomForestClassifier"
   ]
  },
  {
   "cell_type": "code",
   "execution_count": 51,
   "id": "46888589",
   "metadata": {
    "execution": {
     "iopub.execute_input": "2023-09-03T17:04:10.794902Z",
     "iopub.status.busy": "2023-09-03T17:04:10.794509Z",
     "iopub.status.idle": "2023-09-03T17:04:10.799721Z",
     "shell.execute_reply": "2023-09-03T17:04:10.798592Z"
    },
    "papermill": {
     "duration": 0.041408,
     "end_time": "2023-09-03T17:04:10.801914",
     "exception": false,
     "start_time": "2023-09-03T17:04:10.760506",
     "status": "completed"
    },
    "tags": []
   },
   "outputs": [],
   "source": [
    "model=RandomForestClassifier(n_jobs=-1,random_state=3,n_estimators=500,max_depth=20,max_leaf_nodes=10)"
   ]
  },
  {
   "cell_type": "code",
   "execution_count": 52,
   "id": "a861d41b",
   "metadata": {
    "execution": {
     "iopub.execute_input": "2023-09-03T17:04:10.870013Z",
     "iopub.status.busy": "2023-09-03T17:04:10.869160Z",
     "iopub.status.idle": "2023-09-03T17:04:12.330841Z",
     "shell.execute_reply": "2023-09-03T17:04:12.329796Z"
    },
    "papermill": {
     "duration": 1.498746,
     "end_time": "2023-09-03T17:04:12.333173",
     "exception": false,
     "start_time": "2023-09-03T17:04:10.834427",
     "status": "completed"
    },
    "tags": []
   },
   "outputs": [
    {
     "name": "stdout",
     "output_type": "stream",
     "text": [
      "CPU times: user 1.44 s, sys: 228 ms, total: 1.67 s\n",
      "Wall time: 1.45 s\n"
     ]
    },
    {
     "data": {
      "text/html": [
       "<style>#sk-container-id-2 {color: black;background-color: white;}#sk-container-id-2 pre{padding: 0;}#sk-container-id-2 div.sk-toggleable {background-color: white;}#sk-container-id-2 label.sk-toggleable__label {cursor: pointer;display: block;width: 100%;margin-bottom: 0;padding: 0.3em;box-sizing: border-box;text-align: center;}#sk-container-id-2 label.sk-toggleable__label-arrow:before {content: \"▸\";float: left;margin-right: 0.25em;color: #696969;}#sk-container-id-2 label.sk-toggleable__label-arrow:hover:before {color: black;}#sk-container-id-2 div.sk-estimator:hover label.sk-toggleable__label-arrow:before {color: black;}#sk-container-id-2 div.sk-toggleable__content {max-height: 0;max-width: 0;overflow: hidden;text-align: left;background-color: #f0f8ff;}#sk-container-id-2 div.sk-toggleable__content pre {margin: 0.2em;color: black;border-radius: 0.25em;background-color: #f0f8ff;}#sk-container-id-2 input.sk-toggleable__control:checked~div.sk-toggleable__content {max-height: 200px;max-width: 100%;overflow: auto;}#sk-container-id-2 input.sk-toggleable__control:checked~label.sk-toggleable__label-arrow:before {content: \"▾\";}#sk-container-id-2 div.sk-estimator input.sk-toggleable__control:checked~label.sk-toggleable__label {background-color: #d4ebff;}#sk-container-id-2 div.sk-label input.sk-toggleable__control:checked~label.sk-toggleable__label {background-color: #d4ebff;}#sk-container-id-2 input.sk-hidden--visually {border: 0;clip: rect(1px 1px 1px 1px);clip: rect(1px, 1px, 1px, 1px);height: 1px;margin: -1px;overflow: hidden;padding: 0;position: absolute;width: 1px;}#sk-container-id-2 div.sk-estimator {font-family: monospace;background-color: #f0f8ff;border: 1px dotted black;border-radius: 0.25em;box-sizing: border-box;margin-bottom: 0.5em;}#sk-container-id-2 div.sk-estimator:hover {background-color: #d4ebff;}#sk-container-id-2 div.sk-parallel-item::after {content: \"\";width: 100%;border-bottom: 1px solid gray;flex-grow: 1;}#sk-container-id-2 div.sk-label:hover label.sk-toggleable__label {background-color: #d4ebff;}#sk-container-id-2 div.sk-serial::before {content: \"\";position: absolute;border-left: 1px solid gray;box-sizing: border-box;top: 0;bottom: 0;left: 50%;z-index: 0;}#sk-container-id-2 div.sk-serial {display: flex;flex-direction: column;align-items: center;background-color: white;padding-right: 0.2em;padding-left: 0.2em;position: relative;}#sk-container-id-2 div.sk-item {position: relative;z-index: 1;}#sk-container-id-2 div.sk-parallel {display: flex;align-items: stretch;justify-content: center;background-color: white;position: relative;}#sk-container-id-2 div.sk-item::before, #sk-container-id-2 div.sk-parallel-item::before {content: \"\";position: absolute;border-left: 1px solid gray;box-sizing: border-box;top: 0;bottom: 0;left: 50%;z-index: -1;}#sk-container-id-2 div.sk-parallel-item {display: flex;flex-direction: column;z-index: 1;position: relative;background-color: white;}#sk-container-id-2 div.sk-parallel-item:first-child::after {align-self: flex-end;width: 50%;}#sk-container-id-2 div.sk-parallel-item:last-child::after {align-self: flex-start;width: 50%;}#sk-container-id-2 div.sk-parallel-item:only-child::after {width: 0;}#sk-container-id-2 div.sk-dashed-wrapped {border: 1px dashed gray;margin: 0 0.4em 0.5em 0.4em;box-sizing: border-box;padding-bottom: 0.4em;background-color: white;}#sk-container-id-2 div.sk-label label {font-family: monospace;font-weight: bold;display: inline-block;line-height: 1.2em;}#sk-container-id-2 div.sk-label-container {text-align: center;}#sk-container-id-2 div.sk-container {/* jupyter's `normalize.less` sets `[hidden] { display: none; }` but bootstrap.min.css set `[hidden] { display: none !important; }` so we also need the `!important` here to be able to override the default hidden behavior on the sphinx rendered scikit-learn.org. See: https://github.com/scikit-learn/scikit-learn/issues/21755 */display: inline-block !important;position: relative;}#sk-container-id-2 div.sk-text-repr-fallback {display: none;}</style><div id=\"sk-container-id-2\" class=\"sk-top-container\"><div class=\"sk-text-repr-fallback\"><pre>RandomForestClassifier(max_depth=20, max_leaf_nodes=10, n_estimators=500,\n",
       "                       n_jobs=-1, random_state=3)</pre><b>In a Jupyter environment, please rerun this cell to show the HTML representation or trust the notebook. <br />On GitHub, the HTML representation is unable to render, please try loading this page with nbviewer.org.</b></div><div class=\"sk-container\" hidden><div class=\"sk-item\"><div class=\"sk-estimator sk-toggleable\"><input class=\"sk-toggleable__control sk-hidden--visually\" id=\"sk-estimator-id-2\" type=\"checkbox\" checked><label for=\"sk-estimator-id-2\" class=\"sk-toggleable__label sk-toggleable__label-arrow\">RandomForestClassifier</label><div class=\"sk-toggleable__content\"><pre>RandomForestClassifier(max_depth=20, max_leaf_nodes=10, n_estimators=500,\n",
       "                       n_jobs=-1, random_state=3)</pre></div></div></div></div></div>"
      ],
      "text/plain": [
       "RandomForestClassifier(max_depth=20, max_leaf_nodes=10, n_estimators=500,\n",
       "                       n_jobs=-1, random_state=3)"
      ]
     },
     "execution_count": 52,
     "metadata": {},
     "output_type": "execute_result"
    }
   ],
   "source": [
    "%%time\n",
    "model.fit(X_train,train_targets)"
   ]
  },
  {
   "cell_type": "code",
   "execution_count": 53,
   "id": "7a77fc90",
   "metadata": {
    "execution": {
     "iopub.execute_input": "2023-09-03T17:04:12.399253Z",
     "iopub.status.busy": "2023-09-03T17:04:12.398839Z",
     "iopub.status.idle": "2023-09-03T17:04:12.592976Z",
     "shell.execute_reply": "2023-09-03T17:04:12.591826Z"
    },
    "papermill": {
     "duration": 0.229973,
     "end_time": "2023-09-03T17:04:12.595289",
     "exception": false,
     "start_time": "2023-09-03T17:04:12.365316",
     "status": "completed"
    },
    "tags": []
   },
   "outputs": [
    {
     "data": {
      "text/plain": [
       "0.8476903870162297"
      ]
     },
     "execution_count": 53,
     "metadata": {},
     "output_type": "execute_result"
    }
   ],
   "source": [
    "model.score(X_train,train_targets)"
   ]
  },
  {
   "cell_type": "code",
   "execution_count": 54,
   "id": "cb8bb248",
   "metadata": {
    "execution": {
     "iopub.execute_input": "2023-09-03T17:04:12.662982Z",
     "iopub.status.busy": "2023-09-03T17:04:12.662553Z",
     "iopub.status.idle": "2023-09-03T17:04:12.785613Z",
     "shell.execute_reply": "2023-09-03T17:04:12.784833Z"
    },
    "papermill": {
     "duration": 0.160152,
     "end_time": "2023-09-03T17:04:12.788083",
     "exception": false,
     "start_time": "2023-09-03T17:04:12.627931",
     "status": "completed"
    },
    "tags": []
   },
   "outputs": [
    {
     "data": {
      "text/plain": [
       "0.7888888888888889"
      ]
     },
     "execution_count": 54,
     "metadata": {},
     "output_type": "execute_result"
    }
   ],
   "source": [
    "model.score(X_val,val_targets)"
   ]
  },
  {
   "cell_type": "code",
   "execution_count": 55,
   "id": "94d38766",
   "metadata": {
    "execution": {
     "iopub.execute_input": "2023-09-03T17:04:12.858327Z",
     "iopub.status.busy": "2023-09-03T17:04:12.857569Z",
     "iopub.status.idle": "2023-09-03T17:04:13.016546Z",
     "shell.execute_reply": "2023-09-03T17:04:13.015669Z"
    },
    "papermill": {
     "duration": 0.195787,
     "end_time": "2023-09-03T17:04:13.019243",
     "exception": false,
     "start_time": "2023-09-03T17:04:12.823456",
     "status": "completed"
    },
    "tags": []
   },
   "outputs": [],
   "source": [
    "preds = model.predict_proba(test_inputs)"
   ]
  },
  {
   "cell_type": "code",
   "execution_count": 56,
   "id": "111f2ad9",
   "metadata": {
    "execution": {
     "iopub.execute_input": "2023-09-03T17:04:13.086866Z",
     "iopub.status.busy": "2023-09-03T17:04:13.086426Z",
     "iopub.status.idle": "2023-09-03T17:04:13.274654Z",
     "shell.execute_reply": "2023-09-03T17:04:13.273585Z"
    },
    "papermill": {
     "duration": 0.224826,
     "end_time": "2023-09-03T17:04:13.277301",
     "exception": false,
     "start_time": "2023-09-03T17:04:13.052475",
     "status": "completed"
    },
    "tags": []
   },
   "outputs": [],
   "source": [
    "#XG Boost Model\n",
    "from xgboost import XGBClassifier"
   ]
  },
  {
   "cell_type": "code",
   "execution_count": 57,
   "id": "5fd46c4a",
   "metadata": {
    "execution": {
     "iopub.execute_input": "2023-09-03T17:04:13.344256Z",
     "iopub.status.busy": "2023-09-03T17:04:13.343843Z",
     "iopub.status.idle": "2023-09-03T17:04:13.349520Z",
     "shell.execute_reply": "2023-09-03T17:04:13.348352Z"
    },
    "papermill": {
     "duration": 0.042111,
     "end_time": "2023-09-03T17:04:13.351993",
     "exception": false,
     "start_time": "2023-09-03T17:04:13.309882",
     "status": "completed"
    },
    "tags": []
   },
   "outputs": [],
   "source": [
    "model=XGBClassifier(random_state=5,n_jobs=-1,learning_rate=0.3,max_depth=10,max_leaves=5,n_estimators=20,max_bin=10, min_child_weight=10,booster='gbtree')"
   ]
  },
  {
   "cell_type": "code",
   "execution_count": 58,
   "id": "23b94640",
   "metadata": {
    "execution": {
     "iopub.execute_input": "2023-09-03T17:04:13.420454Z",
     "iopub.status.busy": "2023-09-03T17:04:13.419285Z",
     "iopub.status.idle": "2023-09-03T17:04:13.480275Z",
     "shell.execute_reply": "2023-09-03T17:04:13.479291Z"
    },
    "papermill": {
     "duration": 0.098228,
     "end_time": "2023-09-03T17:04:13.482865",
     "exception": false,
     "start_time": "2023-09-03T17:04:13.384637",
     "status": "completed"
    },
    "tags": []
   },
   "outputs": [
    {
     "name": "stdout",
     "output_type": "stream",
     "text": [
      "CPU times: user 128 ms, sys: 4.93 ms, total: 133 ms\n",
      "Wall time: 45.4 ms\n"
     ]
    },
    {
     "data": {
      "text/html": [
       "<style>#sk-container-id-3 {color: black;background-color: white;}#sk-container-id-3 pre{padding: 0;}#sk-container-id-3 div.sk-toggleable {background-color: white;}#sk-container-id-3 label.sk-toggleable__label {cursor: pointer;display: block;width: 100%;margin-bottom: 0;padding: 0.3em;box-sizing: border-box;text-align: center;}#sk-container-id-3 label.sk-toggleable__label-arrow:before {content: \"▸\";float: left;margin-right: 0.25em;color: #696969;}#sk-container-id-3 label.sk-toggleable__label-arrow:hover:before {color: black;}#sk-container-id-3 div.sk-estimator:hover label.sk-toggleable__label-arrow:before {color: black;}#sk-container-id-3 div.sk-toggleable__content {max-height: 0;max-width: 0;overflow: hidden;text-align: left;background-color: #f0f8ff;}#sk-container-id-3 div.sk-toggleable__content pre {margin: 0.2em;color: black;border-radius: 0.25em;background-color: #f0f8ff;}#sk-container-id-3 input.sk-toggleable__control:checked~div.sk-toggleable__content {max-height: 200px;max-width: 100%;overflow: auto;}#sk-container-id-3 input.sk-toggleable__control:checked~label.sk-toggleable__label-arrow:before {content: \"▾\";}#sk-container-id-3 div.sk-estimator input.sk-toggleable__control:checked~label.sk-toggleable__label {background-color: #d4ebff;}#sk-container-id-3 div.sk-label input.sk-toggleable__control:checked~label.sk-toggleable__label {background-color: #d4ebff;}#sk-container-id-3 input.sk-hidden--visually {border: 0;clip: rect(1px 1px 1px 1px);clip: rect(1px, 1px, 1px, 1px);height: 1px;margin: -1px;overflow: hidden;padding: 0;position: absolute;width: 1px;}#sk-container-id-3 div.sk-estimator {font-family: monospace;background-color: #f0f8ff;border: 1px dotted black;border-radius: 0.25em;box-sizing: border-box;margin-bottom: 0.5em;}#sk-container-id-3 div.sk-estimator:hover {background-color: #d4ebff;}#sk-container-id-3 div.sk-parallel-item::after {content: \"\";width: 100%;border-bottom: 1px solid gray;flex-grow: 1;}#sk-container-id-3 div.sk-label:hover label.sk-toggleable__label {background-color: #d4ebff;}#sk-container-id-3 div.sk-serial::before {content: \"\";position: absolute;border-left: 1px solid gray;box-sizing: border-box;top: 0;bottom: 0;left: 50%;z-index: 0;}#sk-container-id-3 div.sk-serial {display: flex;flex-direction: column;align-items: center;background-color: white;padding-right: 0.2em;padding-left: 0.2em;position: relative;}#sk-container-id-3 div.sk-item {position: relative;z-index: 1;}#sk-container-id-3 div.sk-parallel {display: flex;align-items: stretch;justify-content: center;background-color: white;position: relative;}#sk-container-id-3 div.sk-item::before, #sk-container-id-3 div.sk-parallel-item::before {content: \"\";position: absolute;border-left: 1px solid gray;box-sizing: border-box;top: 0;bottom: 0;left: 50%;z-index: -1;}#sk-container-id-3 div.sk-parallel-item {display: flex;flex-direction: column;z-index: 1;position: relative;background-color: white;}#sk-container-id-3 div.sk-parallel-item:first-child::after {align-self: flex-end;width: 50%;}#sk-container-id-3 div.sk-parallel-item:last-child::after {align-self: flex-start;width: 50%;}#sk-container-id-3 div.sk-parallel-item:only-child::after {width: 0;}#sk-container-id-3 div.sk-dashed-wrapped {border: 1px dashed gray;margin: 0 0.4em 0.5em 0.4em;box-sizing: border-box;padding-bottom: 0.4em;background-color: white;}#sk-container-id-3 div.sk-label label {font-family: monospace;font-weight: bold;display: inline-block;line-height: 1.2em;}#sk-container-id-3 div.sk-label-container {text-align: center;}#sk-container-id-3 div.sk-container {/* jupyter's `normalize.less` sets `[hidden] { display: none; }` but bootstrap.min.css set `[hidden] { display: none !important; }` so we also need the `!important` here to be able to override the default hidden behavior on the sphinx rendered scikit-learn.org. See: https://github.com/scikit-learn/scikit-learn/issues/21755 */display: inline-block !important;position: relative;}#sk-container-id-3 div.sk-text-repr-fallback {display: none;}</style><div id=\"sk-container-id-3\" class=\"sk-top-container\"><div class=\"sk-text-repr-fallback\"><pre>XGBClassifier(base_score=None, booster=&#x27;gbtree&#x27;, callbacks=None,\n",
       "              colsample_bylevel=None, colsample_bynode=None,\n",
       "              colsample_bytree=None, early_stopping_rounds=None,\n",
       "              enable_categorical=False, eval_metric=None, feature_types=None,\n",
       "              gamma=None, gpu_id=None, grow_policy=None, importance_type=None,\n",
       "              interaction_constraints=None, learning_rate=0.3, max_bin=10,\n",
       "              max_cat_threshold=None, max_cat_to_onehot=None,\n",
       "              max_delta_step=None, max_depth=10, max_leaves=5,\n",
       "              min_child_weight=10, missing=nan, monotone_constraints=None,\n",
       "              n_estimators=20, n_jobs=-1, num_parallel_tree=None,\n",
       "              predictor=None, random_state=5, ...)</pre><b>In a Jupyter environment, please rerun this cell to show the HTML representation or trust the notebook. <br />On GitHub, the HTML representation is unable to render, please try loading this page with nbviewer.org.</b></div><div class=\"sk-container\" hidden><div class=\"sk-item\"><div class=\"sk-estimator sk-toggleable\"><input class=\"sk-toggleable__control sk-hidden--visually\" id=\"sk-estimator-id-3\" type=\"checkbox\" checked><label for=\"sk-estimator-id-3\" class=\"sk-toggleable__label sk-toggleable__label-arrow\">XGBClassifier</label><div class=\"sk-toggleable__content\"><pre>XGBClassifier(base_score=None, booster=&#x27;gbtree&#x27;, callbacks=None,\n",
       "              colsample_bylevel=None, colsample_bynode=None,\n",
       "              colsample_bytree=None, early_stopping_rounds=None,\n",
       "              enable_categorical=False, eval_metric=None, feature_types=None,\n",
       "              gamma=None, gpu_id=None, grow_policy=None, importance_type=None,\n",
       "              interaction_constraints=None, learning_rate=0.3, max_bin=10,\n",
       "              max_cat_threshold=None, max_cat_to_onehot=None,\n",
       "              max_delta_step=None, max_depth=10, max_leaves=5,\n",
       "              min_child_weight=10, missing=nan, monotone_constraints=None,\n",
       "              n_estimators=20, n_jobs=-1, num_parallel_tree=None,\n",
       "              predictor=None, random_state=5, ...)</pre></div></div></div></div></div>"
      ],
      "text/plain": [
       "XGBClassifier(base_score=None, booster='gbtree', callbacks=None,\n",
       "              colsample_bylevel=None, colsample_bynode=None,\n",
       "              colsample_bytree=None, early_stopping_rounds=None,\n",
       "              enable_categorical=False, eval_metric=None, feature_types=None,\n",
       "              gamma=None, gpu_id=None, grow_policy=None, importance_type=None,\n",
       "              interaction_constraints=None, learning_rate=0.3, max_bin=10,\n",
       "              max_cat_threshold=None, max_cat_to_onehot=None,\n",
       "              max_delta_step=None, max_depth=10, max_leaves=5,\n",
       "              min_child_weight=10, missing=nan, monotone_constraints=None,\n",
       "              n_estimators=20, n_jobs=-1, num_parallel_tree=None,\n",
       "              predictor=None, random_state=5, ...)"
      ]
     },
     "execution_count": 58,
     "metadata": {},
     "output_type": "execute_result"
    }
   ],
   "source": [
    "%%time\n",
    "model.fit(X_train,train_targets)"
   ]
  },
  {
   "cell_type": "code",
   "execution_count": 59,
   "id": "3039a804",
   "metadata": {
    "execution": {
     "iopub.execute_input": "2023-09-03T17:04:13.551191Z",
     "iopub.status.busy": "2023-09-03T17:04:13.550460Z",
     "iopub.status.idle": "2023-09-03T17:04:13.572773Z",
     "shell.execute_reply": "2023-09-03T17:04:13.571806Z"
    },
    "papermill": {
     "duration": 0.058952,
     "end_time": "2023-09-03T17:04:13.575159",
     "exception": false,
     "start_time": "2023-09-03T17:04:13.516207",
     "status": "completed"
    },
    "tags": []
   },
   "outputs": [
    {
     "data": {
      "text/plain": [
       "array([0, 0, 0, 0, 0, 1, 0, 1, 0, 1, 1, 0, 1, 1, 0, 1, 1, 0, 0, 0, 0, 0,\n",
       "       0, 0, 1, 1, 0, 1, 1, 0, 1, 0, 0, 0, 0, 0, 0, 1, 0, 0, 0, 1, 1, 1,\n",
       "       0, 0, 0, 0, 0, 0, 1, 1, 1, 1, 1, 1, 0, 0, 0, 1, 0, 1, 0, 0, 1, 0,\n",
       "       1, 1, 1, 0, 0, 0, 0, 0, 1, 1, 0, 0, 1, 0, 0, 0, 1, 0, 0, 0, 0, 0,\n",
       "       0, 0, 1, 0, 0, 0, 0, 0, 1, 1, 0, 0, 1, 0, 0, 1, 0, 0, 0, 0, 0, 0,\n",
       "       0, 1, 0, 0, 1, 0, 0, 0, 0, 0, 1, 0, 0, 0, 0, 1, 0, 0, 0, 0, 0, 0,\n",
       "       1, 1, 0, 0, 1, 0, 1, 0, 1, 1, 0, 0, 0, 0, 0, 1, 0, 1, 0, 0, 1, 1,\n",
       "       0, 0, 1, 0, 0, 1, 0, 0, 1, 0, 0, 0, 0, 0, 0, 1, 0, 0, 0, 1, 0, 0,\n",
       "       0, 1, 0, 1, 0, 0, 1, 0, 0, 0, 1, 1, 1, 0, 1, 0, 0, 0, 0, 0, 1, 0,\n",
       "       0, 0, 1, 1, 0, 0, 1, 0, 0, 1, 0, 0, 1, 0, 0, 1, 0, 1, 0, 1, 0, 1,\n",
       "       0, 1, 1, 1, 1, 1, 1, 0, 0, 1, 1, 1, 0, 1, 1, 0, 0, 0, 0, 0, 0, 0,\n",
       "       0, 1, 0, 0, 0, 0, 0, 0, 0, 0, 1, 1, 0, 0, 0, 0, 0, 0, 0, 0, 1, 1,\n",
       "       1, 0, 0, 1, 1, 1, 0, 1, 1, 0, 0, 0, 0, 1, 0, 0, 0, 0, 0, 0, 1, 0,\n",
       "       1, 1, 1, 1, 0, 1, 0, 0, 0, 0, 0, 1, 0, 0, 1, 1, 1, 1, 0, 0, 0, 0,\n",
       "       0, 0, 0, 0, 1, 0, 0, 0, 1, 1, 0, 0, 1, 0, 1, 1, 1, 0, 0, 1, 0, 0,\n",
       "       0, 0, 1, 0, 0, 0, 0, 0, 0, 0, 1, 0, 1, 0, 1, 0, 0, 0, 0, 0, 0, 0,\n",
       "       0, 0, 1, 0, 1, 0, 0, 0, 0, 0, 1, 0, 0, 0, 1, 1, 0, 1, 0, 0, 1, 0,\n",
       "       1, 0, 0, 1, 0, 0, 0, 0, 0, 0, 0, 0, 1, 0, 0, 0, 0, 0, 0, 0, 1, 1,\n",
       "       1, 0, 0, 0, 0, 0, 1, 1, 1, 0, 0, 0, 0, 0, 1, 0, 0, 0, 0, 0, 0, 1,\n",
       "       1, 0, 1, 0, 0, 1, 1, 1, 0, 0, 0, 0, 1, 0, 0, 0, 0, 1, 0, 0, 0, 1,\n",
       "       0, 0, 1, 0, 0, 0, 0, 1, 1, 0, 0, 1, 1, 0, 1, 1, 1, 0, 0, 0, 0, 1,\n",
       "       0, 0, 0, 1, 1, 0, 0, 1, 0, 0, 0, 0, 1, 0, 0, 0, 0, 0, 0, 0, 0, 0,\n",
       "       0, 0, 0, 1, 1, 1, 0, 1, 1, 0, 0, 0, 0, 1, 0, 1, 0, 0, 1, 1, 0, 0,\n",
       "       1, 0, 1, 0, 0, 0, 0, 1, 1, 0, 1, 0, 1, 0, 0, 0, 0, 0, 1, 0, 0, 0,\n",
       "       0, 1, 1, 0, 0, 1, 0, 1, 0, 0, 1, 0, 0, 0, 0, 0, 0, 0, 0, 1, 0, 0,\n",
       "       1, 1, 0, 0, 1, 0, 1, 0, 1, 0, 0, 1, 0, 0, 0, 1, 1, 0, 1, 0, 0, 0,\n",
       "       0, 0, 0, 0, 0, 1, 1, 1, 0, 0, 0, 1, 0, 0, 1, 0, 1, 0, 1, 0, 1, 1,\n",
       "       0, 0, 1, 1, 0, 0, 0, 1, 1, 1, 0, 1, 0, 0, 1, 0, 0, 1, 0, 0, 1, 0,\n",
       "       0, 0, 0, 1, 0, 0, 0, 1, 0, 1, 0, 0, 0, 0, 0, 0, 1, 1, 0, 0, 0, 1,\n",
       "       0, 0, 1, 0, 0, 0, 0, 0, 0, 0, 0, 1, 0, 0, 0, 0, 0, 0, 0, 0, 0, 0,\n",
       "       0, 1, 0, 0, 0, 0, 0, 0, 1, 0, 0, 0, 0, 0, 1, 0, 1, 0, 0, 0, 1, 0,\n",
       "       0, 1, 0, 0, 0, 0, 0, 1, 0, 1, 0, 1, 0, 0, 0, 1, 1, 0, 1, 1, 0, 1,\n",
       "       1, 1, 0, 1, 0, 0, 0, 1, 1, 1, 0, 0, 0, 1, 1, 0, 0, 0, 0, 1, 0, 0,\n",
       "       0, 0, 0, 1, 0, 0, 1, 1, 1, 0, 0, 0, 1, 0, 0, 0, 0, 1, 0, 0, 0, 0,\n",
       "       0, 0, 1, 0, 0, 0, 0, 0, 0, 0, 1, 0, 1, 0, 0, 0, 1, 1, 1, 1, 1, 0,\n",
       "       0, 0, 1, 0, 1, 0, 1, 1, 0, 0, 0, 0, 1, 0, 1, 1, 0, 0, 0, 0, 0, 0,\n",
       "       0, 0, 0, 1, 0, 0, 0, 1, 0])"
      ]
     },
     "execution_count": 59,
     "metadata": {},
     "output_type": "execute_result"
    }
   ],
   "source": [
    "preds=model.predict(X_train)\n",
    "preds"
   ]
  },
  {
   "cell_type": "code",
   "execution_count": 60,
   "id": "e78f9859",
   "metadata": {
    "execution": {
     "iopub.execute_input": "2023-09-03T17:04:13.645471Z",
     "iopub.status.busy": "2023-09-03T17:04:13.645082Z",
     "iopub.status.idle": "2023-09-03T17:04:13.653436Z",
     "shell.execute_reply": "2023-09-03T17:04:13.652339Z"
    },
    "papermill": {
     "duration": 0.047128,
     "end_time": "2023-09-03T17:04:13.655582",
     "exception": false,
     "start_time": "2023-09-03T17:04:13.608454",
     "status": "completed"
    },
    "tags": []
   },
   "outputs": [
    {
     "data": {
      "text/plain": [
       "0.8614232209737828"
      ]
     },
     "execution_count": 60,
     "metadata": {},
     "output_type": "execute_result"
    }
   ],
   "source": [
    "accuracy_score(train_targets,preds)"
   ]
  },
  {
   "cell_type": "code",
   "execution_count": 61,
   "id": "58684004",
   "metadata": {
    "execution": {
     "iopub.execute_input": "2023-09-03T17:04:13.725055Z",
     "iopub.status.busy": "2023-09-03T17:04:13.724379Z",
     "iopub.status.idle": "2023-09-03T17:04:13.747168Z",
     "shell.execute_reply": "2023-09-03T17:04:13.746058Z"
    },
    "papermill": {
     "duration": 0.060803,
     "end_time": "2023-09-03T17:04:13.749687",
     "exception": false,
     "start_time": "2023-09-03T17:04:13.688884",
     "status": "completed"
    },
    "tags": []
   },
   "outputs": [
    {
     "data": {
      "text/plain": [
       "array([0, 0, 1, 0, 0, 0, 0, 0, 0, 0, 0, 1, 1, 0, 0, 0, 0, 0, 1, 0, 0, 1,\n",
       "       0, 0, 0, 1, 1, 1, 0, 0, 0, 0, 0, 0, 0, 1, 1, 0, 0, 0, 0, 0, 0, 0,\n",
       "       0, 1, 1, 0, 0, 1, 0, 0, 0, 0, 0, 0, 1, 0, 0, 0, 1, 1, 0, 0, 1, 0,\n",
       "       1, 0, 0, 0, 0, 0, 1, 0, 1, 0, 0, 1, 1, 0, 1, 0, 0, 0, 1, 1, 0, 0,\n",
       "       1, 0])"
      ]
     },
     "execution_count": 61,
     "metadata": {},
     "output_type": "execute_result"
    }
   ],
   "source": [
    "val_preds=model.predict(X_val)\n",
    "val_preds"
   ]
  },
  {
   "cell_type": "code",
   "execution_count": 62,
   "id": "053797fd",
   "metadata": {
    "execution": {
     "iopub.execute_input": "2023-09-03T17:04:13.818708Z",
     "iopub.status.busy": "2023-09-03T17:04:13.818301Z",
     "iopub.status.idle": "2023-09-03T17:04:13.826321Z",
     "shell.execute_reply": "2023-09-03T17:04:13.825536Z"
    },
    "papermill": {
     "duration": 0.044648,
     "end_time": "2023-09-03T17:04:13.828365",
     "exception": false,
     "start_time": "2023-09-03T17:04:13.783717",
     "status": "completed"
    },
    "tags": []
   },
   "outputs": [
    {
     "data": {
      "text/plain": [
       "0.7444444444444445"
      ]
     },
     "execution_count": 62,
     "metadata": {},
     "output_type": "execute_result"
    }
   ],
   "source": [
    "accuracy_score(val_targets,val_preds)"
   ]
  },
  {
   "cell_type": "code",
   "execution_count": 63,
   "id": "fbfe6a00",
   "metadata": {
    "execution": {
     "iopub.execute_input": "2023-09-03T17:04:13.899141Z",
     "iopub.status.busy": "2023-09-03T17:04:13.897811Z",
     "iopub.status.idle": "2023-09-03T17:04:13.911367Z",
     "shell.execute_reply": "2023-09-03T17:04:13.907252Z"
    },
    "papermill": {
     "duration": 0.051121,
     "end_time": "2023-09-03T17:04:13.913713",
     "exception": false,
     "start_time": "2023-09-03T17:04:13.862592",
     "status": "completed"
    },
    "tags": []
   },
   "outputs": [],
   "source": [
    "preds=model.predict(test_inputs)"
   ]
  },
  {
   "cell_type": "code",
   "execution_count": 64,
   "id": "3cfa1689",
   "metadata": {
    "execution": {
     "iopub.execute_input": "2023-09-03T17:04:13.984308Z",
     "iopub.status.busy": "2023-09-03T17:04:13.983894Z",
     "iopub.status.idle": "2023-09-03T17:04:13.988329Z",
     "shell.execute_reply": "2023-09-03T17:04:13.987366Z"
    },
    "papermill": {
     "duration": 0.042305,
     "end_time": "2023-09-03T17:04:13.990503",
     "exception": false,
     "start_time": "2023-09-03T17:04:13.948198",
     "status": "completed"
    },
    "tags": []
   },
   "outputs": [],
   "source": [
    "y_pred=preds.round()"
   ]
  },
  {
   "cell_type": "code",
   "execution_count": 65,
   "id": "d98cbdd1",
   "metadata": {
    "execution": {
     "iopub.execute_input": "2023-09-03T17:04:14.060678Z",
     "iopub.status.busy": "2023-09-03T17:04:14.059991Z",
     "iopub.status.idle": "2023-09-03T17:04:14.067245Z",
     "shell.execute_reply": "2023-09-03T17:04:14.066310Z"
    },
    "papermill": {
     "duration": 0.044851,
     "end_time": "2023-09-03T17:04:14.069262",
     "exception": false,
     "start_time": "2023-09-03T17:04:14.024411",
     "status": "completed"
    },
    "tags": []
   },
   "outputs": [
    {
     "data": {
      "text/plain": [
       "array([0, 0, 0, 0, 0, 0, 1, 0, 1, 0, 0, 0, 1, 0, 1, 1, 0, 0, 0, 1, 0, 1,\n",
       "       1, 0, 1, 0, 1, 0, 0, 0, 0, 0, 0, 0, 1, 0, 0, 0, 0, 0, 0, 1, 0, 1,\n",
       "       1, 0, 0, 0, 1, 1, 0, 0, 1, 1, 0, 0, 0, 0, 0, 1, 0, 0, 0, 1, 0, 1,\n",
       "       1, 0, 0, 1, 1, 0, 0, 0, 1, 1, 0, 1, 0, 1, 1, 0, 0, 0, 0, 0, 1, 0,\n",
       "       1, 1, 0, 0, 1, 0, 0, 0, 1, 0, 1, 0, 1, 0, 0, 0, 1, 0, 0, 0, 0, 0,\n",
       "       0, 1, 1, 1, 1, 0, 0, 1, 1, 1, 1, 0, 1, 0, 0, 1, 0, 0, 0, 0, 0, 0,\n",
       "       0, 0, 0, 0, 0, 0, 0, 0, 0, 1, 0, 0, 0, 0, 0, 0, 1, 0, 1, 0, 0, 0,\n",
       "       0, 0, 1, 1, 0, 0, 1, 1, 1, 0, 0, 0, 0, 0, 1, 0, 0, 0, 0, 0, 0, 1,\n",
       "       1, 0, 1, 1, 0, 1, 1, 0, 1, 0, 1, 0, 0, 0, 0, 0, 0, 0, 1, 0, 1, 0,\n",
       "       0, 0, 1, 1, 0, 1, 0, 0, 1, 0, 1, 0, 0, 0, 0, 1, 0, 0, 1, 0, 1, 0,\n",
       "       1, 0, 1, 0, 1, 1, 0, 1, 0, 0, 0, 1, 0, 0, 0, 0, 0, 0, 1, 1, 1, 1,\n",
       "       0, 0, 0, 0, 1, 0, 1, 1, 1, 0, 1, 0, 0, 0, 0, 0, 1, 0, 0, 0, 1, 1,\n",
       "       0, 0, 0, 0, 0, 0, 0, 0, 1, 1, 0, 1, 0, 0, 0, 0, 0, 1, 1, 1, 1, 0,\n",
       "       0, 0, 0, 0, 0, 1, 0, 0, 0, 0, 1, 0, 0, 0, 0, 0, 0, 0, 1, 1, 0, 1,\n",
       "       0, 0, 0, 0, 0, 1, 1, 1, 0, 0, 0, 0, 0, 0, 0, 1, 1, 0, 1, 0, 0, 0,\n",
       "       1, 0, 0, 1, 0, 0, 0, 0, 0, 0, 0, 0, 0, 1, 0, 1, 0, 1, 0, 1, 1, 0,\n",
       "       0, 0, 1, 0, 1, 0, 0, 0, 0, 1, 1, 0, 1, 0, 0, 0, 1, 0, 0, 1, 0, 0,\n",
       "       1, 1, 0, 0, 0, 0, 0, 0, 1, 0, 0, 1, 0, 0, 0, 0, 0, 1, 1, 0, 0, 1,\n",
       "       0, 1, 0, 0, 1, 0, 1, 0, 0, 0, 0, 0, 1, 1, 1, 1, 0, 0, 1, 0, 0, 0])"
      ]
     },
     "execution_count": 65,
     "metadata": {},
     "output_type": "execute_result"
    }
   ],
   "source": [
    "y_pred"
   ]
  },
  {
   "cell_type": "code",
   "execution_count": 66,
   "id": "8f0b95d7",
   "metadata": {
    "execution": {
     "iopub.execute_input": "2023-09-03T17:04:14.139099Z",
     "iopub.status.busy": "2023-09-03T17:04:14.138367Z",
     "iopub.status.idle": "2023-09-03T17:04:14.146654Z",
     "shell.execute_reply": "2023-09-03T17:04:14.145922Z"
    },
    "papermill": {
     "duration": 0.045882,
     "end_time": "2023-09-03T17:04:14.148859",
     "exception": false,
     "start_time": "2023-09-03T17:04:14.102977",
     "status": "completed"
    },
    "tags": []
   },
   "outputs": [
    {
     "data": {
      "text/html": [
       "<div>\n",
       "<style scoped>\n",
       "    .dataframe tbody tr th:only-of-type {\n",
       "        vertical-align: middle;\n",
       "    }\n",
       "\n",
       "    .dataframe tbody tr th {\n",
       "        vertical-align: top;\n",
       "    }\n",
       "\n",
       "    .dataframe thead th {\n",
       "        text-align: right;\n",
       "    }\n",
       "</style>\n",
       "<table border=\"1\" class=\"dataframe\">\n",
       "  <thead>\n",
       "    <tr style=\"text-align: right;\">\n",
       "      <th></th>\n",
       "      <th>0</th>\n",
       "    </tr>\n",
       "  </thead>\n",
       "  <tbody>\n",
       "    <tr>\n",
       "      <th>413</th>\n",
       "      <td>0</td>\n",
       "    </tr>\n",
       "    <tr>\n",
       "      <th>414</th>\n",
       "      <td>1</td>\n",
       "    </tr>\n",
       "    <tr>\n",
       "      <th>415</th>\n",
       "      <td>0</td>\n",
       "    </tr>\n",
       "    <tr>\n",
       "      <th>416</th>\n",
       "      <td>0</td>\n",
       "    </tr>\n",
       "    <tr>\n",
       "      <th>417</th>\n",
       "      <td>0</td>\n",
       "    </tr>\n",
       "  </tbody>\n",
       "</table>\n",
       "</div>"
      ],
      "text/plain": [
       "     0\n",
       "413  0\n",
       "414  1\n",
       "415  0\n",
       "416  0\n",
       "417  0"
      ]
     },
     "execution_count": 66,
     "metadata": {},
     "output_type": "execute_result"
    }
   ],
   "source": [
    "df=pd.DataFrame(y_pred)\n",
    "df.tail()"
   ]
  },
  {
   "cell_type": "code",
   "execution_count": 67,
   "id": "6b9ac105",
   "metadata": {
    "execution": {
     "iopub.execute_input": "2023-09-03T17:04:14.218832Z",
     "iopub.status.busy": "2023-09-03T17:04:14.218418Z",
     "iopub.status.idle": "2023-09-03T17:04:14.223763Z",
     "shell.execute_reply": "2023-09-03T17:04:14.222712Z"
    },
    "papermill": {
     "duration": 0.043084,
     "end_time": "2023-09-03T17:04:14.226125",
     "exception": false,
     "start_time": "2023-09-03T17:04:14.183041",
     "status": "completed"
    },
    "tags": []
   },
   "outputs": [],
   "source": [
    "passenger=test_df['PassengerId']"
   ]
  },
  {
   "cell_type": "code",
   "execution_count": 68,
   "id": "ad09554e",
   "metadata": {
    "execution": {
     "iopub.execute_input": "2023-09-03T17:04:14.295964Z",
     "iopub.status.busy": "2023-09-03T17:04:14.295508Z",
     "iopub.status.idle": "2023-09-03T17:04:14.302024Z",
     "shell.execute_reply": "2023-09-03T17:04:14.300672Z"
    },
    "papermill": {
     "duration": 0.044141,
     "end_time": "2023-09-03T17:04:14.304290",
     "exception": false,
     "start_time": "2023-09-03T17:04:14.260149",
     "status": "completed"
    },
    "tags": []
   },
   "outputs": [],
   "source": [
    "submission=pd.concat([passenger,df],axis=1)"
   ]
  },
  {
   "cell_type": "code",
   "execution_count": 69,
   "id": "a4d30c4c",
   "metadata": {
    "execution": {
     "iopub.execute_input": "2023-09-03T17:04:14.374878Z",
     "iopub.status.busy": "2023-09-03T17:04:14.374461Z",
     "iopub.status.idle": "2023-09-03T17:04:14.383741Z",
     "shell.execute_reply": "2023-09-03T17:04:14.382775Z"
    },
    "papermill": {
     "duration": 0.047458,
     "end_time": "2023-09-03T17:04:14.385963",
     "exception": false,
     "start_time": "2023-09-03T17:04:14.338505",
     "status": "completed"
    },
    "tags": []
   },
   "outputs": [
    {
     "data": {
      "text/html": [
       "<div>\n",
       "<style scoped>\n",
       "    .dataframe tbody tr th:only-of-type {\n",
       "        vertical-align: middle;\n",
       "    }\n",
       "\n",
       "    .dataframe tbody tr th {\n",
       "        vertical-align: top;\n",
       "    }\n",
       "\n",
       "    .dataframe thead th {\n",
       "        text-align: right;\n",
       "    }\n",
       "</style>\n",
       "<table border=\"1\" class=\"dataframe\">\n",
       "  <thead>\n",
       "    <tr style=\"text-align: right;\">\n",
       "      <th></th>\n",
       "      <th>PassengerId</th>\n",
       "      <th>0</th>\n",
       "    </tr>\n",
       "  </thead>\n",
       "  <tbody>\n",
       "    <tr>\n",
       "      <th>0</th>\n",
       "      <td>892</td>\n",
       "      <td>0</td>\n",
       "    </tr>\n",
       "    <tr>\n",
       "      <th>1</th>\n",
       "      <td>893</td>\n",
       "      <td>0</td>\n",
       "    </tr>\n",
       "  </tbody>\n",
       "</table>\n",
       "</div>"
      ],
      "text/plain": [
       "   PassengerId  0\n",
       "0          892  0\n",
       "1          893  0"
      ]
     },
     "execution_count": 69,
     "metadata": {},
     "output_type": "execute_result"
    }
   ],
   "source": [
    "submission.head(2)"
   ]
  },
  {
   "cell_type": "code",
   "execution_count": 70,
   "id": "f9480f56",
   "metadata": {
    "execution": {
     "iopub.execute_input": "2023-09-03T17:04:14.457181Z",
     "iopub.status.busy": "2023-09-03T17:04:14.456515Z",
     "iopub.status.idle": "2023-09-03T17:04:14.468281Z",
     "shell.execute_reply": "2023-09-03T17:04:14.467139Z"
    },
    "papermill": {
     "duration": 0.049992,
     "end_time": "2023-09-03T17:04:14.470825",
     "exception": false,
     "start_time": "2023-09-03T17:04:14.420833",
     "status": "completed"
    },
    "tags": []
   },
   "outputs": [
    {
     "data": {
      "text/html": [
       "<div>\n",
       "<style scoped>\n",
       "    .dataframe tbody tr th:only-of-type {\n",
       "        vertical-align: middle;\n",
       "    }\n",
       "\n",
       "    .dataframe tbody tr th {\n",
       "        vertical-align: top;\n",
       "    }\n",
       "\n",
       "    .dataframe thead th {\n",
       "        text-align: right;\n",
       "    }\n",
       "</style>\n",
       "<table border=\"1\" class=\"dataframe\">\n",
       "  <thead>\n",
       "    <tr style=\"text-align: right;\">\n",
       "      <th></th>\n",
       "      <th>PassengerId</th>\n",
       "      <th>Survived</th>\n",
       "    </tr>\n",
       "  </thead>\n",
       "  <tbody>\n",
       "    <tr>\n",
       "      <th>0</th>\n",
       "      <td>892</td>\n",
       "      <td>0</td>\n",
       "    </tr>\n",
       "    <tr>\n",
       "      <th>1</th>\n",
       "      <td>893</td>\n",
       "      <td>0</td>\n",
       "    </tr>\n",
       "    <tr>\n",
       "      <th>2</th>\n",
       "      <td>894</td>\n",
       "      <td>0</td>\n",
       "    </tr>\n",
       "    <tr>\n",
       "      <th>3</th>\n",
       "      <td>895</td>\n",
       "      <td>0</td>\n",
       "    </tr>\n",
       "    <tr>\n",
       "      <th>4</th>\n",
       "      <td>896</td>\n",
       "      <td>0</td>\n",
       "    </tr>\n",
       "    <tr>\n",
       "      <th>...</th>\n",
       "      <td>...</td>\n",
       "      <td>...</td>\n",
       "    </tr>\n",
       "    <tr>\n",
       "      <th>413</th>\n",
       "      <td>1305</td>\n",
       "      <td>0</td>\n",
       "    </tr>\n",
       "    <tr>\n",
       "      <th>414</th>\n",
       "      <td>1306</td>\n",
       "      <td>1</td>\n",
       "    </tr>\n",
       "    <tr>\n",
       "      <th>415</th>\n",
       "      <td>1307</td>\n",
       "      <td>0</td>\n",
       "    </tr>\n",
       "    <tr>\n",
       "      <th>416</th>\n",
       "      <td>1308</td>\n",
       "      <td>0</td>\n",
       "    </tr>\n",
       "    <tr>\n",
       "      <th>417</th>\n",
       "      <td>1309</td>\n",
       "      <td>0</td>\n",
       "    </tr>\n",
       "  </tbody>\n",
       "</table>\n",
       "<p>418 rows × 2 columns</p>\n",
       "</div>"
      ],
      "text/plain": [
       "     PassengerId  Survived\n",
       "0            892         0\n",
       "1            893         0\n",
       "2            894         0\n",
       "3            895         0\n",
       "4            896         0\n",
       "..           ...       ...\n",
       "413         1305         0\n",
       "414         1306         1\n",
       "415         1307         0\n",
       "416         1308         0\n",
       "417         1309         0\n",
       "\n",
       "[418 rows x 2 columns]"
      ]
     },
     "execution_count": 70,
     "metadata": {},
     "output_type": "execute_result"
    }
   ],
   "source": [
    "submission.set_axis(['PassengerId','Survived'], axis='columns')"
   ]
  },
  {
   "cell_type": "code",
   "execution_count": 71,
   "id": "615e7fcd",
   "metadata": {
    "execution": {
     "iopub.execute_input": "2023-09-03T17:04:14.542563Z",
     "iopub.status.busy": "2023-09-03T17:04:14.542139Z",
     "iopub.status.idle": "2023-09-03T17:04:14.553046Z",
     "shell.execute_reply": "2023-09-03T17:04:14.552283Z"
    },
    "papermill": {
     "duration": 0.049351,
     "end_time": "2023-09-03T17:04:14.555129",
     "exception": false,
     "start_time": "2023-09-03T17:04:14.505778",
     "status": "completed"
    },
    "tags": []
   },
   "outputs": [
    {
     "data": {
      "text/html": [
       "<div>\n",
       "<style scoped>\n",
       "    .dataframe tbody tr th:only-of-type {\n",
       "        vertical-align: middle;\n",
       "    }\n",
       "\n",
       "    .dataframe tbody tr th {\n",
       "        vertical-align: top;\n",
       "    }\n",
       "\n",
       "    .dataframe thead th {\n",
       "        text-align: right;\n",
       "    }\n",
       "</style>\n",
       "<table border=\"1\" class=\"dataframe\">\n",
       "  <thead>\n",
       "    <tr style=\"text-align: right;\">\n",
       "      <th></th>\n",
       "      <th>0</th>\n",
       "    </tr>\n",
       "    <tr>\n",
       "      <th>PassengerId</th>\n",
       "      <th></th>\n",
       "    </tr>\n",
       "  </thead>\n",
       "  <tbody>\n",
       "    <tr>\n",
       "      <th>892</th>\n",
       "      <td>0</td>\n",
       "    </tr>\n",
       "    <tr>\n",
       "      <th>893</th>\n",
       "      <td>0</td>\n",
       "    </tr>\n",
       "    <tr>\n",
       "      <th>894</th>\n",
       "      <td>0</td>\n",
       "    </tr>\n",
       "    <tr>\n",
       "      <th>895</th>\n",
       "      <td>0</td>\n",
       "    </tr>\n",
       "    <tr>\n",
       "      <th>896</th>\n",
       "      <td>0</td>\n",
       "    </tr>\n",
       "    <tr>\n",
       "      <th>...</th>\n",
       "      <td>...</td>\n",
       "    </tr>\n",
       "    <tr>\n",
       "      <th>1305</th>\n",
       "      <td>0</td>\n",
       "    </tr>\n",
       "    <tr>\n",
       "      <th>1306</th>\n",
       "      <td>1</td>\n",
       "    </tr>\n",
       "    <tr>\n",
       "      <th>1307</th>\n",
       "      <td>0</td>\n",
       "    </tr>\n",
       "    <tr>\n",
       "      <th>1308</th>\n",
       "      <td>0</td>\n",
       "    </tr>\n",
       "    <tr>\n",
       "      <th>1309</th>\n",
       "      <td>0</td>\n",
       "    </tr>\n",
       "  </tbody>\n",
       "</table>\n",
       "<p>418 rows × 1 columns</p>\n",
       "</div>"
      ],
      "text/plain": [
       "             0\n",
       "PassengerId   \n",
       "892          0\n",
       "893          0\n",
       "894          0\n",
       "895          0\n",
       "896          0\n",
       "...         ..\n",
       "1305         0\n",
       "1306         1\n",
       "1307         0\n",
       "1308         0\n",
       "1309         0\n",
       "\n",
       "[418 rows x 1 columns]"
      ]
     },
     "execution_count": 71,
     "metadata": {},
     "output_type": "execute_result"
    }
   ],
   "source": [
    "submission.set_index(['PassengerId'])"
   ]
  },
  {
   "cell_type": "code",
   "execution_count": 72,
   "id": "d01103ad",
   "metadata": {
    "execution": {
     "iopub.execute_input": "2023-09-03T17:04:14.626705Z",
     "iopub.status.busy": "2023-09-03T17:04:14.626044Z",
     "iopub.status.idle": "2023-09-03T17:04:14.634418Z",
     "shell.execute_reply": "2023-09-03T17:04:14.633469Z"
    },
    "papermill": {
     "duration": 0.047885,
     "end_time": "2023-09-03T17:04:14.638180",
     "exception": false,
     "start_time": "2023-09-03T17:04:14.590295",
     "status": "completed"
    },
    "tags": []
   },
   "outputs": [],
   "source": [
    "submission.to_csv(\"submission.csv\",index=False)"
   ]
  },
  {
   "cell_type": "code",
   "execution_count": null,
   "id": "16a3e845",
   "metadata": {
    "papermill": {
     "duration": 0.034317,
     "end_time": "2023-09-03T17:04:14.707854",
     "exception": false,
     "start_time": "2023-09-03T17:04:14.673537",
     "status": "completed"
    },
    "tags": []
   },
   "outputs": [],
   "source": []
  },
  {
   "cell_type": "code",
   "execution_count": null,
   "id": "e4d98ce6",
   "metadata": {
    "papermill": {
     "duration": 0.03421,
     "end_time": "2023-09-03T17:04:14.780925",
     "exception": false,
     "start_time": "2023-09-03T17:04:14.746715",
     "status": "completed"
    },
    "tags": []
   },
   "outputs": [],
   "source": []
  },
  {
   "cell_type": "code",
   "execution_count": null,
   "id": "0a33214c",
   "metadata": {
    "papermill": {
     "duration": 0.034065,
     "end_time": "2023-09-03T17:04:14.849581",
     "exception": false,
     "start_time": "2023-09-03T17:04:14.815516",
     "status": "completed"
    },
    "tags": []
   },
   "outputs": [],
   "source": []
  }
 ],
 "kernelspec": {
  "display_name": "Python 3",
  "language": "python",
  "name": "python3"
 },
 "language_info": {
  "codemirror_mode": {
   "name": "ipython",
   "version": 3
  },
  "file_extension": ".py",
  "mimetype": "text/x-python",
  "name": "python",
  "nbconvert_exporter": "python",
  "pygments_lexer": "ipython3",
  "version": "3.6.4"
 },
 "metadata": {
  "kernelspec": {
   "display_name": "Python 3",
   "language": "python",
   "name": "python3"
  },
  "language_info": {
   "codemirror_mode": {
    "name": "ipython",
    "version": 3
   },
   "file_extension": ".py",
   "mimetype": "text/x-python",
   "name": "python",
   "nbconvert_exporter": "python",
   "pygments_lexer": "ipython3",
   "version": "3.10.12"
  },
  "papermill": {
   "default_parameters": {},
   "duration": 18.671396,
   "end_time": "2023-09-03T17:04:15.606844",
   "environment_variables": {},
   "exception": null,
   "input_path": "__notebook__.ipynb",
   "output_path": "__notebook__.ipynb",
   "parameters": {},
   "start_time": "2023-09-03T17:03:56.935448",
   "version": "2.4.0"
  }
 },
 "nbformat": 4,
 "nbformat_minor": 5
}
